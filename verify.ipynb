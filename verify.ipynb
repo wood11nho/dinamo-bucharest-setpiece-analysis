{
 "cells": [
  {
   "cell_type": "code",
   "execution_count": 3,
   "id": "9162ff85",
   "metadata": {},
   "outputs": [
    {
     "name": "stdout",
     "output_type": "stream",
     "text": [
      "Empty DataFrame\n",
      "Columns: [id, minute, player.name, team.name, shot.isGoal, possession.attack.withGoal]\n",
      "Index: []\n"
     ]
    },
    {
     "name": "stderr",
     "output_type": "stream",
     "text": [
      "C:\\Users\\stoic\\AppData\\Local\\Temp\\ipykernel_19076\\2981140188.py:18: FutureWarning: Downcasting object dtype arrays on .fillna, .ffill, .bfill is deprecated and will change in a future version. Call result.infer_objects(copy=False) instead. To opt-in to the future behavior, set `pd.set_option('future.no_silent_downcasting', True)`\n",
      "  df[col] = df[col].fillna(False).astype(bool)\n",
      "C:\\Users\\stoic\\AppData\\Local\\Temp\\ipykernel_19076\\2981140188.py:18: FutureWarning: Downcasting object dtype arrays on .fillna, .ffill, .bfill is deprecated and will change in a future version. Call result.infer_objects(copy=False) instead. To opt-in to the future behavior, set `pd.set_option('future.no_silent_downcasting', True)`\n",
      "  df[col] = df[col].fillna(False).astype(bool)\n",
      "C:\\Users\\stoic\\AppData\\Local\\Temp\\ipykernel_19076\\2981140188.py:18: FutureWarning: Downcasting object dtype arrays on .fillna, .ffill, .bfill is deprecated and will change in a future version. Call result.infer_objects(copy=False) instead. To opt-in to the future behavior, set `pd.set_option('future.no_silent_downcasting', True)`\n",
      "  df[col] = df[col].fillna(False).astype(bool)\n"
     ]
    }
   ],
   "source": [
    "# Print all the set-pieces where P. Neagu appears and it resulted in a goal (goals scored or goals conceded) for Dinamo.\n",
    "import pandas as pd\n",
    "\n",
    "# Load the events data\n",
    "df = pd.read_csv(\"Dinamo_Bucuresti_2024_2025_events.csv\", low_memory=False)\n",
    "\n",
    "# Normalize booleans if needed\n",
    "for col in [\n",
    "    \"shot.isGoal\",\n",
    "    \"shot.onTarget\",\n",
    "    \"possession.attack.withShot\",\n",
    "    \"possession.attack.withShotOnGoal\",\n",
    "    \"possession.attack.withGoal\",\n",
    "]:\n",
    "    if col in df.columns:\n",
    "        if df[col].dtype == object:\n",
    "            df[col] = df[col].astype(str).str.lower().map({\"true\": True, \"false\": False})\n",
    "        df[col] = df[col].fillna(False).astype(bool)\n",
    "\n",
    "# Define set-piece types\n",
    "set_piece_types = [\"corner\", \"free_kick\", \"throw_in\", \"goal_kick\"]\n",
    "\n",
    "# Defensive: Check for column existence before using\n",
    "def safe_col(col, default=\"\"):\n",
    "    return df[col] if col in df.columns else pd.Series([default]*len(df))\n",
    "\n",
    "# Find events where P. Neagu appears\n",
    "if \"player.name\" in df.columns:\n",
    "    mask_neagu = df[\"player.name\"].fillna(\"\").str.contains(\"P. Neagu\", case=False)\n",
    "else:\n",
    "    mask_neagu = pd.Series([False]*len(df))\n",
    "\n",
    "# Find set-piece events\n",
    "if \"type.name\" in df.columns:\n",
    "    mask_set_piece = df[\"type.name\"].isin(set_piece_types)\n",
    "else:\n",
    "    mask_set_piece = pd.Series([False]*len(df))\n",
    "\n",
    "# Find goals scored by Dinamo (shot.isGoal True and team.name == Dinamo București)\n",
    "if \"shot.isGoal\" in df.columns and \"team.name\" in df.columns:\n",
    "    mask_goal_scored = (df[\"shot.isGoal\"] == True) & (df[\"team.name\"] == \"Dinamo București\")\n",
    "    mask_goal_conceded = (df[\"shot.isGoal\"] == True) & (df[\"team.name\"] != \"Dinamo București\")\n",
    "else:\n",
    "    mask_goal_scored = pd.Series([False]*len(df))\n",
    "    mask_goal_conceded = pd.Series([False]*len(df))\n",
    "\n",
    "# Combine masks: set-piece, P. Neagu involved, and goal (scored or conceded)\n",
    "mask = mask_set_piece & mask_neagu & (mask_goal_scored | mask_goal_conceded)\n",
    "\n",
    "# Prepare columns to print, only if they exist\n",
    "cols_to_print = [col for col in [\"id\", \"minute\", \"type.name\", \"player.name\", \"team.name\", \"shot.isGoal\", \"possession.attack.withGoal\"] if col in df.columns]\n",
    "\n",
    "# Print the relevant events\n",
    "result = df[mask]\n",
    "print(result[cols_to_print])\n"
   ]
  }
 ],
 "metadata": {
  "kernelspec": {
   "display_name": "data_science_env",
   "language": "python",
   "name": "python3"
  },
  "language_info": {
   "codemirror_mode": {
    "name": "ipython",
    "version": 3
   },
   "file_extension": ".py",
   "mimetype": "text/x-python",
   "name": "python",
   "nbconvert_exporter": "python",
   "pygments_lexer": "ipython3",
   "version": "3.11.13"
  }
 },
 "nbformat": 4,
 "nbformat_minor": 5
}
