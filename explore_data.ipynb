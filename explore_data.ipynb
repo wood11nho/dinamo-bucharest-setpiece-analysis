{
 "cells": [
  {
   "cell_type": "code",
   "execution_count": 104,
   "id": "de0b82c5",
   "metadata": {},
   "outputs": [],
   "source": [
    "import pandas as pd\n",
    "import numpy as np\n",
    "import plotly.graph_objects as go\n",
    "import plotly.express as px\n",
    "from plotly.subplots import make_subplots\n",
    "import warnings\n",
    "warnings.filterwarnings('ignore')"
   ]
  },
  {
   "cell_type": "code",
   "execution_count": 105,
   "id": "d2714c78",
   "metadata": {},
   "outputs": [],
   "source": [
    "# Set Plotly template for professional appearance\n",
    "import plotly.io as pio\n",
    "pio.templates.default = \"plotly_white\""
   ]
  },
  {
   "cell_type": "code",
   "execution_count": 106,
   "id": "aefb9c88",
   "metadata": {},
   "outputs": [],
   "source": [
    "# =============================================================================\n",
    "# CUSTOM PITCH CREATION FOR 0-100 COORDINATE SYSTEM\n",
    "# =============================================================================\n",
    "\n",
    "def create_custom_pitch(pitch_color='#2E7D32', line_color='white', stripe_color='#388E3C', stripe_pattern=True):\n",
    "    \"\"\"\n",
    "    Create a professional and realistic football pitch using Plotly,\n",
    "    scaled to a 0-100 coordinate system.\n",
    "    \"\"\"\n",
    "    fig = go.Figure()\n",
    "\n",
    "    # Pitch layout\n",
    "    fig.update_layout(\n",
    "        xaxis=dict(range=[-5, 105], visible=False),\n",
    "        yaxis=dict(range=[-5, 105], visible=False),\n",
    "        plot_bgcolor=pitch_color,\n",
    "        height=700,\n",
    "        width=1050,\n",
    "        margin=dict(l=20, r=20, t=50, b=20),\n",
    "        showlegend=False\n",
    "    )\n",
    "\n",
    "    # Shapes for pitch markings\n",
    "    pitch_shapes = []\n",
    "\n",
    "    # Outer lines\n",
    "    pitch_shapes.append(dict(type='rect', x0=0, y0=0, x1=100, y1=100, line=dict(color=line_color, width=2)))\n",
    "    # Center line\n",
    "    pitch_shapes.append(dict(type='line', x0=50, y0=0, x1=50, y1=100, line=dict(color=line_color, width=2)))\n",
    "    \n",
    "    # Penalty areas\n",
    "    pitch_shapes.append(dict(type='rect', x0=0, y0=21.1, x1=16.5, y1=78.9, line=dict(color=line_color, width=2)))\n",
    "    pitch_shapes.append(dict(type='rect', x0=83.5, y0=21.1, x1=100, y1=78.9, line=dict(color=line_color, width=2)))\n",
    "    \n",
    "    # Goal areas\n",
    "    pitch_shapes.append(dict(type='rect', x0=0, y0=36.8, x1=5.5, y1=63.2, line=dict(color=line_color, width=2)))\n",
    "    pitch_shapes.append(dict(type='rect', x0=94.5, y0=36.8, x1=100, y1=63.2, line=dict(color=line_color, width=2)))\n",
    "\n",
    "    # Center circle\n",
    "    pitch_shapes.append(dict(type='circle', x0=40.85, y0=40.85, x1=59.15, y1=59.15, line=dict(color=line_color, width=2)))\n",
    "    \n",
    "    # Penalty arcs\n",
    "    pitch_shapes.append(dict(type='path', path='M 16.5,38.7 C 23.5,43.7, 23.5,56.3, 16.5,61.3', line=dict(color=line_color, width=2)))\n",
    "    pitch_shapes.append(dict(type='path', path='M 83.5,38.7 C 76.5,43.7, 76.5,56.3, 83.5,61.3', line=dict(color=line_color, width=2)))\n",
    "\n",
    "    # Corner arcs\n",
    "    pitch_shapes.append(dict(type='path', path='M 0,1 A 1,1 0 0,1 1,0', line=dict(color=line_color, width=2)))\n",
    "    pitch_shapes.append(dict(type='path', path='M 0,99 A 1,1 0 0,0 1,100', line=dict(color=line_color, width=2)))\n",
    "    pitch_shapes.append(dict(type='path', path='M 100,1 A 1,1 0 0,0 99,0', line=dict(color=line_color, width=2)))\n",
    "    pitch_shapes.append(dict(type='path', path='M 100,99 A 1,1 0 0,1 99,100', line=dict(color=line_color, width=2)))\n",
    "\n",
    "    # Add stripes if enabled\n",
    "    if stripe_pattern:\n",
    "        for i in range(0, 100, 10):\n",
    "            pitch_shapes.append(dict(\n",
    "                type='rect',\n",
    "                x0=i, y0=0, x1=i+5, y1=100,\n",
    "                fillcolor=stripe_color,\n",
    "                layer='below',\n",
    "                line_width=0,\n",
    "                opacity=0.3\n",
    "            ))\n",
    "\n",
    "    fig.update_layout(shapes=pitch_shapes)\n",
    "\n",
    "    # Scatter plots for spots and goals\n",
    "    # Center spot\n",
    "    fig.add_trace(go.Scatter(x=[50], y=[50], mode='markers', marker=dict(color=line_color, size=8), hoverinfo='none'))\n",
    "    # Penalty spots\n",
    "    fig.add_trace(go.Scatter(x=[11, 89], y=[50, 50], mode='markers', marker=dict(color=line_color, size=8), hoverinfo='none'))\n",
    "    \n",
    "    # Goals\n",
    "    fig.add_trace(go.Scatter(x=[-1, -1], y=[45.2, 54.8], mode='lines', line=dict(color=line_color, width=4), hoverinfo='none'))\n",
    "    fig.add_trace(go.Scatter(x=[101, 101], y=[45.2, 54.8], mode='lines', line=dict(color=line_color, width=4), hoverinfo='none'))\n",
    "\n",
    "    return fig"
   ]
  },
  {
   "cell_type": "code",
   "execution_count": 107,
   "id": "602c4eaa",
   "metadata": {},
   "outputs": [
    {
     "data": {
      "application/vnd.plotly.v1+json": {
       "config": {
        "plotlyServerURL": "https://plot.ly"
       },
       "data": [
        {
         "hoverinfo": "none",
         "marker": {
          "color": "white",
          "size": 8
         },
         "mode": "markers",
         "type": "scatter",
         "x": [
          50
         ],
         "y": [
          50
         ]
        },
        {
         "hoverinfo": "none",
         "marker": {
          "color": "white",
          "size": 8
         },
         "mode": "markers",
         "type": "scatter",
         "x": [
          11,
          89
         ],
         "y": [
          50,
          50
         ]
        },
        {
         "hoverinfo": "none",
         "line": {
          "color": "white",
          "width": 4
         },
         "mode": "lines",
         "type": "scatter",
         "x": [
          -1,
          -1
         ],
         "y": [
          45.2,
          54.8
         ]
        },
        {
         "hoverinfo": "none",
         "line": {
          "color": "white",
          "width": 4
         },
         "mode": "lines",
         "type": "scatter",
         "x": [
          101,
          101
         ],
         "y": [
          45.2,
          54.8
         ]
        }
       ],
       "layout": {
        "height": 700,
        "margin": {
         "b": 20,
         "l": 20,
         "r": 20,
         "t": 50
        },
        "plot_bgcolor": "#2E7D32",
        "shapes": [
         {
          "line": {
           "color": "white",
           "width": 2
          },
          "type": "rect",
          "x0": 0,
          "x1": 100,
          "y0": 0,
          "y1": 100
         },
         {
          "line": {
           "color": "white",
           "width": 2
          },
          "type": "line",
          "x0": 50,
          "x1": 50,
          "y0": 0,
          "y1": 100
         },
         {
          "line": {
           "color": "white",
           "width": 2
          },
          "type": "rect",
          "x0": 0,
          "x1": 16.5,
          "y0": 21.1,
          "y1": 78.9
         },
         {
          "line": {
           "color": "white",
           "width": 2
          },
          "type": "rect",
          "x0": 83.5,
          "x1": 100,
          "y0": 21.1,
          "y1": 78.9
         },
         {
          "line": {
           "color": "white",
           "width": 2
          },
          "type": "rect",
          "x0": 0,
          "x1": 5.5,
          "y0": 36.8,
          "y1": 63.2
         },
         {
          "line": {
           "color": "white",
           "width": 2
          },
          "type": "rect",
          "x0": 94.5,
          "x1": 100,
          "y0": 36.8,
          "y1": 63.2
         },
         {
          "line": {
           "color": "white",
           "width": 2
          },
          "type": "circle",
          "x0": 40.85,
          "x1": 59.15,
          "y0": 40.85,
          "y1": 59.15
         },
         {
          "line": {
           "color": "white",
           "width": 2
          },
          "path": "M 16.5,38.7 C 23.5,43.7, 23.5,56.3, 16.5,61.3",
          "type": "path"
         },
         {
          "line": {
           "color": "white",
           "width": 2
          },
          "path": "M 83.5,38.7 C 76.5,43.7, 76.5,56.3, 83.5,61.3",
          "type": "path"
         },
         {
          "line": {
           "color": "white",
           "width": 2
          },
          "path": "M 0,1 A 1,1 0 0,1 1,0",
          "type": "path"
         },
         {
          "line": {
           "color": "white",
           "width": 2
          },
          "path": "M 0,99 A 1,1 0 0,0 1,100",
          "type": "path"
         },
         {
          "line": {
           "color": "white",
           "width": 2
          },
          "path": "M 100,1 A 1,1 0 0,0 99,0",
          "type": "path"
         },
         {
          "line": {
           "color": "white",
           "width": 2
          },
          "path": "M 100,99 A 1,1 0 0,1 99,100",
          "type": "path"
         },
         {
          "fillcolor": "#388E3C",
          "layer": "below",
          "line": {
           "width": 0
          },
          "opacity": 0.3,
          "type": "rect",
          "x0": 0,
          "x1": 5,
          "y0": 0,
          "y1": 100
         },
         {
          "fillcolor": "#388E3C",
          "layer": "below",
          "line": {
           "width": 0
          },
          "opacity": 0.3,
          "type": "rect",
          "x0": 10,
          "x1": 15,
          "y0": 0,
          "y1": 100
         },
         {
          "fillcolor": "#388E3C",
          "layer": "below",
          "line": {
           "width": 0
          },
          "opacity": 0.3,
          "type": "rect",
          "x0": 20,
          "x1": 25,
          "y0": 0,
          "y1": 100
         },
         {
          "fillcolor": "#388E3C",
          "layer": "below",
          "line": {
           "width": 0
          },
          "opacity": 0.3,
          "type": "rect",
          "x0": 30,
          "x1": 35,
          "y0": 0,
          "y1": 100
         },
         {
          "fillcolor": "#388E3C",
          "layer": "below",
          "line": {
           "width": 0
          },
          "opacity": 0.3,
          "type": "rect",
          "x0": 40,
          "x1": 45,
          "y0": 0,
          "y1": 100
         },
         {
          "fillcolor": "#388E3C",
          "layer": "below",
          "line": {
           "width": 0
          },
          "opacity": 0.3,
          "type": "rect",
          "x0": 50,
          "x1": 55,
          "y0": 0,
          "y1": 100
         },
         {
          "fillcolor": "#388E3C",
          "layer": "below",
          "line": {
           "width": 0
          },
          "opacity": 0.3,
          "type": "rect",
          "x0": 60,
          "x1": 65,
          "y0": 0,
          "y1": 100
         },
         {
          "fillcolor": "#388E3C",
          "layer": "below",
          "line": {
           "width": 0
          },
          "opacity": 0.3,
          "type": "rect",
          "x0": 70,
          "x1": 75,
          "y0": 0,
          "y1": 100
         },
         {
          "fillcolor": "#388E3C",
          "layer": "below",
          "line": {
           "width": 0
          },
          "opacity": 0.3,
          "type": "rect",
          "x0": 80,
          "x1": 85,
          "y0": 0,
          "y1": 100
         },
         {
          "fillcolor": "#388E3C",
          "layer": "below",
          "line": {
           "width": 0
          },
          "opacity": 0.3,
          "type": "rect",
          "x0": 90,
          "x1": 95,
          "y0": 0,
          "y1": 100
         }
        ],
        "showlegend": false,
        "template": {
         "data": {
          "bar": [
           {
            "error_x": {
             "color": "#2a3f5f"
            },
            "error_y": {
             "color": "#2a3f5f"
            },
            "marker": {
             "line": {
              "color": "white",
              "width": 0.5
             },
             "pattern": {
              "fillmode": "overlay",
              "size": 10,
              "solidity": 0.2
             }
            },
            "type": "bar"
           }
          ],
          "barpolar": [
           {
            "marker": {
             "line": {
              "color": "white",
              "width": 0.5
             },
             "pattern": {
              "fillmode": "overlay",
              "size": 10,
              "solidity": 0.2
             }
            },
            "type": "barpolar"
           }
          ],
          "carpet": [
           {
            "aaxis": {
             "endlinecolor": "#2a3f5f",
             "gridcolor": "#C8D4E3",
             "linecolor": "#C8D4E3",
             "minorgridcolor": "#C8D4E3",
             "startlinecolor": "#2a3f5f"
            },
            "baxis": {
             "endlinecolor": "#2a3f5f",
             "gridcolor": "#C8D4E3",
             "linecolor": "#C8D4E3",
             "minorgridcolor": "#C8D4E3",
             "startlinecolor": "#2a3f5f"
            },
            "type": "carpet"
           }
          ],
          "choropleth": [
           {
            "colorbar": {
             "outlinewidth": 0,
             "ticks": ""
            },
            "type": "choropleth"
           }
          ],
          "contour": [
           {
            "colorbar": {
             "outlinewidth": 0,
             "ticks": ""
            },
            "colorscale": [
             [
              0,
              "#0d0887"
             ],
             [
              0.1111111111111111,
              "#46039f"
             ],
             [
              0.2222222222222222,
              "#7201a8"
             ],
             [
              0.3333333333333333,
              "#9c179e"
             ],
             [
              0.4444444444444444,
              "#bd3786"
             ],
             [
              0.5555555555555556,
              "#d8576b"
             ],
             [
              0.6666666666666666,
              "#ed7953"
             ],
             [
              0.7777777777777778,
              "#fb9f3a"
             ],
             [
              0.8888888888888888,
              "#fdca26"
             ],
             [
              1,
              "#f0f921"
             ]
            ],
            "type": "contour"
           }
          ],
          "contourcarpet": [
           {
            "colorbar": {
             "outlinewidth": 0,
             "ticks": ""
            },
            "type": "contourcarpet"
           }
          ],
          "heatmap": [
           {
            "colorbar": {
             "outlinewidth": 0,
             "ticks": ""
            },
            "colorscale": [
             [
              0,
              "#0d0887"
             ],
             [
              0.1111111111111111,
              "#46039f"
             ],
             [
              0.2222222222222222,
              "#7201a8"
             ],
             [
              0.3333333333333333,
              "#9c179e"
             ],
             [
              0.4444444444444444,
              "#bd3786"
             ],
             [
              0.5555555555555556,
              "#d8576b"
             ],
             [
              0.6666666666666666,
              "#ed7953"
             ],
             [
              0.7777777777777778,
              "#fb9f3a"
             ],
             [
              0.8888888888888888,
              "#fdca26"
             ],
             [
              1,
              "#f0f921"
             ]
            ],
            "type": "heatmap"
           }
          ],
          "histogram": [
           {
            "marker": {
             "pattern": {
              "fillmode": "overlay",
              "size": 10,
              "solidity": 0.2
             }
            },
            "type": "histogram"
           }
          ],
          "histogram2d": [
           {
            "colorbar": {
             "outlinewidth": 0,
             "ticks": ""
            },
            "colorscale": [
             [
              0,
              "#0d0887"
             ],
             [
              0.1111111111111111,
              "#46039f"
             ],
             [
              0.2222222222222222,
              "#7201a8"
             ],
             [
              0.3333333333333333,
              "#9c179e"
             ],
             [
              0.4444444444444444,
              "#bd3786"
             ],
             [
              0.5555555555555556,
              "#d8576b"
             ],
             [
              0.6666666666666666,
              "#ed7953"
             ],
             [
              0.7777777777777778,
              "#fb9f3a"
             ],
             [
              0.8888888888888888,
              "#fdca26"
             ],
             [
              1,
              "#f0f921"
             ]
            ],
            "type": "histogram2d"
           }
          ],
          "histogram2dcontour": [
           {
            "colorbar": {
             "outlinewidth": 0,
             "ticks": ""
            },
            "colorscale": [
             [
              0,
              "#0d0887"
             ],
             [
              0.1111111111111111,
              "#46039f"
             ],
             [
              0.2222222222222222,
              "#7201a8"
             ],
             [
              0.3333333333333333,
              "#9c179e"
             ],
             [
              0.4444444444444444,
              "#bd3786"
             ],
             [
              0.5555555555555556,
              "#d8576b"
             ],
             [
              0.6666666666666666,
              "#ed7953"
             ],
             [
              0.7777777777777778,
              "#fb9f3a"
             ],
             [
              0.8888888888888888,
              "#fdca26"
             ],
             [
              1,
              "#f0f921"
             ]
            ],
            "type": "histogram2dcontour"
           }
          ],
          "mesh3d": [
           {
            "colorbar": {
             "outlinewidth": 0,
             "ticks": ""
            },
            "type": "mesh3d"
           }
          ],
          "parcoords": [
           {
            "line": {
             "colorbar": {
              "outlinewidth": 0,
              "ticks": ""
             }
            },
            "type": "parcoords"
           }
          ],
          "pie": [
           {
            "automargin": true,
            "type": "pie"
           }
          ],
          "scatter": [
           {
            "fillpattern": {
             "fillmode": "overlay",
             "size": 10,
             "solidity": 0.2
            },
            "type": "scatter"
           }
          ],
          "scatter3d": [
           {
            "line": {
             "colorbar": {
              "outlinewidth": 0,
              "ticks": ""
             }
            },
            "marker": {
             "colorbar": {
              "outlinewidth": 0,
              "ticks": ""
             }
            },
            "type": "scatter3d"
           }
          ],
          "scattercarpet": [
           {
            "marker": {
             "colorbar": {
              "outlinewidth": 0,
              "ticks": ""
             }
            },
            "type": "scattercarpet"
           }
          ],
          "scattergeo": [
           {
            "marker": {
             "colorbar": {
              "outlinewidth": 0,
              "ticks": ""
             }
            },
            "type": "scattergeo"
           }
          ],
          "scattergl": [
           {
            "marker": {
             "colorbar": {
              "outlinewidth": 0,
              "ticks": ""
             }
            },
            "type": "scattergl"
           }
          ],
          "scattermap": [
           {
            "marker": {
             "colorbar": {
              "outlinewidth": 0,
              "ticks": ""
             }
            },
            "type": "scattermap"
           }
          ],
          "scattermapbox": [
           {
            "marker": {
             "colorbar": {
              "outlinewidth": 0,
              "ticks": ""
             }
            },
            "type": "scattermapbox"
           }
          ],
          "scatterpolar": [
           {
            "marker": {
             "colorbar": {
              "outlinewidth": 0,
              "ticks": ""
             }
            },
            "type": "scatterpolar"
           }
          ],
          "scatterpolargl": [
           {
            "marker": {
             "colorbar": {
              "outlinewidth": 0,
              "ticks": ""
             }
            },
            "type": "scatterpolargl"
           }
          ],
          "scatterternary": [
           {
            "marker": {
             "colorbar": {
              "outlinewidth": 0,
              "ticks": ""
             }
            },
            "type": "scatterternary"
           }
          ],
          "surface": [
           {
            "colorbar": {
             "outlinewidth": 0,
             "ticks": ""
            },
            "colorscale": [
             [
              0,
              "#0d0887"
             ],
             [
              0.1111111111111111,
              "#46039f"
             ],
             [
              0.2222222222222222,
              "#7201a8"
             ],
             [
              0.3333333333333333,
              "#9c179e"
             ],
             [
              0.4444444444444444,
              "#bd3786"
             ],
             [
              0.5555555555555556,
              "#d8576b"
             ],
             [
              0.6666666666666666,
              "#ed7953"
             ],
             [
              0.7777777777777778,
              "#fb9f3a"
             ],
             [
              0.8888888888888888,
              "#fdca26"
             ],
             [
              1,
              "#f0f921"
             ]
            ],
            "type": "surface"
           }
          ],
          "table": [
           {
            "cells": {
             "fill": {
              "color": "#EBF0F8"
             },
             "line": {
              "color": "white"
             }
            },
            "header": {
             "fill": {
              "color": "#C8D4E3"
             },
             "line": {
              "color": "white"
             }
            },
            "type": "table"
           }
          ]
         },
         "layout": {
          "annotationdefaults": {
           "arrowcolor": "#2a3f5f",
           "arrowhead": 0,
           "arrowwidth": 1
          },
          "autotypenumbers": "strict",
          "coloraxis": {
           "colorbar": {
            "outlinewidth": 0,
            "ticks": ""
           }
          },
          "colorscale": {
           "diverging": [
            [
             0,
             "#8e0152"
            ],
            [
             0.1,
             "#c51b7d"
            ],
            [
             0.2,
             "#de77ae"
            ],
            [
             0.3,
             "#f1b6da"
            ],
            [
             0.4,
             "#fde0ef"
            ],
            [
             0.5,
             "#f7f7f7"
            ],
            [
             0.6,
             "#e6f5d0"
            ],
            [
             0.7,
             "#b8e186"
            ],
            [
             0.8,
             "#7fbc41"
            ],
            [
             0.9,
             "#4d9221"
            ],
            [
             1,
             "#276419"
            ]
           ],
           "sequential": [
            [
             0,
             "#0d0887"
            ],
            [
             0.1111111111111111,
             "#46039f"
            ],
            [
             0.2222222222222222,
             "#7201a8"
            ],
            [
             0.3333333333333333,
             "#9c179e"
            ],
            [
             0.4444444444444444,
             "#bd3786"
            ],
            [
             0.5555555555555556,
             "#d8576b"
            ],
            [
             0.6666666666666666,
             "#ed7953"
            ],
            [
             0.7777777777777778,
             "#fb9f3a"
            ],
            [
             0.8888888888888888,
             "#fdca26"
            ],
            [
             1,
             "#f0f921"
            ]
           ],
           "sequentialminus": [
            [
             0,
             "#0d0887"
            ],
            [
             0.1111111111111111,
             "#46039f"
            ],
            [
             0.2222222222222222,
             "#7201a8"
            ],
            [
             0.3333333333333333,
             "#9c179e"
            ],
            [
             0.4444444444444444,
             "#bd3786"
            ],
            [
             0.5555555555555556,
             "#d8576b"
            ],
            [
             0.6666666666666666,
             "#ed7953"
            ],
            [
             0.7777777777777778,
             "#fb9f3a"
            ],
            [
             0.8888888888888888,
             "#fdca26"
            ],
            [
             1,
             "#f0f921"
            ]
           ]
          },
          "colorway": [
           "#636efa",
           "#EF553B",
           "#00cc96",
           "#ab63fa",
           "#FFA15A",
           "#19d3f3",
           "#FF6692",
           "#B6E880",
           "#FF97FF",
           "#FECB52"
          ],
          "font": {
           "color": "#2a3f5f"
          },
          "geo": {
           "bgcolor": "white",
           "lakecolor": "white",
           "landcolor": "white",
           "showlakes": true,
           "showland": true,
           "subunitcolor": "#C8D4E3"
          },
          "hoverlabel": {
           "align": "left"
          },
          "hovermode": "closest",
          "mapbox": {
           "style": "light"
          },
          "paper_bgcolor": "white",
          "plot_bgcolor": "white",
          "polar": {
           "angularaxis": {
            "gridcolor": "#EBF0F8",
            "linecolor": "#EBF0F8",
            "ticks": ""
           },
           "bgcolor": "white",
           "radialaxis": {
            "gridcolor": "#EBF0F8",
            "linecolor": "#EBF0F8",
            "ticks": ""
           }
          },
          "scene": {
           "xaxis": {
            "backgroundcolor": "white",
            "gridcolor": "#DFE8F3",
            "gridwidth": 2,
            "linecolor": "#EBF0F8",
            "showbackground": true,
            "ticks": "",
            "zerolinecolor": "#EBF0F8"
           },
           "yaxis": {
            "backgroundcolor": "white",
            "gridcolor": "#DFE8F3",
            "gridwidth": 2,
            "linecolor": "#EBF0F8",
            "showbackground": true,
            "ticks": "",
            "zerolinecolor": "#EBF0F8"
           },
           "zaxis": {
            "backgroundcolor": "white",
            "gridcolor": "#DFE8F3",
            "gridwidth": 2,
            "linecolor": "#EBF0F8",
            "showbackground": true,
            "ticks": "",
            "zerolinecolor": "#EBF0F8"
           }
          },
          "shapedefaults": {
           "line": {
            "color": "#2a3f5f"
           }
          },
          "ternary": {
           "aaxis": {
            "gridcolor": "#DFE8F3",
            "linecolor": "#A2B1C6",
            "ticks": ""
           },
           "baxis": {
            "gridcolor": "#DFE8F3",
            "linecolor": "#A2B1C6",
            "ticks": ""
           },
           "bgcolor": "white",
           "caxis": {
            "gridcolor": "#DFE8F3",
            "linecolor": "#A2B1C6",
            "ticks": ""
           }
          },
          "title": {
           "x": 0.05
          },
          "xaxis": {
           "automargin": true,
           "gridcolor": "#EBF0F8",
           "linecolor": "#EBF0F8",
           "ticks": "",
           "title": {
            "standoff": 15
           },
           "zerolinecolor": "#EBF0F8",
           "zerolinewidth": 2
          },
          "yaxis": {
           "automargin": true,
           "gridcolor": "#EBF0F8",
           "linecolor": "#EBF0F8",
           "ticks": "",
           "title": {
            "standoff": 15
           },
           "zerolinecolor": "#EBF0F8",
           "zerolinewidth": 2
          }
         }
        },
        "width": 1050,
        "xaxis": {
         "range": [
          -5,
          105
         ],
         "visible": false
        },
        "yaxis": {
         "range": [
          -5,
          105
         ],
         "visible": false
        }
       }
      }
     },
     "metadata": {},
     "output_type": "display_data"
    }
   ],
   "source": [
    "# Display the new pitch design\n",
    "pitch_fig = create_custom_pitch()\n",
    "pitch_fig.show()"
   ]
  },
  {
   "cell_type": "code",
   "execution_count": 108,
   "id": "dabf683e",
   "metadata": {},
   "outputs": [],
   "source": [
    "# =============================================================================\n",
    "# STEP 1: SETUP AND DATA PREPARATION\n",
    "# =============================================================================\n",
    "\n",
    "def load_and_prepare_data():\n",
    "    \"\"\"\n",
    "    Load and prepare the dataset for set-piece analysis\n",
    "    \"\"\"\n",
    "    print(\"=== STEP 1: DATA LOADING AND PREPARATION ===\")\n",
    "    \n",
    "    try:\n",
    "        # Load the dataset\n",
    "        df = pd.read_csv('Dinamo_Bucuresti_2024_2025_events.csv', low_memory=False)\n",
    "        print(f\"✓ Dataset loaded successfully: {len(df)} events\")\n",
    "        \n",
    "        # Basic dataset info\n",
    "        print(f\"✓ Dataset shape: {df.shape}\")\n",
    "        print(f\"✓ Total matches: {df['matchId'].nunique()}\")\n",
    "        print(f\"✓ Date range: {df['date'].min()} to {df['date'].max()}\")\n",
    "        \n",
    "        return df\n",
    "        \n",
    "    except FileNotFoundError:\n",
    "        print(\"❌ Error: Dataset file not found!\")\n",
    "        return None"
   ]
  },
  {
   "cell_type": "code",
   "execution_count": 109,
   "id": "a3b1ed41",
   "metadata": {},
   "outputs": [],
   "source": [
    "def filter_set_pieces(df):\n",
    "    \"\"\"\n",
    "    Filter the dataset for set-piece events only\n",
    "    \"\"\"\n",
    "    print(\"\\n--- Filtering for Set-Piece Events ---\")\n",
    "    \n",
    "    # Define set-piece event types\n",
    "    set_piece_types = ['corner', 'free_kick', 'throw_in', 'goal_kick']\n",
    "    \n",
    "    # Filter for set-piece events\n",
    "    set_piece_events = df[df['type.primary'].isin(set_piece_types)].copy()\n",
    "    \n",
    "    # Add set-piece classification\n",
    "    set_piece_events['set_piece_category'] = set_piece_events['type.primary'].map({\n",
    "        'corner': 'Corner Kick',\n",
    "        'free_kick': 'Free Kick', \n",
    "        'throw_in': 'Throw In',\n",
    "        'goal_kick': 'Goal Kick'\n",
    "    })\n",
    "    \n",
    "    # Add team context\n",
    "    set_piece_events['is_dinamo'] = set_piece_events['team.name'] == 'Dinamo Bucureşti'\n",
    "    set_piece_events['context'] = set_piece_events['is_dinamo'].map({\n",
    "        True: 'Dinamo Attacking',\n",
    "        False: 'Dinamo Defending'\n",
    "    })\n",
    "    \n",
    "    print(f\"✓ Total set-piece events identified: {len(set_piece_events)}\")\n",
    "    print(f\"✓ Set-piece breakdown:\")\n",
    "    for sp_type in set_piece_types:\n",
    "        count = len(set_piece_events[set_piece_events['type.primary'] == sp_type])\n",
    "        print(f\"  • {sp_type.title()}: {count}\")\n",
    "    \n",
    "    return set_piece_events"
   ]
  },
  {
   "cell_type": "code",
   "execution_count": 110,
   "id": "5bc5e746",
   "metadata": {},
   "outputs": [],
   "source": [
    "def clean_set_piece_data(set_piece_events):\n",
    "    \"\"\"\n",
    "    Clean and prepare set-piece data for analysis\n",
    "    \"\"\"\n",
    "    print(\"\\n--- Cleaning Set-Piece Data ---\")\n",
    "    \n",
    "    # Remove events with missing location data\n",
    "    initial_count = len(set_piece_events)\n",
    "    set_piece_events = set_piece_events.dropna(subset=['location.x', 'location.y'])\n",
    "    \n",
    "    # Remove events with missing player data\n",
    "    set_piece_events = set_piece_events.dropna(subset=['player.name'])\n",
    "    \n",
    "    # Ensure numeric columns are properly typed\n",
    "    numeric_columns = ['location.x', 'location.y', 'possession.duration', 'possession.attack.xg']\n",
    "    for col in numeric_columns:\n",
    "        if col in set_piece_events.columns:\n",
    "            set_piece_events[col] = pd.to_numeric(set_piece_events[col], errors='coerce')\n",
    "    \n",
    "    final_count = len(set_piece_events)\n",
    "    print(f\"✓ Data cleaned: {initial_count - final_count} events removed due to missing data\")\n",
    "    print(f\"✓ Final set-piece dataset: {final_count} events\")\n",
    "    \n",
    "    return set_piece_events"
   ]
  },
  {
   "cell_type": "code",
   "execution_count": 111,
   "id": "d4be6b7b",
   "metadata": {},
   "outputs": [],
   "source": [
    "# =============================================================================\n",
    "# STEP 2: OFFENSIVE SET-PIECE ANALYSIS (DINAMO ATTACKING)\n",
    "# =============================================================================\n",
    "\n",
    "def analyze_offensive_set_pieces(set_piece_events):\n",
    "    \"\"\"\n",
    "    Analyze Dinamo's offensive set-piece strategies\n",
    "    \"\"\"\n",
    "    print(\"\\n=== STEP 2: OFFENSIVE SET-PIECE ANALYSIS ===\")\n",
    "    \n",
    "    # Filter for Dinamo's attacking set-pieces\n",
    "    dinamo_attacking = set_piece_events[\n",
    "        (set_piece_events['is_dinamo'] == True) & \n",
    "        (set_piece_events['type.primary'].isin(['corner', 'free_kick']))\n",
    "    ].copy()\n",
    "    \n",
    "    print(f\"✓ Dinamo attacking set-pieces analyzed: {len(dinamo_attacking)}\")\n",
    "    \n",
    "    return dinamo_attacking"
   ]
  },
  {
   "cell_type": "code",
   "execution_count": 112,
   "id": "9ef4e394",
   "metadata": {},
   "outputs": [],
   "source": [
    "def identify_main_takers(dinamo_attacking):\n",
    "    \"\"\"\n",
    "    Identify the primary set-piece takers for Dinamo with position-based analysis\n",
    "    \"\"\"\n",
    "    print(\"\\n--- Identifying Main Set-Piece Takers ---\")\n",
    "    \n",
    "    # Analyze corner takers\n",
    "    corner_takers = dinamo_attacking[dinamo_attacking['type.primary'] == 'corner']['player.name'].value_counts()\n",
    "    \n",
    "    # Analyze free-kick takers with position classification\n",
    "    free_kicks = dinamo_attacking[dinamo_attacking['type.primary'] == 'free_kick'].copy()\n",
    "    \n",
    "    # Classify free-kicks by position and destination\n",
    "    free_kicks['free_kick_type'] = 'Other'\n",
    "    \n",
    "    for idx, fk in free_kicks.iterrows():\n",
    "        x_pos = fk['location.x']\n",
    "        \n",
    "        # Check if it's an attacking free-kick (in attacking third)\n",
    "        if x_pos > 66:\n",
    "            # Check if it leads to a shot or goal\n",
    "            if pd.notna(fk['possession.attack.withShot']) and fk['possession.attack.withShot']:\n",
    "                free_kicks.loc[idx, 'free_kick_type'] = 'Attacking (Dangerous)'\n",
    "            else:\n",
    "                free_kicks.loc[idx, 'free_kick_type'] = 'Attacking (Non-Dangerous)'\n",
    "        elif x_pos > 33:\n",
    "            free_kicks.loc[idx, 'free_kick_type'] = 'Middle Third'\n",
    "        else:\n",
    "            free_kicks.loc[idx, 'free_kick_type'] = 'Defensive Third'\n",
    "    \n",
    "    # Get takers by free-kick type\n",
    "    attacking_dangerous_takers = free_kicks[free_kicks['free_kick_type'] == 'Attacking (Dangerous)']['player.name'].value_counts()\n",
    "    attacking_non_dangerous_takers = free_kicks[free_kicks['free_kick_type'] == 'Attacking (Non-Dangerous)']['player.name'].value_counts()\n",
    "    other_free_kick_takers = free_kicks[free_kicks['free_kick_type'].isin(['Middle Third', 'Defensive Third'])]['player.name'].value_counts()\n",
    "    \n",
    "    print(\"🏃 CORNER TAKERS (Top 5):\")\n",
    "    for i, (player, count) in enumerate(corner_takers.head().items(), 1):\n",
    "        print(f\"  {i}. {player}: {count} corners\")\n",
    "    \n",
    "    print(\"\\n⚽ ATTACKING FREE-KICK TAKERS (Dangerous - Top 5):\")\n",
    "    for i, (player, count) in enumerate(attacking_dangerous_takers.head().items(), 1):\n",
    "        print(f\"  {i}. {player}: {count} dangerous attacking free-kicks\")\n",
    "    \n",
    "    print(\"\\n⚽ ATTACKING FREE-KICK TAKERS (Non-Dangerous - Top 5):\")\n",
    "    for i, (player, count) in enumerate(attacking_non_dangerous_takers.head().items(), 1):\n",
    "        print(f\"  {i}. {player}: {count} non-dangerous attacking free-kicks\")\n",
    "    \n",
    "    print(\"\\n⚽ OTHER FREE-KICK TAKERS (Top 5):\")\n",
    "    for i, (player, count) in enumerate(other_free_kick_takers.head().items(), 1):\n",
    "        print(f\"  {i}. {player}: {count} other free-kicks\")\n",
    "    \n",
    "    # Create comprehensive visualization using Plotly\n",
    "    fig = make_subplots(\n",
    "        rows=2, cols=2,\n",
    "        subplot_titles=('Top 5 Corner Takers', 'Top 5 Dangerous Attacking Free-Kick Takers',\n",
    "                       'Top 5 Non-Dangerous Attacking Free-Kick Takers', 'Top 5 Other Free-Kick Takers'),\n",
    "        specs=[[{\"type\": \"bar\"}, {\"type\": \"bar\"}],\n",
    "               [{\"type\": \"bar\"}, {\"type\": \"bar\"}]]\n",
    "    )\n",
    "    \n",
    "    # Corner takers chart\n",
    "    if len(corner_takers) > 0:\n",
    "        fig.add_trace(\n",
    "            go.Bar(\n",
    "                x=corner_takers.head(5).index,\n",
    "                y=corner_takers.head(5).values,\n",
    "                name='Corner Takers',\n",
    "                marker_color='skyblue',\n",
    "                marker_line_color='navy',\n",
    "                marker_line_width=1\n",
    "            ),\n",
    "            row=1, col=1\n",
    "        )\n",
    "    \n",
    "    # Dangerous attacking free-kick takers\n",
    "    if len(attacking_dangerous_takers) > 0:\n",
    "        fig.add_trace(\n",
    "            go.Bar(\n",
    "                x=attacking_dangerous_takers.head(5).index,\n",
    "                y=attacking_dangerous_takers.head(5).values,\n",
    "                name='Dangerous Attacking Free-Kicks',\n",
    "                marker_color='red',\n",
    "                marker_line_color='darkred',\n",
    "                marker_line_width=1\n",
    "            ),\n",
    "            row=1, col=2\n",
    "        )\n",
    "    \n",
    "    # Non-dangerous attacking free-kick takers\n",
    "    if len(attacking_non_dangerous_takers) > 0:\n",
    "        fig.add_trace(\n",
    "            go.Bar(\n",
    "                x=attacking_non_dangerous_takers.head(5).index,\n",
    "                y=attacking_non_dangerous_takers.head(5).values,\n",
    "                name='Non-Dangerous Attacking Free-Kicks',\n",
    "                marker_color='orange',\n",
    "                marker_line_color='darkorange',\n",
    "                marker_line_width=1\n",
    "            ),\n",
    "            row=2, col=1\n",
    "        )\n",
    "    \n",
    "    # Other free-kick takers\n",
    "    if len(other_free_kick_takers) > 0:\n",
    "        fig.add_trace(\n",
    "            go.Bar(\n",
    "                x=other_free_kick_takers.head(5).index,\n",
    "                y=other_free_kick_takers.head(5).values,\n",
    "                name='Other Free-Kicks',\n",
    "                marker_color='lightcoral',\n",
    "                marker_line_color='darkred',\n",
    "                marker_line_width=1\n",
    "            ),\n",
    "            row=2, col=2\n",
    "        )\n",
    "    \n",
    "    # Update layout\n",
    "    fig.update_layout(\n",
    "        title_text=\"Comprehensive Set-Piece Takers Analysis\",\n",
    "        title_x=0.5,\n",
    "        height=800,\n",
    "        showlegend=False\n",
    "    )\n",
    "    \n",
    "    # Update x-axis labels for better readability\n",
    "    fig.update_xaxes(tickangle=45)\n",
    "    \n",
    "    # Save and show\n",
    "    fig.write_html('set_piece_viz_html/set_piece_takers_comprehensive.html')\n",
    "    fig.show()\n",
    "    \n",
    "    return corner_takers, attacking_dangerous_takers, attacking_non_dangerous_takers, other_free_kick_takers"
   ]
  },
  {
   "cell_type": "code",
   "execution_count": 113,
   "id": "ef13a374",
   "metadata": {},
   "outputs": [],
   "source": [
    "def analyze_delivery_zones(dinamo_attacking):\n",
    "    \"\"\"\n",
    "    Analyze set-piece delivery zones using contour heatmaps for frequency\n",
    "    and xG-scaled points for danger.\n",
    "    \"\"\"\n",
    "    print(\"\\n--- Analyzing Delivery Zones & Danger ---\")\n",
    "\n",
    "    # --- CORNER KICK ANALYSIS ---\n",
    "    corners = dinamo_attacking[dinamo_attacking['type.primary'] == 'corner'].copy()\n",
    "    corners.dropna(subset=['location.x', 'location.y', 'pass.endLocation.x', 'pass.endLocation.y'], inplace=True)\n",
    "    corners['possession.attack.xg'].fillna(0, inplace=True)\n",
    "    \n",
    "    if not corners.empty:\n",
    "        print(f\"Analyzing {len(corners)} corner kicks...\")\n",
    "        \n",
    "        fig_corners = create_custom_pitch()\n",
    "        fig_corners.update_layout(\n",
    "            title=dict(text=\"<b>Corner Kick Analysis: Delivery Zones & Danger (xG)</b>\", x=0.5, font=dict(size=20, color='white')),\n",
    "            legend=dict(yanchor=\"top\", y=0.95, xanchor=\"left\", x=0.01, bgcolor='rgba(0,0,0,0.5)', font=dict(color='white'))\n",
    "        )\n",
    "\n",
    "        # Add contour heatmap for delivery frequency\n",
    "        fig_corners.add_trace(go.Histogram2dContour(\n",
    "            x=corners['pass.endLocation.x'],\n",
    "            y=corners['pass.endLocation.y'],\n",
    "            colorscale='Reds',\n",
    "            showscale=False,\n",
    "            name='Delivery Frequency',\n",
    "            contours=dict(coloring='heatmap'),\n",
    "            opacity=0.5\n",
    "        ))\n",
    "\n",
    "        # Add scatter points for each delivery, sized and colored by xG\n",
    "        fig_corners.add_trace(go.Scatter(\n",
    "            x=corners['pass.endLocation.x'],\n",
    "            y=corners['pass.endLocation.y'],\n",
    "            mode='markers',\n",
    "            marker=dict(\n",
    "                color=corners['possession.attack.xg'],\n",
    "                colorscale='YlOrRd',\n",
    "                size=corners['possession.attack.xg'] * 70 + 10,\n",
    "                sizemode='diameter',\n",
    "                showscale=True,\n",
    "                colorbar=dict(title='xG', x=0.95),\n",
    "                opacity=0.8,\n",
    "                line=dict(color='white', width=1)\n",
    "            ),\n",
    "            name='Delivery Danger (xG)',\n",
    "            hoverinfo='text',\n",
    "            text=[f\"xG: {xg:.3f}\" for xg in corners['possession.attack.xg']]\n",
    "        ))\n",
    "\n",
    "        fig_corners.write_html('set_piece_viz_html/corner_delivery_zones_heatmap.html')\n",
    "        fig_corners.show()\n",
    "        print(\"✓ Corner delivery analysis created. High xG values indicate dangerous deliveries.\")\n",
    "\n",
    "    # --- ATTACKING FREE KICK ANALYSIS ---\n",
    "    attacking_fks = dinamo_attacking[\n",
    "        (dinamo_attacking['type.primary'] == 'free_kick') & \n",
    "        (dinamo_attacking['location.x'] > 50)\n",
    "    ].copy()\n",
    "    attacking_fks.dropna(subset=['location.x', 'location.y', 'pass.endLocation.x', 'pass.endLocation.y'], inplace=True)\n",
    "    attacking_fks['possession.attack.xg'].fillna(0, inplace=True)\n",
    "\n",
    "    if not attacking_fks.empty:\n",
    "        print(f\"\\nAnalyzing {len(attacking_fks)} attacking free kicks...\")\n",
    "\n",
    "        fig_fks = create_custom_pitch()\n",
    "        fig_fks.update_layout(\n",
    "            title=dict(text=\"<b>Attacking Free Kick Analysis: Delivery Zones & Danger (xG)</b>\", x=0.5, font=dict(size=20, color='white')),\n",
    "            legend=dict(yanchor=\"top\", y=0.95, xanchor=\"left\", x=0.01, bgcolor='rgba(0,0,0,0.5)', font=dict(color='white'))\n",
    "        )\n",
    "\n",
    "        # Add contour heatmap for delivery frequency\n",
    "        fig_fks.add_trace(go.Histogram2dContour(\n",
    "            x=attacking_fks['pass.endLocation.x'],\n",
    "            y=attacking_fks['pass.endLocation.y'],\n",
    "            colorscale='Blues',\n",
    "            showscale=False,\n",
    "            name='Delivery Frequency',\n",
    "            contours=dict(coloring='heatmap'),\n",
    "            opacity=0.5\n",
    "        ))\n",
    "\n",
    "        # Add scatter points for each delivery, sized and colored by xG\n",
    "        fig_fks.add_trace(go.Scatter(\n",
    "            x=attacking_fks['pass.endLocation.x'],\n",
    "            y=attacking_fks['pass.endLocation.y'],\n",
    "            mode='markers',\n",
    "            marker=dict(\n",
    "                color=attacking_fks['possession.attack.xg'],\n",
    "                colorscale='Cividis',\n",
    "                size=attacking_fks['possession.attack.xg'] * 70 + 10,\n",
    "                sizemode='diameter',\n",
    "                showscale=True,\n",
    "                colorbar=dict(title='xG', x=0.95),\n",
    "                opacity=0.8,\n",
    "                line=dict(color='white', width=1)\n",
    "            ),\n",
    "            name='Delivery Danger (xG)',\n",
    "            hoverinfo='text',\n",
    "            text=[f\"xG: {xg:.3f}\" for xg in attacking_fks['possession.attack.xg']]\n",
    "        ))\n",
    "        \n",
    "        # Mark the location of the free kicks\n",
    "        fig_fks.add_trace(go.Scatter(\n",
    "            x=attacking_fks['location.x'],\n",
    "            y=attacking_fks['location.y'],\n",
    "            mode='markers',\n",
    "            marker=dict(color='cyan', size=8, symbol='x'),\n",
    "            name='Free Kick Location'\n",
    "        ))\n",
    "\n",
    "        fig_fks.write_html('set_piece_viz_html/attacking_free_kick_delivery_zones_heatmap.html')\n",
    "        fig_fks.show()\n",
    "        print(\"✓ Attacking free kick analysis created. High xG values indicate dangerous deliveries.\")"
   ]
  },
  {
   "cell_type": "code",
   "execution_count": 114,
   "id": "29737dc9",
   "metadata": {},
   "outputs": [],
   "source": [
    "def detect_attacking_patterns(dinamo_attacking):\n",
    "    \"\"\"\n",
    "    Detect common attacking routines and patterns\n",
    "    \"\"\"\n",
    "    print(\"\\n--- Detecting Attacking Patterns ---\")\n",
    "    \n",
    "    # Analyze short corners vs direct deliveries\n",
    "    corners = dinamo_attacking[dinamo_attacking['type.primary'] == 'corner']\n",
    "    \n",
    "    if len(corners) > 0:\n",
    "        # Identify short corners (delivery to nearby teammate)\n",
    "        short_corners = 0\n",
    "        direct_deliveries = 0\n",
    "        \n",
    "        for _, corner in corners.iterrows():\n",
    "            # Check if there's a pass recipient nearby (within 20 units)\n",
    "            if pd.notna(corner['pass.recipient.id']):\n",
    "                recipient_x = corner['pass.endLocation.x']\n",
    "                recipient_y = corner['pass.endLocation.y']\n",
    "                corner_x = corner['location.x']\n",
    "                corner_y = corner['location.y']\n",
    "                \n",
    "                if pd.notna(recipient_x) and pd.notna(recipient_y):\n",
    "                    distance = np.sqrt((recipient_x - corner_x)**2 + (recipient_y - corner_y)**2)\n",
    "                    if distance < 20:\n",
    "                        short_corners += 1\n",
    "                    else:\n",
    "                        direct_deliveries += 1\n",
    "                else:\n",
    "                    direct_deliveries += 1\n",
    "            else:\n",
    "                direct_deliveries += 1\n",
    "        \n",
    "        # Create visualization using Plotly\n",
    "        fig = go.Figure()\n",
    "        \n",
    "        categories = ['Short Corners', 'Direct Deliveries']\n",
    "        values = [short_corners, direct_deliveries]\n",
    "        colors = ['lightgreen', 'lightcoral']\n",
    "        \n",
    "        fig.add_trace(go.Bar(\n",
    "            x=categories,\n",
    "            y=values,\n",
    "            marker_color=colors,\n",
    "            marker_line_color='black',\n",
    "            marker_line_width=2,\n",
    "            text=values,\n",
    "            textposition='auto',\n",
    "            textfont=dict(size=14, color='black')\n",
    "        ))\n",
    "        \n",
    "        fig.update_layout(\n",
    "            title=\"Corner Delivery Strategy Analysis\",\n",
    "            title_x=0.5,\n",
    "            xaxis_title=\"Strategy Type\",\n",
    "            yaxis_title=\"Number of Corners\",\n",
    "            height=500,\n",
    "            showlegend=False\n",
    "        )\n",
    "        \n",
    "        # Save and show\n",
    "        fig.write_html('set_piece_viz_html/corner_strategy_analysis.html')\n",
    "        fig.show()\n",
    "        \n",
    "        print(f\"✓ Corner strategy analysis completed:\")\n",
    "        print(f\"  • Short corners: {short_corners} ({short_corners/len(corners)*100:.1f}%)\")\n",
    "        print(f\"  • Direct deliveries: {direct_deliveries} ({direct_deliveries/len(corners)*100:.1f}%)\")\n",
    "    \n",
    "    # Analyze set-piece sequences\n",
    "    print(\"\\n--- Set-Piece Sequence Analysis ---\")\n",
    "    \n",
    "    # Count set-pieces leading to shots\n",
    "    set_pieces_with_shots = dinamo_attacking[\n",
    "        dinamo_attacking['possession.attack.withShot'] == True\n",
    "    ]\n",
    "    \n",
    "    set_pieces_with_goals = dinamo_attacking[\n",
    "        dinamo_attacking['possession.attack.withGoal'] == True\n",
    "    ]\n",
    "    \n",
    "    print(f\"✓ Set-pieces leading to shots: {len(set_pieces_with_shots)} ({len(set_pieces_with_shots)/len(dinamo_attacking)*100:.1f}%)\")\n",
    "    print(f\"✓ Set-pieces leading to goals: {len(set_pieces_with_goals)} ({len(set_pieces_with_goals)/len(dinamo_attacking)*100:.1f}%)\")\n",
    "    \n",
    "    # Create visualization for set-piece effectiveness using Plotly\n",
    "    fig = go.Figure()\n",
    "    \n",
    "    categories = ['All Set-Pieces', 'Leading to Shots', 'Leading to Goals']\n",
    "    values = [len(dinamo_attacking), len(set_pieces_with_shots), len(set_pieces_with_goals)]\n",
    "    colors = ['lightblue', 'orange', 'red']\n",
    "    \n",
    "    # Calculate percentages for text labels\n",
    "    percentages = []\n",
    "    for i, value in enumerate(values):\n",
    "        if i == 0:\n",
    "            percentages.append('100%')\n",
    "        else:\n",
    "            percentages.append(f'{value/len(dinamo_attacking)*100:.1f}%')\n",
    "    \n",
    "    fig.add_trace(go.Bar(\n",
    "        x=categories,\n",
    "        y=values,\n",
    "        marker_color=colors,\n",
    "        marker_line_color='black',\n",
    "        marker_line_width=2,\n",
    "        text=[f'{v}<br>({p})' for v, p in zip(values, percentages)],\n",
    "        textposition='auto',\n",
    "        textfont=dict(size=12, color='black')\n",
    "    ))\n",
    "    \n",
    "    fig.update_layout(\n",
    "        title=\"Set-Piece Effectiveness Analysis\",\n",
    "        title_x=0.5,\n",
    "        xaxis_title=\"Event Type\",\n",
    "        yaxis_title=\"Number of Events\",\n",
    "        height=500,\n",
    "        showlegend=False\n",
    "    )\n",
    "    \n",
    "    # Save and show\n",
    "    fig.write_html('set_piece_viz_html/set_piece_effectiveness.html')\n",
    "    fig.show()"
   ]
  },
  {
   "cell_type": "code",
   "execution_count": 115,
   "id": "ebc9d0a7",
   "metadata": {},
   "outputs": [],
   "source": [
    "def identify_dangerous_players(dinamo_attacking):\n",
    "    \"\"\"\n",
    "    Identify the most dangerous players in set-piece situations, split by type\n",
    "    \"\"\"\n",
    "    print(\"\\n--- Identifying Dangerous Players by Set-Piece Type ---\")\n",
    "    \n",
    "    # Split set-pieces by type\n",
    "    corners = dinamo_attacking[dinamo_attacking['type.primary'] == 'corner']\n",
    "    attacking_free_kicks = dinamo_attacking[\n",
    "        (dinamo_attacking['type.primary'] == 'free_kick') & \n",
    "        (dinamo_attacking['location.x'] > 66)\n",
    "    ]\n",
    "    other_free_kicks = dinamo_attacking[\n",
    "        (dinamo_attacking['type.primary'] == 'free_kick') & \n",
    "        (dinamo_attacking['location.x'] <= 66)\n",
    "    ]\n",
    "    \n",
    "    # Analyze targets by set-piece type\n",
    "    corner_targets = corners[pd.notna(corners['pass.recipient.name'])]['pass.recipient.name'].value_counts()\n",
    "    attacking_fk_targets = attacking_free_kicks[pd.notna(attacking_free_kicks['pass.recipient.name'])]['pass.recipient.name'].value_counts()\n",
    "    other_fk_targets = other_free_kicks[pd.notna(other_free_kicks['pass.recipient.name'])]['pass.recipient.name'].value_counts()\n",
    "    \n",
    "    print(\"🎯 CORNER TARGETS (Top 5):\")\n",
    "    for i, (player, count) in enumerate(corner_targets.head().items(), 1):\n",
    "        print(f\"  {i}. {player}: {count} receptions\")\n",
    "    \n",
    "    print(\"\\n🎯 ATTACKING FREE-KICK TARGETS (Top 5):\")\n",
    "    for i, (player, count) in enumerate(attacking_fk_targets.head().items(), 1):\n",
    "        print(f\"  {i}. {player}: {count} receptions\")\n",
    "    \n",
    "    print(\"\\n🎯 OTHER FREE-KICK TARGETS (Top 5):\")\n",
    "    for i, (player, count) in enumerate(other_fk_targets.head().items(), 1):\n",
    "        print(f\"  {i}. {player}: {count} receptions\")\n",
    "    \n",
    "    # Create comprehensive visualization using Plotly\n",
    "    fig = make_subplots(\n",
    "        rows=1, cols=3,\n",
    "        subplot_titles=('Top Corner Targets', 'Top Attacking Free-Kick Targets', 'Top Other Free-Kick Targets'),\n",
    "        specs=[[{\"type\": \"bar\"}, {\"type\": \"bar\"}, {\"type\": \"bar\"}]]\n",
    "    )\n",
    "    \n",
    "    # Corner targets\n",
    "    if len(corner_targets) > 0:\n",
    "        fig.add_trace(\n",
    "            go.Bar(\n",
    "                x=corner_targets.head(8).index,\n",
    "                y=corner_targets.head(8).values,\n",
    "                name='Corner Targets',\n",
    "                marker_color='gold',\n",
    "                marker_line_color='orange',\n",
    "                marker_line_width=1,\n",
    "                text=corner_targets.head(8).values,\n",
    "                textposition='auto',\n",
    "                textfont=dict(size=10)\n",
    "            ),\n",
    "            row=1, col=1\n",
    "        )\n",
    "    \n",
    "    # Attacking free-kick targets\n",
    "    if len(attacking_fk_targets) > 0:\n",
    "        fig.add_trace(\n",
    "            go.Bar(\n",
    "                x=attacking_fk_targets.head(8).index,\n",
    "                y=attacking_fk_targets.head(8).values,\n",
    "                name='Attacking Free-Kick Targets',\n",
    "                marker_color='red',\n",
    "                marker_line_color='darkred',\n",
    "                marker_line_width=1,\n",
    "                text=attacking_fk_targets.head(8).values,\n",
    "                textposition='auto',\n",
    "                textfont=dict(size=10)\n",
    "            ),\n",
    "            row=1, col=2\n",
    "        )\n",
    "    \n",
    "    # Other free-kick targets\n",
    "    if len(other_fk_targets) > 0:\n",
    "        fig.add_trace(\n",
    "            go.Bar(\n",
    "                x=other_fk_targets.head(8).index,\n",
    "                y=other_fk_targets.head(8).values,\n",
    "                name='Other Free-Kick Targets',\n",
    "                marker_color='blue',\n",
    "                marker_line_color='darkblue',\n",
    "                marker_line_width=1,\n",
    "                text=other_fk_targets.head(8).values,\n",
    "                textposition='auto',\n",
    "                textfont=dict(size=10)\n",
    "            ),\n",
    "            row=1, col=3\n",
    "        )\n",
    "    \n",
    "    # Update layout\n",
    "    fig.update_layout(\n",
    "        title_text=\"Set-Piece Targets by Type\",\n",
    "        title_x=0.5,\n",
    "        height=500,\n",
    "        showlegend=False\n",
    "    )\n",
    "    \n",
    "    # Update x-axis labels for better readability\n",
    "    fig.update_xaxes(tickangle=45)\n",
    "    \n",
    "    # Save and show\n",
    "    fig.write_html('set_piece_viz_html/set_piece_targets_by_type.html')\n",
    "    fig.show()\n",
    "    \n",
    "    return corner_targets, attacking_fk_targets, other_fk_targets"
   ]
  },
  {
   "cell_type": "code",
   "execution_count": 116,
   "id": "16a019c3",
   "metadata": {},
   "outputs": [],
   "source": [
    "# =============================================================================\n",
    "# STEP 3: DEFENSIVE SET-PIECE ANALYSIS (DINAMO DEFENDING)\n",
    "# =============================================================================\n",
    "\n",
    "def analyze_defensive_set_pieces(set_piece_events):\n",
    "    \"\"\"\n",
    "    Analyze Dinamo's defensive set-piece vulnerabilities\n",
    "    \"\"\"\n",
    "    print(\"\\n=== STEP 3: DEFENSIVE SET-PIECE ANALYSIS ===\")\n",
    "    \n",
    "    # Filter for opponent set-pieces (Dinamo defending)\n",
    "    dinamo_defending = set_piece_events[\n",
    "        (set_piece_events['is_dinamo'] == False) & \n",
    "        (set_piece_events['type.primary'].isin(['corner', 'free_kick']))\n",
    "    ].copy()\n",
    "    \n",
    "    print(f\"✓ Dinamo defensive set-pieces analyzed: {len(dinamo_defending)}\")\n",
    "    \n",
    "    return dinamo_defending"
   ]
  },
  {
   "cell_type": "code",
   "execution_count": 117,
   "id": "adeb3985",
   "metadata": {},
   "outputs": [],
   "source": [
    "def analyze_defensive_vulnerabilities(dinamo_defending, df):\n",
    "    \"\"\"\n",
    "    Analyze defensive system and vulnerabilities using a professional pitch visualization.\n",
    "    This function creates a heatmap of conceded shots and sizes them by xG.\n",
    "    \"\"\"\n",
    "    print(\"\\n--- Analyzing Defensive Vulnerabilities ---\")\n",
    "    \n",
    "    # Get all shots conceded from set-pieces\n",
    "    set_piece_shots_conceded = []\n",
    "    \n",
    "    for _, set_piece in dinamo_defending.iterrows():\n",
    "        possession_id = set_piece['possession.id']\n",
    "        if pd.notna(possession_id):\n",
    "            # Find shots in this possession by the opposition\n",
    "            possession_shots = df[\n",
    "                (df['possession.id'] == possession_id) & \n",
    "                (df['type.primary'] == 'shot') &\n",
    "                (df['team.name'] != 'Dinamo Bucureşti')\n",
    "            ]\n",
    "            \n",
    "            for _, shot in possession_shots.iterrows():\n",
    "                set_piece_shots_conceded.append({\n",
    "                    'x': shot['location.x'],\n",
    "                    'y': shot['location.y'],\n",
    "                    'is_goal': shot['shot.isGoal'],\n",
    "                    'xg': shot['shot.xg'] if pd.notna(shot['shot.xg']) else 0,\n",
    "                    'set_piece_type': set_piece['type.primary']\n",
    "                })\n",
    "    \n",
    "    if set_piece_shots_conceded:\n",
    "        shots_df = pd.DataFrame(set_piece_shots_conceded)\n",
    "        \n",
    "        # Create the pitch using our new function\n",
    "        fig = create_custom_pitch()\n",
    "        fig.update_layout(\n",
    "            title=dict(text=\"<b>Dinamo București - Defensive Vulnerabilities from Set-Pieces</b>\", x=0.5, font=dict(size=20, color='white')),\n",
    "            legend=dict(yanchor=\"top\", y=0.95, xanchor=\"left\", x=0.01, bgcolor='rgba(0,0,0,0.5)', font=dict(color='white'))\n",
    "        )\n",
    "\n",
    "        # Add a heatmap for shot density\n",
    "        fig.add_trace(go.Histogram2d(\n",
    "            x=shots_df['x'],\n",
    "            y=shots_df['y'],\n",
    "            colorscale='Reds',\n",
    "            showscale=False,\n",
    "            name='Shot Hotspots',\n",
    "            opacity=0.5\n",
    "        ))\n",
    "\n",
    "        # Separate goals from other shots\n",
    "        goals = shots_df[shots_df['is_goal'] == True]\n",
    "        non_goals = shots_df[shots_df['is_goal'] == False]\n",
    "\n",
    "        # Plot non-goal shots, sized by xG\n",
    "        fig.add_trace(go.Scatter(\n",
    "            x=non_goals['x'],\n",
    "            y=non_goals['y'],\n",
    "            mode='markers',\n",
    "            marker=dict(\n",
    "                color='orange',\n",
    "                size=non_goals['xg'] * 50 + 5,  # Scale marker size by xG\n",
    "                sizemode='diameter',\n",
    "                opacity=0.8,\n",
    "                line=dict(color='white', width=1)\n",
    "            ),\n",
    "            name='Shots Conceded',\n",
    "            hoverinfo='text',\n",
    "            text=[f\"xG: {xg:.2f}\" for xg in non_goals['xg']]\n",
    "        ))\n",
    "\n",
    "        # Plot goals, sized by xG, with a distinct marker\n",
    "        fig.add_trace(go.Scatter(\n",
    "            x=goals['x'],\n",
    "            y=goals['y'],\n",
    "            mode='markers',\n",
    "            marker=dict(\n",
    "                symbol='star',\n",
    "                color='red',\n",
    "                size=goals['xg'] * 50 + 10, # Make goals slightly larger\n",
    "                sizemode='diameter',\n",
    "                opacity=1.0,\n",
    "                line=dict(color='white', width=2)\n",
    "            ),\n",
    "            name='Goals Conceded',\n",
    "            hoverinfo='text',\n",
    "            text=[f\"GOAL! (xG: {xg:.2f})\" for xg in goals['xg']]\n",
    "        ))\n",
    "        \n",
    "        # Save and show\n",
    "        fig.write_html('set_piece_viz_html/defensive_vulnerabilities_heatmap.html')\n",
    "        fig.show()\n",
    "        \n",
    "        print(f\"✓ Defensive vulnerabilities analyzed:\")\n",
    "        print(f\"  • Total shots conceded from set-pieces: {len(shots_df)}\")\n",
    "        print(f\"  • Goals conceded from set-pieces: {shots_df['is_goal'].sum()}\")\n",
    "        print(f\"  • Total xG conceded: {shots_df['xg'].sum():.3f}\")\n",
    "        \n",
    "        # Zone analysis (based on x-coordinate, assuming attack towards the right)\n",
    "        six_yard_box_shots = len(shots_df[shots_df['x'] > 94.5])\n",
    "        penalty_area_shots = len(shots_df[(shots_df['x'] > 83.5) & (shots_df['x'] <= 94.5)])\n",
    "        outside_box_shots = len(shots_df[shots_df['x'] <= 83.5])\n",
    "        \n",
    "        print(f\"\\n  Shot locations:\")\n",
    "        print(f\"  • Inside Six-Yard Box: {six_yard_box_shots}\")\n",
    "        print(f\"  • Inside Penalty Area (excl. 6-yard box): {penalty_area_shots}\")\n",
    "        print(f\"  • Outside Penalty Area: {outside_box_shots}\")\n",
    "    else:\n",
    "        print(\"No shots conceded from set-pieces to analyze.\")\n",
    "    \n",
    "    return set_piece_shots_conceded"
   ]
  },
  {
   "cell_type": "code",
   "execution_count": 118,
   "id": "76756b55",
   "metadata": {},
   "outputs": [],
   "source": [
    "def analyze_aerial_duels(dinamo_defending, df):\n",
    "    \"\"\"\n",
    "    Analyze defensive aerial duels during opponent set-pieces.\n",
    "    This version normalizes all duel locations to a single defensive half\n",
    "    for accurate tactical visualization and excludes unknown outcomes.\n",
    "\n",
    "    Contract\n",
    "    - Inputs: dinamo_defending (DataFrame of opponent corners/free-kicks), df (full events)\n",
    "    - Output: list of duel dicts [{player, team, x, y, outcome}]\n",
    "    - Side effects: saves HTML to set_piece_viz_html/aerial_duels_analysis.html and shows it; prints insights\n",
    "    \"\"\"\n",
    "    print(\"\\n--- Analyzing Aerial Duels ---\")\n",
    "\n",
    "    if df is None or len(df) == 0:\n",
    "        print(\"No events available to analyze.\")\n",
    "        return []\n",
    "\n",
    "    # Helper: unified boolean mask builder for aerial duels\n",
    "    def aerial_mask(frame):\n",
    "        masks = []\n",
    "        if 'type.secondary' in frame.columns:\n",
    "            masks.append(frame['type.secondary'].str.contains('aerial', case=False, na=False))\n",
    "        if 'aerialDuel' in frame.columns:\n",
    "            masks.append(frame['aerialDuel'].notna() & (frame['aerialDuel'] != ''))\n",
    "        if not masks:\n",
    "            return frame['type.primary'].astype(str).str.lower().eq('duel')\n",
    "        m = masks[0]\n",
    "        for extra in masks[1:]:\n",
    "            m = m | extra\n",
    "        return m\n",
    "\n",
    "    # Helper: outcome mapping per-row\n",
    "    def outcome_for_row(row):\n",
    "        if 'type.secondary' in row and isinstance(row['type.secondary'], str):\n",
    "            if 'win' in row['type.secondary'].lower() or 'won' in row['type.secondary'].lower():\n",
    "                return 'win'\n",
    "            if 'loss' in row['type.secondary'].lower() or 'lost' in row['type.secondary'].lower():\n",
    "                return 'loss'\n",
    "        for col in ['duel.outcome', 'duel.isWon', 'duel.success', 'duel.won', 'outcome', 'result']:\n",
    "            if col in row and pd.notna(row[col]):\n",
    "                val = row[col]\n",
    "                if isinstance(val, (bool, np.bool_)): return 'win' if bool(val) else 'loss'\n",
    "                if isinstance(val, (int, float, np.integer, np.floating)): return 'win' if val > 0 else 'loss'\n",
    "                if isinstance(val, str):\n",
    "                    v = val.strip().lower()\n",
    "                    if v in {'win', 'won', 'success', 'successful', 'yes', 'true'}: return 'win'\n",
    "                    if v in {'loss', 'lost', 'fail', 'failed', 'unsuccessful', 'no', 'false'}: return 'loss'\n",
    "        return 'unknown'\n",
    "\n",
    "    has_time = all(c in df.columns for c in ['minute', 'second', 'matchId'])\n",
    "    aerial_duels = []\n",
    "    total_possessions_checked = 0\n",
    "    possession_hits = 0\n",
    "\n",
    "    is_duel = df['type.primary'].astype(str).str.lower().eq('duel') if 'type.primary' in df.columns else pd.Series(False, index=df.index)\n",
    "    df_duels = df[is_duel].copy()\n",
    "    if len(df_duels) == 0:\n",
    "        print(\"No duel events present in the dataset.\")\n",
    "        return []\n",
    "    df_duels['__is_aerial'] = aerial_mask(df_duels)\n",
    "\n",
    "    for _, sp in dinamo_defending.iterrows():\n",
    "        total_possessions_checked += 1\n",
    "        pos_id = sp.get('possession.id', np.nan)\n",
    "        match_id = sp.get('matchId', None)\n",
    "        candidates = pd.DataFrame()\n",
    "\n",
    "        if pd.notna(pos_id) and 'possession.id' in df_duels.columns:\n",
    "            candidates = df_duels[(df_duels['possession.id'] == pos_id) & (df_duels['__is_aerial'])]\n",
    "            if len(candidates) > 0:\n",
    "                possession_hits += 1\n",
    "\n",
    "        if len(candidates) == 0 and has_time and pd.notna(sp.get('minute')) and pd.notna(sp.get('second')) and match_id is not None:\n",
    "            sp_time = float(sp['minute']) * 60.0 + float(sp['second'])\n",
    "            df_m = df_duels[df_duels['matchId'] == match_id] if 'matchId' in df_duels.columns else df_duels\n",
    "            tseries = df_m['minute'].astype(float) * 60.0 + df_m['second'].astype(float)\n",
    "            win_mask = (tseries >= sp_time) & (tseries <= sp_time + 20.0)\n",
    "            candidates = df_m[win_mask & df_m['__is_aerial']]\n",
    "\n",
    "        if len(candidates) == 0:\n",
    "            continue\n",
    "\n",
    "        for _, duel in candidates.iterrows():\n",
    "            oc = outcome_for_row(duel)\n",
    "            if oc == 'unknown':\n",
    "                continue  # Skip unknown outcomes as requested\n",
    "\n",
    "            is_dinamo = str(duel.get('team.name', '')).strip() == 'Dinamo Bucureşti'\n",
    "            dinamo_outcome = oc if is_dinamo else ('loss' if oc == 'win' else 'win')\n",
    "            \n",
    "            # --- Coordinate Normalization ---\n",
    "            # Standardize all defensive actions to the left side of the pitch (defending goal at x=0)\n",
    "            x, y = duel.get('location.x', np.nan), duel.get('location.y', np.nan)\n",
    "            if pd.notna(x) and x > 50:\n",
    "                x = 100 - x\n",
    "                y = 100 - y\n",
    "\n",
    "            aerial_duels.append({\n",
    "                'player': duel.get('player.name', 'Unknown'),\n",
    "                'x': x,\n",
    "                'y': y,\n",
    "                'outcome': dinamo_outcome\n",
    "            })\n",
    "\n",
    "    if not aerial_duels:\n",
    "        print(\"No decisive (win/loss) aerial duels found around defensive set-pieces to analyze.\")\n",
    "        return []\n",
    "\n",
    "    duels_df = pd.DataFrame(aerial_duels).dropna(subset=['x', 'y'])\n",
    "    lost_duels = duels_df[duels_df['outcome'] == 'loss']\n",
    "    won_duels = duels_df[duels_df['outcome'] == 'win']\n",
    "\n",
    "    # --- Create Visualization ---\n",
    "    fig = create_custom_pitch()\n",
    "    title_text = f\"<b>Defensive Aerial Duels (Normalized)</b> — Total: {len(duels_df)} | Won: {len(won_duels)} | Lost: {len(lost_duels)}\"\n",
    "    fig.update_layout(\n",
    "        title=dict(text=title_text, x=0.5, font=dict(size=20, color='white')),\n",
    "        legend=dict(orientation=\"h\", yanchor=\"bottom\", y=1.02, xanchor=\"right\", x=1, bgcolor='rgba(0,0,0,0.5)', font=dict(color='white'))\n",
    "    )\n",
    "\n",
    "    if len(lost_duels) > 0:\n",
    "        fig.add_trace(go.Scatter(\n",
    "            x=lost_duels['x'], y=lost_duels['y'], mode='markers',\n",
    "            marker=dict(color='red', symbol='x', size=11, line=dict(width=2)),\n",
    "            name='Lost', hoverinfo='text',\n",
    "            text=[f\"Lost by: {p}\" for p in lost_duels['player']]\n",
    "        ))\n",
    "    if len(won_duels) > 0:\n",
    "        fig.add_trace(go.Scatter(\n",
    "            x=won_duels['x'], y=won_duels['y'], mode='markers',\n",
    "            marker=dict(color='lime', symbol='circle', size=9, opacity=0.75, line=dict(width=0.5, color='white')),\n",
    "            name='Won', hoverinfo='text',\n",
    "            text=[f\"Won by: {p}\" for p in won_duels['player']]\n",
    "        ))\n",
    "    \n",
    "    fig.write_html('set_piece_viz_html/aerial_duels_analysis.html')\n",
    "    fig.show()\n",
    "\n",
    "    # --- Print Insights ---\n",
    "    print(\"✓ Aerial duel analysis completed.\")\n",
    "    print(f\"  • Total decisive aerial duels considered: {len(duels_df)}\")\n",
    "    if len(duels_df) > 0:\n",
    "        win_percentage = (len(won_duels) / len(duels_df)) * 100\n",
    "        loss_percentage = (len(lost_duels) / len(duels_df)) * 100\n",
    "        print(f\"  • Duels Won: {len(won_duels)} ({win_percentage:.1f}%)\")\n",
    "        print(f\"  • Duels Lost: {len(lost_duels)} ({loss_percentage:.1f}%)\")\n",
    "\n",
    "    if len(lost_duels) > 0:\n",
    "        player_duels_lost = lost_duels['player'].value_counts()\n",
    "        print(\"\\n🥊 Players most often losing aerial duels (defensive set-pieces):\")\n",
    "        for i, (player, count) in enumerate(player_duels_lost.head(5).items(), 1):\n",
    "            print(f\"  {i}. {player}: {count}\")\n",
    "\n",
    "    return aerial_duels"
   ]
  },
  {
   "cell_type": "code",
   "execution_count": 119,
   "id": "488edbd6",
   "metadata": {},
   "outputs": [],
   "source": [
    "def analyze_second_ball_reaction(dinamo_defending, df):\n",
    "    \"\"\"\n",
    "    Analyze second ball reaction and possession recovery\n",
    "    \"\"\"\n",
    "    print(\"\\n--- Analyzing Second Ball Reaction ---\")\n",
    "    \n",
    "    # Analyze how quickly Dinamo regains possession after clearing set-pieces\n",
    "    second_ball_analysis = []\n",
    "    \n",
    "    for _, set_piece in dinamo_defending.iterrows():\n",
    "        possession_id = set_piece['possession.id']\n",
    "        if pd.notna(possession_id):\n",
    "            # Find the next possession after this set-piece\n",
    "            set_piece_time = set_piece['minute'] * 60 + set_piece['second']\n",
    "            \n",
    "            # Look for Dinamo possession events shortly after\n",
    "            subsequent_events = df[\n",
    "                (df['team.name'] == 'Dinamo Bucureşti') &\n",
    "                (df['minute'] * 60 + df['second'] > set_piece_time) &\n",
    "                (df['minute'] * 60 + df['second'] <= set_piece_time + 30)  # Within 30 seconds\n",
    "            ]\n",
    "            \n",
    "            if len(subsequent_events) > 0:\n",
    "                time_to_recovery = (subsequent_events.iloc[0]['minute'] * 60 + \n",
    "                                  subsequent_events.iloc[0]['second']) - set_piece_time\n",
    "                \n",
    "                second_ball_analysis.append({\n",
    "                    'set_piece_type': set_piece['type.primary'],\n",
    "                    'time_to_recovery': time_to_recovery,\n",
    "                    'recovery_event': subsequent_events.iloc[0]['type.primary']\n",
    "                })\n",
    "    \n",
    "    if second_ball_analysis:\n",
    "        recovery_df = pd.DataFrame(second_ball_analysis)\n",
    "        \n",
    "        print(f\"✓ Second ball reaction analysis completed:\")\n",
    "        print(f\"  • Average time to recovery: {recovery_df['time_to_recovery'].mean():.1f} seconds\")\n",
    "        print(f\"  • Recovery events analyzed: {len(recovery_df)}\")\n",
    "        \n",
    "        # Recovery time distribution\n",
    "        fast_recovery = len(recovery_df[recovery_df['time_to_recovery'] <= 10])\n",
    "        medium_recovery = len(recovery_df[(recovery_df['time_to_recovery'] > 10) & \n",
    "                                        (recovery_df['time_to_recovery'] <= 20)])\n",
    "        slow_recovery = len(recovery_df[recovery_df['time_to_recovery'] > 20])\n",
    "        \n",
    "        print(f\"  • Fast recovery (≤10s): {fast_recovery} ({fast_recovery/len(recovery_df)*100:.1f}%)\")\n",
    "        print(f\"  • Medium recovery (11-20s): {medium_recovery} ({medium_recovery/len(recovery_df)*100:.1f}%)\")\n",
    "        print(f\"  • Slow recovery (>20s): {slow_recovery} ({slow_recovery/len(recovery_df)*100:.1f}%)\")\n",
    "        \n",
    "        # Create visualization using Plotly\n",
    "        fig = go.Figure()\n",
    "        \n",
    "        recovery_categories = ['Fast (≤10s)', 'Medium (11-20s)', 'Slow (>20s)']\n",
    "        recovery_counts = [fast_recovery, medium_recovery, slow_recovery]\n",
    "        colors = ['green', 'yellow', 'red']\n",
    "        \n",
    "        fig.add_trace(go.Bar(\n",
    "            x=recovery_categories,\n",
    "            y=recovery_counts,\n",
    "            marker_color=colors,\n",
    "            marker_line_color='black',\n",
    "            marker_line_width=2,\n",
    "            text=recovery_counts,\n",
    "            textposition='auto',\n",
    "            textfont=dict(size=14, color='black')\n",
    "        ))\n",
    "        \n",
    "        fig.update_layout(\n",
    "            title=\"Second Ball Recovery Speed Analysis\",\n",
    "            title_x=0.5,\n",
    "            xaxis_title=\"Recovery Speed\",\n",
    "            yaxis_title=\"Number of Recoveries\",\n",
    "            height=500,\n",
    "            showlegend=False\n",
    "        )\n",
    "        \n",
    "        # Save and show\n",
    "        fig.write_html('set_piece_viz_html/second_ball_recovery.html')\n",
    "        fig.show()\n",
    "    \n",
    "    return second_ball_analysis"
   ]
  },
  {
   "cell_type": "code",
   "execution_count": 120,
   "id": "dcbc6730",
   "metadata": {},
   "outputs": [
    {
     "name": "stdout",
     "output_type": "stream",
     "text": [
      "🏆 DINAMO BUCUREȘTI SET-PIECE TACTICAL ANALYSIS\n",
      "============================================================\n",
      "Analyzing set-piece strategies for the 2024/25 season...\n",
      "============================================================\n",
      "=== STEP 1: DATA LOADING AND PREPARATION ===\n",
      "✓ Dataset loaded successfully: 65683 events\n",
      "✓ Dataset shape: (65683, 74)\n",
      "✓ Total matches: 40\n",
      "✓ Date range: 2024-07-14 18:00:00 to 2025-05-24 20:00:00\n",
      "\n",
      "--- Filtering for Set-Piece Events ---\n",
      "✓ Total set-piece events identified: 3874\n",
      "✓ Set-piece breakdown:\n",
      "  • Corner: 362\n",
      "  • Free_Kick: 1038\n",
      "  • Throw_In: 1858\n",
      "  • Goal_Kick: 616\n",
      "\n",
      "--- Cleaning Set-Piece Data ---\n",
      "✓ Data cleaned: 412 events removed due to missing data\n",
      "✓ Final set-piece dataset: 3462 events\n",
      "\n",
      "============================================================\n",
      "\n",
      "=== STEP 2: OFFENSIVE SET-PIECE ANALYSIS ===\n",
      "✓ Dinamo attacking set-pieces analyzed: 548\n",
      "\n",
      "--- Identifying Main Set-Piece Takers ---\n",
      "🏃 CORNER TAKERS (Top 5):\n",
      "  1. G. Milanov: 64 corners\n",
      "  2. P. Olsen: 45 corners\n",
      "  3. C. Cîrjan: 43 corners\n",
      "  4. A. Pop: 7 corners\n",
      "  5. A. Bani: 6 corners\n",
      "\n",
      "⚽ ATTACKING FREE-KICK TAKERS (Dangerous - Top 5):\n",
      "  1. G. Milanov: 13 dangerous attacking free-kicks\n",
      "  2. P. Olsen: 5 dangerous attacking free-kicks\n",
      "  3. C. Cîrjan: 2 dangerous attacking free-kicks\n",
      "  4. A. Pop: 1 dangerous attacking free-kicks\n",
      "  5. A. Selmani: 1 dangerous attacking free-kicks\n",
      "\n",
      "⚽ ATTACKING FREE-KICK TAKERS (Non-Dangerous - Top 5):\n",
      "  1. G. Milanov: 24 non-dangerous attacking free-kicks\n",
      "  2. P. Olsen: 11 non-dangerous attacking free-kicks\n",
      "  3. C. Cîrjan: 4 non-dangerous attacking free-kicks\n",
      "  4. A. Pop: 3 non-dangerous attacking free-kicks\n",
      "  5. A. Bani: 3 non-dangerous attacking free-kicks\n",
      "\n",
      "⚽ OTHER FREE-KICK TAKERS (Top 5):\n",
      "  1. E. Gnahoré: 70 other free-kicks\n",
      "  2. A. Roșca: 40 other free-kicks\n",
      "  3. A. Golubović: 31 other free-kicks\n",
      "  4. P. Olsen: 29 other free-kicks\n",
      "  5. C. Cîrjan: 27 other free-kicks\n",
      "✓ Dataset loaded successfully: 65683 events\n",
      "✓ Dataset shape: (65683, 74)\n",
      "✓ Total matches: 40\n",
      "✓ Date range: 2024-07-14 18:00:00 to 2025-05-24 20:00:00\n",
      "\n",
      "--- Filtering for Set-Piece Events ---\n",
      "✓ Total set-piece events identified: 3874\n",
      "✓ Set-piece breakdown:\n",
      "  • Corner: 362\n",
      "  • Free_Kick: 1038\n",
      "  • Throw_In: 1858\n",
      "  • Goal_Kick: 616\n",
      "\n",
      "--- Cleaning Set-Piece Data ---\n",
      "✓ Data cleaned: 412 events removed due to missing data\n",
      "✓ Final set-piece dataset: 3462 events\n",
      "\n",
      "============================================================\n",
      "\n",
      "=== STEP 2: OFFENSIVE SET-PIECE ANALYSIS ===\n",
      "✓ Dinamo attacking set-pieces analyzed: 548\n",
      "\n",
      "--- Identifying Main Set-Piece Takers ---\n",
      "🏃 CORNER TAKERS (Top 5):\n",
      "  1. G. Milanov: 64 corners\n",
      "  2. P. Olsen: 45 corners\n",
      "  3. C. Cîrjan: 43 corners\n",
      "  4. A. Pop: 7 corners\n",
      "  5. A. Bani: 6 corners\n",
      "\n",
      "⚽ ATTACKING FREE-KICK TAKERS (Dangerous - Top 5):\n",
      "  1. G. Milanov: 13 dangerous attacking free-kicks\n",
      "  2. P. Olsen: 5 dangerous attacking free-kicks\n",
      "  3. C. Cîrjan: 2 dangerous attacking free-kicks\n",
      "  4. A. Pop: 1 dangerous attacking free-kicks\n",
      "  5. A. Selmani: 1 dangerous attacking free-kicks\n",
      "\n",
      "⚽ ATTACKING FREE-KICK TAKERS (Non-Dangerous - Top 5):\n",
      "  1. G. Milanov: 24 non-dangerous attacking free-kicks\n",
      "  2. P. Olsen: 11 non-dangerous attacking free-kicks\n",
      "  3. C. Cîrjan: 4 non-dangerous attacking free-kicks\n",
      "  4. A. Pop: 3 non-dangerous attacking free-kicks\n",
      "  5. A. Bani: 3 non-dangerous attacking free-kicks\n",
      "\n",
      "⚽ OTHER FREE-KICK TAKERS (Top 5):\n",
      "  1. E. Gnahoré: 70 other free-kicks\n",
      "  2. A. Roșca: 40 other free-kicks\n",
      "  3. A. Golubović: 31 other free-kicks\n",
      "  4. P. Olsen: 29 other free-kicks\n",
      "  5. C. Cîrjan: 27 other free-kicks\n"
     ]
    },
    {
     "data": {
      "application/vnd.plotly.v1+json": {
       "config": {
        "plotlyServerURL": "https://plot.ly"
       },
       "data": [
        {
         "marker": {
          "color": "skyblue",
          "line": {
           "color": "navy",
           "width": 1
          }
         },
         "name": "Corner Takers",
         "type": "bar",
         "x": [
          "G. Milanov",
          "P. Olsen",
          "C. Cîrjan",
          "A. Pop",
          "A. Bani"
         ],
         "xaxis": "x",
         "y": {
          "bdata": "QC0rBwY=",
          "dtype": "i1"
         },
         "yaxis": "y"
        },
        {
         "marker": {
          "color": "red",
          "line": {
           "color": "darkred",
           "width": 1
          }
         },
         "name": "Dangerous Attacking Free-Kicks",
         "type": "bar",
         "x": [
          "G. Milanov",
          "P. Olsen",
          "C. Cîrjan",
          "A. Pop",
          "A. Selmani"
         ],
         "xaxis": "x2",
         "y": {
          "bdata": "DQUCAQE=",
          "dtype": "i1"
         },
         "yaxis": "y2"
        },
        {
         "marker": {
          "color": "orange",
          "line": {
           "color": "darkorange",
           "width": 1
          }
         },
         "name": "Non-Dangerous Attacking Free-Kicks",
         "type": "bar",
         "x": [
          "G. Milanov",
          "P. Olsen",
          "C. Cîrjan",
          "A. Pop",
          "A. Bani"
         ],
         "xaxis": "x3",
         "y": {
          "bdata": "GAsEAwM=",
          "dtype": "i1"
         },
         "yaxis": "y3"
        },
        {
         "marker": {
          "color": "lightcoral",
          "line": {
           "color": "darkred",
           "width": 1
          }
         },
         "name": "Other Free-Kicks",
         "type": "bar",
         "x": [
          "E. Gnahoré",
          "A. Roșca",
          "A. Golubović",
          "P. Olsen",
          "C. Cîrjan"
         ],
         "xaxis": "x4",
         "y": {
          "bdata": "RigfHRs=",
          "dtype": "i1"
         },
         "yaxis": "y4"
        }
       ],
       "layout": {
        "annotations": [
         {
          "font": {
           "size": 16
          },
          "showarrow": false,
          "text": "Top 5 Corner Takers",
          "x": 0.225,
          "xanchor": "center",
          "xref": "paper",
          "y": 1,
          "yanchor": "bottom",
          "yref": "paper"
         },
         {
          "font": {
           "size": 16
          },
          "showarrow": false,
          "text": "Top 5 Dangerous Attacking Free-Kick Takers",
          "x": 0.775,
          "xanchor": "center",
          "xref": "paper",
          "y": 1,
          "yanchor": "bottom",
          "yref": "paper"
         },
         {
          "font": {
           "size": 16
          },
          "showarrow": false,
          "text": "Top 5 Non-Dangerous Attacking Free-Kick Takers",
          "x": 0.225,
          "xanchor": "center",
          "xref": "paper",
          "y": 0.375,
          "yanchor": "bottom",
          "yref": "paper"
         },
         {
          "font": {
           "size": 16
          },
          "showarrow": false,
          "text": "Top 5 Other Free-Kick Takers",
          "x": 0.775,
          "xanchor": "center",
          "xref": "paper",
          "y": 0.375,
          "yanchor": "bottom",
          "yref": "paper"
         }
        ],
        "height": 800,
        "showlegend": false,
        "template": {
         "data": {
          "bar": [
           {
            "error_x": {
             "color": "#2a3f5f"
            },
            "error_y": {
             "color": "#2a3f5f"
            },
            "marker": {
             "line": {
              "color": "white",
              "width": 0.5
             },
             "pattern": {
              "fillmode": "overlay",
              "size": 10,
              "solidity": 0.2
             }
            },
            "type": "bar"
           }
          ],
          "barpolar": [
           {
            "marker": {
             "line": {
              "color": "white",
              "width": 0.5
             },
             "pattern": {
              "fillmode": "overlay",
              "size": 10,
              "solidity": 0.2
             }
            },
            "type": "barpolar"
           }
          ],
          "carpet": [
           {
            "aaxis": {
             "endlinecolor": "#2a3f5f",
             "gridcolor": "#C8D4E3",
             "linecolor": "#C8D4E3",
             "minorgridcolor": "#C8D4E3",
             "startlinecolor": "#2a3f5f"
            },
            "baxis": {
             "endlinecolor": "#2a3f5f",
             "gridcolor": "#C8D4E3",
             "linecolor": "#C8D4E3",
             "minorgridcolor": "#C8D4E3",
             "startlinecolor": "#2a3f5f"
            },
            "type": "carpet"
           }
          ],
          "choropleth": [
           {
            "colorbar": {
             "outlinewidth": 0,
             "ticks": ""
            },
            "type": "choropleth"
           }
          ],
          "contour": [
           {
            "colorbar": {
             "outlinewidth": 0,
             "ticks": ""
            },
            "colorscale": [
             [
              0,
              "#0d0887"
             ],
             [
              0.1111111111111111,
              "#46039f"
             ],
             [
              0.2222222222222222,
              "#7201a8"
             ],
             [
              0.3333333333333333,
              "#9c179e"
             ],
             [
              0.4444444444444444,
              "#bd3786"
             ],
             [
              0.5555555555555556,
              "#d8576b"
             ],
             [
              0.6666666666666666,
              "#ed7953"
             ],
             [
              0.7777777777777778,
              "#fb9f3a"
             ],
             [
              0.8888888888888888,
              "#fdca26"
             ],
             [
              1,
              "#f0f921"
             ]
            ],
            "type": "contour"
           }
          ],
          "contourcarpet": [
           {
            "colorbar": {
             "outlinewidth": 0,
             "ticks": ""
            },
            "type": "contourcarpet"
           }
          ],
          "heatmap": [
           {
            "colorbar": {
             "outlinewidth": 0,
             "ticks": ""
            },
            "colorscale": [
             [
              0,
              "#0d0887"
             ],
             [
              0.1111111111111111,
              "#46039f"
             ],
             [
              0.2222222222222222,
              "#7201a8"
             ],
             [
              0.3333333333333333,
              "#9c179e"
             ],
             [
              0.4444444444444444,
              "#bd3786"
             ],
             [
              0.5555555555555556,
              "#d8576b"
             ],
             [
              0.6666666666666666,
              "#ed7953"
             ],
             [
              0.7777777777777778,
              "#fb9f3a"
             ],
             [
              0.8888888888888888,
              "#fdca26"
             ],
             [
              1,
              "#f0f921"
             ]
            ],
            "type": "heatmap"
           }
          ],
          "histogram": [
           {
            "marker": {
             "pattern": {
              "fillmode": "overlay",
              "size": 10,
              "solidity": 0.2
             }
            },
            "type": "histogram"
           }
          ],
          "histogram2d": [
           {
            "colorbar": {
             "outlinewidth": 0,
             "ticks": ""
            },
            "colorscale": [
             [
              0,
              "#0d0887"
             ],
             [
              0.1111111111111111,
              "#46039f"
             ],
             [
              0.2222222222222222,
              "#7201a8"
             ],
             [
              0.3333333333333333,
              "#9c179e"
             ],
             [
              0.4444444444444444,
              "#bd3786"
             ],
             [
              0.5555555555555556,
              "#d8576b"
             ],
             [
              0.6666666666666666,
              "#ed7953"
             ],
             [
              0.7777777777777778,
              "#fb9f3a"
             ],
             [
              0.8888888888888888,
              "#fdca26"
             ],
             [
              1,
              "#f0f921"
             ]
            ],
            "type": "histogram2d"
           }
          ],
          "histogram2dcontour": [
           {
            "colorbar": {
             "outlinewidth": 0,
             "ticks": ""
            },
            "colorscale": [
             [
              0,
              "#0d0887"
             ],
             [
              0.1111111111111111,
              "#46039f"
             ],
             [
              0.2222222222222222,
              "#7201a8"
             ],
             [
              0.3333333333333333,
              "#9c179e"
             ],
             [
              0.4444444444444444,
              "#bd3786"
             ],
             [
              0.5555555555555556,
              "#d8576b"
             ],
             [
              0.6666666666666666,
              "#ed7953"
             ],
             [
              0.7777777777777778,
              "#fb9f3a"
             ],
             [
              0.8888888888888888,
              "#fdca26"
             ],
             [
              1,
              "#f0f921"
             ]
            ],
            "type": "histogram2dcontour"
           }
          ],
          "mesh3d": [
           {
            "colorbar": {
             "outlinewidth": 0,
             "ticks": ""
            },
            "type": "mesh3d"
           }
          ],
          "parcoords": [
           {
            "line": {
             "colorbar": {
              "outlinewidth": 0,
              "ticks": ""
             }
            },
            "type": "parcoords"
           }
          ],
          "pie": [
           {
            "automargin": true,
            "type": "pie"
           }
          ],
          "scatter": [
           {
            "fillpattern": {
             "fillmode": "overlay",
             "size": 10,
             "solidity": 0.2
            },
            "type": "scatter"
           }
          ],
          "scatter3d": [
           {
            "line": {
             "colorbar": {
              "outlinewidth": 0,
              "ticks": ""
             }
            },
            "marker": {
             "colorbar": {
              "outlinewidth": 0,
              "ticks": ""
             }
            },
            "type": "scatter3d"
           }
          ],
          "scattercarpet": [
           {
            "marker": {
             "colorbar": {
              "outlinewidth": 0,
              "ticks": ""
             }
            },
            "type": "scattercarpet"
           }
          ],
          "scattergeo": [
           {
            "marker": {
             "colorbar": {
              "outlinewidth": 0,
              "ticks": ""
             }
            },
            "type": "scattergeo"
           }
          ],
          "scattergl": [
           {
            "marker": {
             "colorbar": {
              "outlinewidth": 0,
              "ticks": ""
             }
            },
            "type": "scattergl"
           }
          ],
          "scattermap": [
           {
            "marker": {
             "colorbar": {
              "outlinewidth": 0,
              "ticks": ""
             }
            },
            "type": "scattermap"
           }
          ],
          "scattermapbox": [
           {
            "marker": {
             "colorbar": {
              "outlinewidth": 0,
              "ticks": ""
             }
            },
            "type": "scattermapbox"
           }
          ],
          "scatterpolar": [
           {
            "marker": {
             "colorbar": {
              "outlinewidth": 0,
              "ticks": ""
             }
            },
            "type": "scatterpolar"
           }
          ],
          "scatterpolargl": [
           {
            "marker": {
             "colorbar": {
              "outlinewidth": 0,
              "ticks": ""
             }
            },
            "type": "scatterpolargl"
           }
          ],
          "scatterternary": [
           {
            "marker": {
             "colorbar": {
              "outlinewidth": 0,
              "ticks": ""
             }
            },
            "type": "scatterternary"
           }
          ],
          "surface": [
           {
            "colorbar": {
             "outlinewidth": 0,
             "ticks": ""
            },
            "colorscale": [
             [
              0,
              "#0d0887"
             ],
             [
              0.1111111111111111,
              "#46039f"
             ],
             [
              0.2222222222222222,
              "#7201a8"
             ],
             [
              0.3333333333333333,
              "#9c179e"
             ],
             [
              0.4444444444444444,
              "#bd3786"
             ],
             [
              0.5555555555555556,
              "#d8576b"
             ],
             [
              0.6666666666666666,
              "#ed7953"
             ],
             [
              0.7777777777777778,
              "#fb9f3a"
             ],
             [
              0.8888888888888888,
              "#fdca26"
             ],
             [
              1,
              "#f0f921"
             ]
            ],
            "type": "surface"
           }
          ],
          "table": [
           {
            "cells": {
             "fill": {
              "color": "#EBF0F8"
             },
             "line": {
              "color": "white"
             }
            },
            "header": {
             "fill": {
              "color": "#C8D4E3"
             },
             "line": {
              "color": "white"
             }
            },
            "type": "table"
           }
          ]
         },
         "layout": {
          "annotationdefaults": {
           "arrowcolor": "#2a3f5f",
           "arrowhead": 0,
           "arrowwidth": 1
          },
          "autotypenumbers": "strict",
          "coloraxis": {
           "colorbar": {
            "outlinewidth": 0,
            "ticks": ""
           }
          },
          "colorscale": {
           "diverging": [
            [
             0,
             "#8e0152"
            ],
            [
             0.1,
             "#c51b7d"
            ],
            [
             0.2,
             "#de77ae"
            ],
            [
             0.3,
             "#f1b6da"
            ],
            [
             0.4,
             "#fde0ef"
            ],
            [
             0.5,
             "#f7f7f7"
            ],
            [
             0.6,
             "#e6f5d0"
            ],
            [
             0.7,
             "#b8e186"
            ],
            [
             0.8,
             "#7fbc41"
            ],
            [
             0.9,
             "#4d9221"
            ],
            [
             1,
             "#276419"
            ]
           ],
           "sequential": [
            [
             0,
             "#0d0887"
            ],
            [
             0.1111111111111111,
             "#46039f"
            ],
            [
             0.2222222222222222,
             "#7201a8"
            ],
            [
             0.3333333333333333,
             "#9c179e"
            ],
            [
             0.4444444444444444,
             "#bd3786"
            ],
            [
             0.5555555555555556,
             "#d8576b"
            ],
            [
             0.6666666666666666,
             "#ed7953"
            ],
            [
             0.7777777777777778,
             "#fb9f3a"
            ],
            [
             0.8888888888888888,
             "#fdca26"
            ],
            [
             1,
             "#f0f921"
            ]
           ],
           "sequentialminus": [
            [
             0,
             "#0d0887"
            ],
            [
             0.1111111111111111,
             "#46039f"
            ],
            [
             0.2222222222222222,
             "#7201a8"
            ],
            [
             0.3333333333333333,
             "#9c179e"
            ],
            [
             0.4444444444444444,
             "#bd3786"
            ],
            [
             0.5555555555555556,
             "#d8576b"
            ],
            [
             0.6666666666666666,
             "#ed7953"
            ],
            [
             0.7777777777777778,
             "#fb9f3a"
            ],
            [
             0.8888888888888888,
             "#fdca26"
            ],
            [
             1,
             "#f0f921"
            ]
           ]
          },
          "colorway": [
           "#636efa",
           "#EF553B",
           "#00cc96",
           "#ab63fa",
           "#FFA15A",
           "#19d3f3",
           "#FF6692",
           "#B6E880",
           "#FF97FF",
           "#FECB52"
          ],
          "font": {
           "color": "#2a3f5f"
          },
          "geo": {
           "bgcolor": "white",
           "lakecolor": "white",
           "landcolor": "white",
           "showlakes": true,
           "showland": true,
           "subunitcolor": "#C8D4E3"
          },
          "hoverlabel": {
           "align": "left"
          },
          "hovermode": "closest",
          "mapbox": {
           "style": "light"
          },
          "paper_bgcolor": "white",
          "plot_bgcolor": "white",
          "polar": {
           "angularaxis": {
            "gridcolor": "#EBF0F8",
            "linecolor": "#EBF0F8",
            "ticks": ""
           },
           "bgcolor": "white",
           "radialaxis": {
            "gridcolor": "#EBF0F8",
            "linecolor": "#EBF0F8",
            "ticks": ""
           }
          },
          "scene": {
           "xaxis": {
            "backgroundcolor": "white",
            "gridcolor": "#DFE8F3",
            "gridwidth": 2,
            "linecolor": "#EBF0F8",
            "showbackground": true,
            "ticks": "",
            "zerolinecolor": "#EBF0F8"
           },
           "yaxis": {
            "backgroundcolor": "white",
            "gridcolor": "#DFE8F3",
            "gridwidth": 2,
            "linecolor": "#EBF0F8",
            "showbackground": true,
            "ticks": "",
            "zerolinecolor": "#EBF0F8"
           },
           "zaxis": {
            "backgroundcolor": "white",
            "gridcolor": "#DFE8F3",
            "gridwidth": 2,
            "linecolor": "#EBF0F8",
            "showbackground": true,
            "ticks": "",
            "zerolinecolor": "#EBF0F8"
           }
          },
          "shapedefaults": {
           "line": {
            "color": "#2a3f5f"
           }
          },
          "ternary": {
           "aaxis": {
            "gridcolor": "#DFE8F3",
            "linecolor": "#A2B1C6",
            "ticks": ""
           },
           "baxis": {
            "gridcolor": "#DFE8F3",
            "linecolor": "#A2B1C6",
            "ticks": ""
           },
           "bgcolor": "white",
           "caxis": {
            "gridcolor": "#DFE8F3",
            "linecolor": "#A2B1C6",
            "ticks": ""
           }
          },
          "title": {
           "x": 0.05
          },
          "xaxis": {
           "automargin": true,
           "gridcolor": "#EBF0F8",
           "linecolor": "#EBF0F8",
           "ticks": "",
           "title": {
            "standoff": 15
           },
           "zerolinecolor": "#EBF0F8",
           "zerolinewidth": 2
          },
          "yaxis": {
           "automargin": true,
           "gridcolor": "#EBF0F8",
           "linecolor": "#EBF0F8",
           "ticks": "",
           "title": {
            "standoff": 15
           },
           "zerolinecolor": "#EBF0F8",
           "zerolinewidth": 2
          }
         }
        },
        "title": {
         "text": "Comprehensive Set-Piece Takers Analysis",
         "x": 0.5
        },
        "xaxis": {
         "anchor": "y",
         "domain": [
          0,
          0.45
         ],
         "tickangle": 45
        },
        "xaxis2": {
         "anchor": "y2",
         "domain": [
          0.55,
          1
         ],
         "tickangle": 45
        },
        "xaxis3": {
         "anchor": "y3",
         "domain": [
          0,
          0.45
         ],
         "tickangle": 45
        },
        "xaxis4": {
         "anchor": "y4",
         "domain": [
          0.55,
          1
         ],
         "tickangle": 45
        },
        "yaxis": {
         "anchor": "x",
         "domain": [
          0.625,
          1
         ]
        },
        "yaxis2": {
         "anchor": "x2",
         "domain": [
          0.625,
          1
         ]
        },
        "yaxis3": {
         "anchor": "x3",
         "domain": [
          0,
          0.375
         ]
        },
        "yaxis4": {
         "anchor": "x4",
         "domain": [
          0,
          0.375
         ]
        }
       }
      }
     },
     "metadata": {},
     "output_type": "display_data"
    },
    {
     "name": "stdout",
     "output_type": "stream",
     "text": [
      "\n",
      "--- Analyzing Delivery Zones & Danger ---\n",
      "Analyzing 178 corner kicks...\n"
     ]
    },
    {
     "data": {
      "application/vnd.plotly.v1+json": {
       "config": {
        "plotlyServerURL": "https://plot.ly"
       },
       "data": [
        {
         "hoverinfo": "none",
         "marker": {
          "color": "white",
          "size": 8
         },
         "mode": "markers",
         "type": "scatter",
         "x": [
          50
         ],
         "y": [
          50
         ]
        },
        {
         "hoverinfo": "none",
         "marker": {
          "color": "white",
          "size": 8
         },
         "mode": "markers",
         "type": "scatter",
         "x": [
          11,
          89
         ],
         "y": [
          50,
          50
         ]
        },
        {
         "hoverinfo": "none",
         "line": {
          "color": "white",
          "width": 4
         },
         "mode": "lines",
         "type": "scatter",
         "x": [
          -1,
          -1
         ],
         "y": [
          45.2,
          54.8
         ]
        },
        {
         "hoverinfo": "none",
         "line": {
          "color": "white",
          "width": 4
         },
         "mode": "lines",
         "type": "scatter",
         "x": [
          101,
          101
         ],
         "y": [
          45.2,
          54.8
         ]
        },
        {
         "colorscale": [
          [
           0,
           "rgb(255,245,240)"
          ],
          [
           0.125,
           "rgb(254,224,210)"
          ],
          [
           0.25,
           "rgb(252,187,161)"
          ],
          [
           0.375,
           "rgb(252,146,114)"
          ],
          [
           0.5,
           "rgb(251,106,74)"
          ],
          [
           0.625,
           "rgb(239,59,44)"
          ],
          [
           0.75,
           "rgb(203,24,29)"
          ],
          [
           0.875,
           "rgb(165,15,21)"
          ],
          [
           1,
           "rgb(103,0,13)"
          ]
         ],
         "contours": {
          "coloring": "heatmap"
         },
         "name": "Delivery Frequency",
         "opacity": 0.5,
         "showscale": false,
         "type": "histogram2dcontour",
         "x": {
          "bdata": "AAAAAABAV0AAAAAAAEBWQAAAAAAAAFhAAAAAAACAV0AAAAAAAIBWQAAAAAAAwFZAAAAAAAAAWEAAAAAAAMBWQAAAAAAAAFdAAAAAAACAV0AAAAAAAMBWQAAAAAAAAFhAAAAAAAAAVkAAAAAAAIBXQAAAAAAAQFhAAAAAAAAAVkAAAAAAAMBVQAAAAAAAQFhAAAAAAADAVkAAAAAAAMBWQAAAAAAAQFdAAAAAAADAVkAAAAAAAEBYQAAAAAAAQFdAAAAAAACAVkAAAAAAAABXQAAAAAAAwFdAAAAAAACAV0AAAAAAAEBYQAAAAAAAAFdAAAAAAAAAV0AAAAAAAEBWQAAAAAAAAFhAAAAAAABAV0AAAAAAAMBWQAAAAAAAAFZAAAAAAAAAV0AAAAAAAMBWQAAAAAAAgFhAAAAAAABAV0AAAAAAAIBUQAAAAAAAQFdAAAAAAADAVkAAAAAAAMBXQAAAAAAAAFhAAAAAAABAV0AAAAAAAIBVQAAAAAAAAFhAAAAAAACAV0AAAAAAAEBXQAAAAAAAQFdAAAAAAABAV0AAAAAAAEBYQAAAAAAAAFhAAAAAAADAVkAAAAAAAMBVQAAAAAAAAFhAAAAAAADAVUAAAAAAAEBYQAAAAAAAgFdAAAAAAAAAWEAAAAAAAMBXQAAAAAAAQFdAAAAAAAAAVkAAAAAAAABSQAAAAAAAgFhAAAAAAAAAWEAAAAAAAIBYQAAAAAAAgFdAAAAAAAAAVkAAAAAAAMBWQAAAAAAAwFVAAAAAAAAAWUAAAAAAAIBWQAAAAAAAAFdAAAAAAACAVkAAAAAAAIBVQAAAAAAAAFdAAAAAAADAVkAAAAAAAMBWQAAAAAAAQFdAAAAAAAAAWEAAAAAAAEBXQAAAAAAAAFdAAAAAAAAAVkAAAAAAAMBYQAAAAAAAAFhAAAAAAADAVEAAAAAAAMBXQAAAAAAAQFhAAAAAAADAV0AAAAAAAIBWQAAAAAAAwFdAAAAAAADAVkAAAAAAAEBXQAAAAAAAAFhAAAAAAABAWEAAAAAAAEBYQAAAAAAAQFdAAAAAAACAV0AAAAAAAIBWQAAAAAAAAFJAAAAAAACAV0AAAAAAAABYQAAAAAAAQFdAAAAAAAAAWEAAAAAAAABYQAAAAAAAgFdAAAAAAABAVUAAAAAAAABXQAAAAAAAgFhAAAAAAAAAWEAAAAAAAEBXQAAAAAAAgFdAAAAAAAAAVkAAAAAAAIBWQAAAAAAAgFZAAAAAAACATkAAAAAAAEBXQAAAAAAAwFdAAAAAAAAAWEAAAAAAAEBYQAAAAAAAQFZAAAAAAABAVkAAAAAAAABWQAAAAAAAwFZAAAAAAAAAV0AAAAAAAMBXQAAAAAAAAFhAAAAAAADAV0AAAAAAAMBXQAAAAAAAgFdAAAAAAACAV0AAAAAAAABXQAAAAAAAQFRAAAAAAAAAV0AAAAAAAEBXQAAAAAAAQFVAAAAAAACAV0AAAAAAAEBWQAAAAAAAwFZAAAAAAABAVkAAAAAAAABYQAAAAAAAwFhAAAAAAABAV0AAAAAAAABYQAAAAAAAQFhAAAAAAABAWEAAAAAAAMBXQAAAAAAAgFhAAAAAAABAV0AAAAAAAABXQAAAAAAAwFVAAAAAAADAV0AAAAAAAEBYQAAAAAAAQFhAAAAAAABAWEAAAAAAAEBXQAAAAAAAwFdAAAAAAAAAWEAAAAAAAIBXQAAAAAAAAFhAAAAAAADAVkAAAAAAAMBVQAAAAAAAwFdAAAAAAABAU0AAAAAAAABYQAAAAAAAwFdAAAAAAACAWEAAAAAAAABYQAAAAAAAAFhAAAAAAAAAV0AAAAAAAABZQAAAAAAAwFdAAAAAAAAAV0AAAAAAAEBWQAAAAAAAAFdAAAAAAABAV0A=",
          "dtype": "f8"
         },
         "y": {
          "bdata": "AAAAAAAAVUAAAAAAAIBKQAAAAAAAAElAAAAAAAAASEAAAAAAAABLQAAAAAAAgERAAAAAAAAAREAAAAAAAABHQAAAAAAAAElAAAAAAACASEAAAAAAAABGQAAAAAAAgE1AAAAAAAAAWUAAAAAAAEBRQAAAAAAAgEZAAAAAAAAAMEAAAAAAAAAwQAAAAAAAgEpAAAAAAACATEAAAAAAAIBHQAAAAAAAADJAAAAAAACAUEAAAAAAAIBDQAAAAAAAAEdAAAAAAAAAQkAAAAAAAIBHQAAAAAAAAEdAAAAAAACARkAAAAAAAABFQAAAAAAAAEZAAAAAAACAQ0AAAAAAAIBJQAAAAAAAAE5AAAAAAACASkAAAAAAAIBKQAAAAAAAAEZAAAAAAAAAPkAAAAAAAABDQAAAAAAAgE5AAAAAAAAAQkAAAAAAAAAuQAAAAAAAQFBAAAAAAACASEAAAAAAAABLQAAAAAAAAFFAAAAAAAAAR0AAAAAAAEBXQAAAAAAAAEZAAAAAAAAASkAAAAAAAABDQAAAAAAAAExAAAAAAAAASEAAAAAAAEBSQAAAAAAAAEtAAAAAAACARUAAAAAAAIBHQAAAAAAAABxAAAAAAAAAEEAAAAAAAMBSQAAAAAAAgEZAAAAAAAAAREAAAAAAAIBPQAAAAAAAADtAAAAAAADAVEAAAAAAAEBVQAAAAAAAAEVAAAAAAAAATUAAAAAAAIBGQAAAAAAAgEtAAAAAAACATkAAAAAAAABPQAAAAAAAAE1AAAAAAAAAQEAAAAAAAIBLQAAAAAAAAElAAAAAAACAR0AAAAAAAAAQQAAAAAAAgExAAAAAAAAATUAAAAAAAABNQAAAAAAAgE9AAAAAAAAAOUAAAAAAAIBKQAAAAAAAAEhAAAAAAACATkAAAAAAAABMQAAAAAAAAEFAAAAAAAAAMUAAAAAAAABAQAAAAAAAAEhAAAAAAACAREAAAAAAAABHQAAAAAAAgENAAAAAAAAAS0AAAAAAAIBMQAAAAAAAAEtAAAAAAACAQEAAAAAAAABHQAAAAAAAgEtAAAAAAADAUUAAAAAAAABEQAAAAAAAACpAAAAAAACASUAAAAAAAABKQAAAAAAAgE1AAAAAAACASUAAAAAAAIBKQAAAAAAAAExAAAAAAAAAEEAAAAAAAIBIQAAAAAAAAFhAAAAAAAAATkAAAAAAAAA/QAAAAAAAgERAAAAAAAAAEEAAAAAAAIBNQAAAAAAAAEVAAAAAAABAUUAAAAAAAIBMQAAAAAAAAElAAAAAAAAARkAAAAAAAABCQAAAAAAAgElAAAAAAAAARUAAAAAAAIBIQAAAAAAAgEJAAAAAAACAS0AAAAAAAABCQAAAAAAAgEVAAAAAAAAAUEAAAAAAAABQQAAAAAAAgE5AAAAAAAAATUAAAAAAAABOQAAAAAAAAChAAAAAAACATEAAAAAAAIBMQAAAAAAAgFRAAAAAAACAR0AAAAAAAABQQAAAAAAAgElAAAAAAACATEAAAAAAAIBLQAAAAAAAAEhAAAAAAAAAR0AAAAAAAABIQAAAAAAAgExAAAAAAACAR0AAAAAAAABNQAAAAAAAgEFAAAAAAACAQUAAAAAAAIBCQAAAAAAAACBAAAAAAAAATkAAAAAAAIBOQAAAAAAAgEtAAAAAAACATkAAAAAAAABWQAAAAAAAAE5AAAAAAACATkAAAAAAAIBIQAAAAAAAgEhAAAAAAAAAS0AAAAAAAAAAQAAAAAAAAElAAAAAAAAAV0AAAAAAAABKQAAAAAAAQFBAAAAAAAAARUAAAAAAAABNQAAAAAAAgEhAAAAAAAAATUAAAAAAAIBPQAAAAAAAAEZAAAAAAACAR0AAAAAAAAA/QAAAAAAAAEFAAAAAAAAAQ0A=",
          "dtype": "f8"
         }
        },
        {
         "hoverinfo": "text",
         "marker": {
          "color": {
           "bdata": "AAAAAAAAAAAAAAAAAAAAAAAAAAAAAAAAAAAAAAAAAAAAAAAAAAAAAAAAAAAAAAAAAAAAAAAAAADCFyZTBaOCP0SLbOf7qcE/AAAAAAAAAAAAAAAAAAAAAAAAAAAAAAAAAAAAAAAAAAAAAAAAAAAAAAAAAAAAAAAAO99PjZducj956SYxCKx8PwAAAAAAAAAAAAAAAAAAAABU46WbxCCgPwAAAAAAAAAAAiuHFtnOtz+RD3o2qz6nP4XrUbgehds/AAAAAAAAAAAAAAAAAAAAAAAAAAAAAAAA2ht8YTJVoD8AAAAAAAAAALpJDAIrh3Y/2/l+arx01z8AAAAAAAAAAAAAAAAAAAAAAAAAAAAAAAC5/If029fBP8BbIEHxY7w/exSuR+F6ZD8vbqMBvAWSPwAAAAAAAAAAAAAAAAAAAAAldQKaCBuOPwAAAAAAAAAAAAAAAAAAAAAAAAAAAAAAAAAAAAAAAAAAAAAAAAAAAAAAAAAAAAAAAAAAAAAAAAAAAAAAAAAAAAAAAAAAAAAAAPCnxks3icE/jnVxGw3gzT/CFyZTBaOCPwAAAAAAAAAA1QloImx4qj8AAAAAAAAAAAAAAAAAAAAA+n5qvHSTaD8AAAAAAAAAAAAAAAAAAAAAAAAAAAAAAAAAAAAAAAAAAAAAAAAAAAAAhlrTvOMUnT8AAAAAAAAAAAAAAAAAAAAAAAAAAAAAAAAAAAAAAAAAAAAAAAAAAAAAAAAAAAAAAAAAAAAAAAAAAAAAAAAAAAAAAAAAAAAAAADNO07RkVyuPwAAAAAAAAAAYVRSJ6CJsD8AAAAAAAAAAMe6uI0G8HY/6SYxCKwcqj8AAAAAAAAAAAAAAAAAAAAAbjSAt0CCsj80orQ3+MLEP4qO5PIf0r8/AAAAAAAAAAAAAAAAAAAAAAAAAAAAAAAAAAAAAAAAAAAAAAAAAAAAAAAAAAAAAAAAAAAAAAAAAAD/If32deDEPwAAAAAAAAAAfh04Z0Rpzz8AAAAAAAAAAAAAAAAAAAAAseHplbIMoT8AAAAAAAAAAEYldQKaCMM/W7G/7J48xD9/+zpwzoiiPwAAAAAAAAAAAAAAAAAAAAAAAAAAAAAAAAAAAAAAAAAAAAAAAAAAAAAAAAAAAAAAAAAAAAAAAAAAi2zn+6nxkj/ysFBrmnecPwAAAAAAAAAAAAAAAAAAAAAAAAAAAAAAAAAAAAAAAAAAAAAAAAAAAAAAAAAAAAAAAC1DHOviNlo/AAAAAAAAAACHp1fKMsShP86I0t7gC6M/24r9ZffkwT9ZF7fRAN7SPwAAAAAAAAAAhJ7Nqs/Vpj/6fmq8dJN4PwAAAAAAAAAA7uvAOSNKwz8AAAAAAAAAAAAAAAAAAAAAAAAAAAAAAAAAAAAAAAAAAAAAAAAAAAAAAAAAAAAAAAAAAAAAAAAAAMWPMXctIX8/AAAAAAAAAAAAAAAAAAAAAAAAAAAAAAAAAAAAAAAAAAAAAAAAAAAAAAAAAAAAAAAAAAAAAAAAAAAAAAAAAAAAAAAAAAAAAAAAAAAAAAAAAAAAAAAAAAAAAAAAAAAAAAAAAAAAAAAAAAAAAAAAAAAAAAAAAAAAAAAAK4cW2c73oz/ZPXlYqDW9P0GC4seYu7Y/AAAAAAAAAAAAAAAAAAAAAAAAAAAAAAAAAAAAAAAAAAAAAAAAAAAAAAAAAAAAAAAAAAAAAAAAAAAAAAAAAAAAAAAAAAAAAAAAAAAAAAAAAAAAAAAAAAAAACV1ApoIG54/AAAAAAAAAAB0JJf/kH7TPwAAAAAAAAAAAAAAAAAAAAC6SQwCK4emPwAAAAAAAAAAAAAAAAAAAAAAAAAAAAAAAAAAAAAAAAAAAAAAAAAAAAAAAAAAAAAAAAAAAAAAAAAAAAAAAAAAAAA=",
           "dtype": "f8"
          },
          "colorbar": {
           "title": {
            "text": "xG"
           },
           "x": 0.95
          },
          "colorscale": [
           [
            0,
            "rgb(255,255,204)"
           ],
           [
            0.125,
            "rgb(255,237,160)"
           ],
           [
            0.25,
            "rgb(254,217,118)"
           ],
           [
            0.375,
            "rgb(254,178,76)"
           ],
           [
            0.5,
            "rgb(253,141,60)"
           ],
           [
            0.625,
            "rgb(252,78,42)"
           ],
           [
            0.75,
            "rgb(227,26,28)"
           ],
           [
            0.875,
            "rgb(189,0,38)"
           ],
           [
            1,
            "rgb(128,0,38)"
           ]
          ],
          "line": {
           "color": "white",
           "width": 1
          },
          "opacity": 0.8,
          "showscale": true,
          "size": {
           "bdata": "AAAAAAAAJEAAAAAAAAAkQAAAAAAAACRAAAAAAAAAJEAAAAAAAAAkQAAAAAAAACRAAAAAAAAAJECgGi/dJEYlQClcj8L1qDNAAAAAAAAAJEAAAAAAAAAkQAAAAAAAACRAAAAAAAAAJEAAAAAAAAAkQAAAAAAAACRA4XoUrkehJEB7FK5H4fokQAAAAAAAACRAAAAAAAAAJEApXI/C9WgoQAAAAAAAACRAwvUoXI+CMEBCYOXQIlsqQMzMzMzMDERAAAAAAAAAJEAAAAAAAAAkQAAAAAAAACRAnu+nxkt3KEAAAAAAAAAkQIXrUbgexSRApHA9CtfTQUAAAAAAAAAkQAAAAAAAACRAAAAAAAAAJEA1XrpJDMIzQBbZzvdTwzFAmpmZmZlZJEAQWDm0yHYmQAAAAAAAACRAAAAAAAAAJEACK4cW2Q4mQAAAAAAAACRAAAAAAAAAJEAAAAAAAAAkQAAAAAAAACRAAAAAAAAAJEAAAAAAAAAkQAAAAAAAACRAAAAAAAAAJEAAAAAAAAAkQNejcD0KlzNASgwCK4dWOkCgGi/dJEYlQAAAAAAAACRAsHJoke08K0AAAAAAAAAkQAAAAAAAACRA7FG4HoVrJEAAAAAAAAAkQAAAAAAAACRAAAAAAAAAJEAAAAAAAAAkQAAAAAAAACRAYOXQItv5J0AAAAAAAAAkQAAAAAAAACRAAAAAAAAAJEAAAAAAAAAkQAAAAAAAACRAAAAAAAAAJEAAAAAAAAAkQAAAAAAAACRAAAAAAAAAJEBaZDvfT00sQAAAAAAAACRAJQaBlUMLLUAAAAAAAAAkQGIQWDm0yCRApHA9CtcjK0AAAAAAAAAkQAAAAAAAACRArBxaZDsfLkC0yHa+n1o1QPp+arx0szJAAAAAAAAAJEAAAAAAAAAkQAAAAAAAACRAAAAAAAAAJEAAAAAAAAAkQAAAAAAAACRAAAAAAAAAJECYbhKDwGo1QAAAAAAAACRAIbByaJEtO0AAAAAAAAAkQAAAAAAAACRAtvP91HipKEAAAAAAAAAkQGIQWDm0aDRA/tR46SYRNUDFILByaBEpQAAAAAAAACRAAAAAAAAAJEAAAAAAAAAkQAAAAAAAACRAAAAAAAAAJEAAAAAAAAAkQAAAAAAAACRA16NwPQqXJkAxCKwcWuQnQAAAAAAAACRAAAAAAAAAJEAAAAAAAAAkQAAAAAAAACRAAAAAAAAAJEAAAAAAAAAkQNNNYhBYOSRAAAAAAAAAJEDP91PjpdsoQGiR7Xw/NSlA8KfGSzfJM0CJQWDl0KI+QAAAAAAAACRAWDm0yHY+KkDXo3A9CtckQAAAAAAAACRABoGVQ4uMNEAAAAAAAAAkQAAAAAAAACRAAAAAAAAAJEAAAAAAAAAkQAAAAAAAACRAAAAAAAAAJEAAAAAAAAAkQKrx0k1iECVAAAAAAAAAJEAAAAAAAAAkQAAAAAAAACRAAAAAAAAAJEAAAAAAAAAkQAAAAAAAACRAAAAAAAAAJEAAAAAAAAAkQAAAAAAAACRAAAAAAAAAJEAAAAAAAAAkQAAAAAAAACRAAAAAAAAAJEAAAAAAAAAkQAAAAAAAACRA9ihcj8J1KUDpJjEIrPwxQJ7vp8ZLNzBAAAAAAAAAJEAAAAAAAAAkQAAAAAAAACRAAAAAAAAAJEAAAAAAAAAkQAAAAAAAACRAAAAAAAAAJEAAAAAAAAAkQAAAAAAAACRAAAAAAAAAJEAAAAAAAAAkQARWDi2yHShAAAAAAAAAJEDfT42XblI/QAAAAAAAACRAAAAAAAAAJEApXI/C9SgqQAAAAAAAACRAAAAAAAAAJEAAAAAAAAAkQAAAAAAAACRAAAAAAAAAJEAAAAAAAAAkQAAAAAAAACRAAAAAAAAAJEA=",
           "dtype": "f8"
          },
          "sizemode": "diameter"
         },
         "mode": "markers",
         "name": "Delivery Danger (xG)",
         "text": [
          "xG: 0.000",
          "xG: 0.000",
          "xG: 0.000",
          "xG: 0.000",
          "xG: 0.000",
          "xG: 0.000",
          "xG: 0.000",
          "xG: 0.009",
          "xG: 0.138",
          "xG: 0.000",
          "xG: 0.000",
          "xG: 0.000",
          "xG: 0.000",
          "xG: 0.000",
          "xG: 0.000",
          "xG: 0.004",
          "xG: 0.007",
          "xG: 0.000",
          "xG: 0.000",
          "xG: 0.032",
          "xG: 0.000",
          "xG: 0.093",
          "xG: 0.045",
          "xG: 0.430",
          "xG: 0.000",
          "xG: 0.000",
          "xG: 0.000",
          "xG: 0.032",
          "xG: 0.000",
          "xG: 0.005",
          "xG: 0.366",
          "xG: 0.000",
          "xG: 0.000",
          "xG: 0.000",
          "xG: 0.139",
          "xG: 0.111",
          "xG: 0.003",
          "xG: 0.018",
          "xG: 0.000",
          "xG: 0.000",
          "xG: 0.015",
          "xG: 0.000",
          "xG: 0.000",
          "xG: 0.000",
          "xG: 0.000",
          "xG: 0.000",
          "xG: 0.000",
          "xG: 0.000",
          "xG: 0.000",
          "xG: 0.000",
          "xG: 0.137",
          "xG: 0.233",
          "xG: 0.009",
          "xG: 0.000",
          "xG: 0.052",
          "xG: 0.000",
          "xG: 0.000",
          "xG: 0.003",
          "xG: 0.000",
          "xG: 0.000",
          "xG: 0.000",
          "xG: 0.000",
          "xG: 0.000",
          "xG: 0.028",
          "xG: 0.000",
          "xG: 0.000",
          "xG: 0.000",
          "xG: 0.000",
          "xG: 0.000",
          "xG: 0.000",
          "xG: 0.000",
          "xG: 0.000",
          "xG: 0.000",
          "xG: 0.059",
          "xG: 0.000",
          "xG: 0.065",
          "xG: 0.000",
          "xG: 0.006",
          "xG: 0.051",
          "xG: 0.000",
          "xG: 0.000",
          "xG: 0.072",
          "xG: 0.162",
          "xG: 0.124",
          "xG: 0.000",
          "xG: 0.000",
          "xG: 0.000",
          "xG: 0.000",
          "xG: 0.000",
          "xG: 0.000",
          "xG: 0.000",
          "xG: 0.163",
          "xG: 0.000",
          "xG: 0.245",
          "xG: 0.000",
          "xG: 0.000",
          "xG: 0.033",
          "xG: 0.000",
          "xG: 0.149",
          "xG: 0.158",
          "xG: 0.036",
          "xG: 0.000",
          "xG: 0.000",
          "xG: 0.000",
          "xG: 0.000",
          "xG: 0.000",
          "xG: 0.000",
          "xG: 0.000",
          "xG: 0.018",
          "xG: 0.028",
          "xG: 0.000",
          "xG: 0.000",
          "xG: 0.000",
          "xG: 0.000",
          "xG: 0.000",
          "xG: 0.000",
          "xG: 0.002",
          "xG: 0.000",
          "xG: 0.035",
          "xG: 0.037",
          "xG: 0.140",
          "xG: 0.295",
          "xG: 0.000",
          "xG: 0.045",
          "xG: 0.006",
          "xG: 0.000",
          "xG: 0.151",
          "xG: 0.000",
          "xG: 0.000",
          "xG: 0.000",
          "xG: 0.000",
          "xG: 0.000",
          "xG: 0.000",
          "xG: 0.000",
          "xG: 0.008",
          "xG: 0.000",
          "xG: 0.000",
          "xG: 0.000",
          "xG: 0.000",
          "xG: 0.000",
          "xG: 0.000",
          "xG: 0.000",
          "xG: 0.000",
          "xG: 0.000",
          "xG: 0.000",
          "xG: 0.000",
          "xG: 0.000",
          "xG: 0.000",
          "xG: 0.000",
          "xG: 0.000",
          "xG: 0.039",
          "xG: 0.114",
          "xG: 0.089",
          "xG: 0.000",
          "xG: 0.000",
          "xG: 0.000",
          "xG: 0.000",
          "xG: 0.000",
          "xG: 0.000",
          "xG: 0.000",
          "xG: 0.000",
          "xG: 0.000",
          "xG: 0.000",
          "xG: 0.000",
          "xG: 0.029",
          "xG: 0.000",
          "xG: 0.305",
          "xG: 0.000",
          "xG: 0.000",
          "xG: 0.044",
          "xG: 0.000",
          "xG: 0.000",
          "xG: 0.000",
          "xG: 0.000",
          "xG: 0.000",
          "xG: 0.000",
          "xG: 0.000",
          "xG: 0.000"
         ],
         "type": "scatter",
         "x": {
          "bdata": "AAAAAABAV0AAAAAAAEBWQAAAAAAAAFhAAAAAAACAV0AAAAAAAIBWQAAAAAAAwFZAAAAAAAAAWEAAAAAAAMBWQAAAAAAAAFdAAAAAAACAV0AAAAAAAMBWQAAAAAAAAFhAAAAAAAAAVkAAAAAAAIBXQAAAAAAAQFhAAAAAAAAAVkAAAAAAAMBVQAAAAAAAQFhAAAAAAADAVkAAAAAAAMBWQAAAAAAAQFdAAAAAAADAVkAAAAAAAEBYQAAAAAAAQFdAAAAAAACAVkAAAAAAAABXQAAAAAAAwFdAAAAAAACAV0AAAAAAAEBYQAAAAAAAAFdAAAAAAAAAV0AAAAAAAEBWQAAAAAAAAFhAAAAAAABAV0AAAAAAAMBWQAAAAAAAAFZAAAAAAAAAV0AAAAAAAMBWQAAAAAAAgFhAAAAAAABAV0AAAAAAAIBUQAAAAAAAQFdAAAAAAADAVkAAAAAAAMBXQAAAAAAAAFhAAAAAAABAV0AAAAAAAIBVQAAAAAAAAFhAAAAAAACAV0AAAAAAAEBXQAAAAAAAQFdAAAAAAABAV0AAAAAAAEBYQAAAAAAAAFhAAAAAAADAVkAAAAAAAMBVQAAAAAAAAFhAAAAAAADAVUAAAAAAAEBYQAAAAAAAgFdAAAAAAAAAWEAAAAAAAMBXQAAAAAAAQFdAAAAAAAAAVkAAAAAAAABSQAAAAAAAgFhAAAAAAAAAWEAAAAAAAIBYQAAAAAAAgFdAAAAAAAAAVkAAAAAAAMBWQAAAAAAAwFVAAAAAAAAAWUAAAAAAAIBWQAAAAAAAAFdAAAAAAACAVkAAAAAAAIBVQAAAAAAAAFdAAAAAAADAVkAAAAAAAMBWQAAAAAAAQFdAAAAAAAAAWEAAAAAAAEBXQAAAAAAAAFdAAAAAAAAAVkAAAAAAAMBYQAAAAAAAAFhAAAAAAADAVEAAAAAAAMBXQAAAAAAAQFhAAAAAAADAV0AAAAAAAIBWQAAAAAAAwFdAAAAAAADAVkAAAAAAAEBXQAAAAAAAAFhAAAAAAABAWEAAAAAAAEBYQAAAAAAAQFdAAAAAAACAV0AAAAAAAIBWQAAAAAAAAFJAAAAAAACAV0AAAAAAAABYQAAAAAAAQFdAAAAAAAAAWEAAAAAAAABYQAAAAAAAgFdAAAAAAABAVUAAAAAAAABXQAAAAAAAgFhAAAAAAAAAWEAAAAAAAEBXQAAAAAAAgFdAAAAAAAAAVkAAAAAAAIBWQAAAAAAAgFZAAAAAAACATkAAAAAAAEBXQAAAAAAAwFdAAAAAAAAAWEAAAAAAAEBYQAAAAAAAQFZAAAAAAABAVkAAAAAAAABWQAAAAAAAwFZAAAAAAAAAV0AAAAAAAMBXQAAAAAAAAFhAAAAAAADAV0AAAAAAAMBXQAAAAAAAgFdAAAAAAACAV0AAAAAAAABXQAAAAAAAQFRAAAAAAAAAV0AAAAAAAEBXQAAAAAAAQFVAAAAAAACAV0AAAAAAAEBWQAAAAAAAwFZAAAAAAABAVkAAAAAAAABYQAAAAAAAwFhAAAAAAABAV0AAAAAAAABYQAAAAAAAQFhAAAAAAABAWEAAAAAAAMBXQAAAAAAAgFhAAAAAAABAV0AAAAAAAABXQAAAAAAAwFVAAAAAAADAV0AAAAAAAEBYQAAAAAAAQFhAAAAAAABAWEAAAAAAAEBXQAAAAAAAwFdAAAAAAAAAWEAAAAAAAIBXQAAAAAAAAFhAAAAAAADAVkAAAAAAAMBVQAAAAAAAwFdAAAAAAABAU0AAAAAAAABYQAAAAAAAwFdAAAAAAACAWEAAAAAAAABYQAAAAAAAAFhAAAAAAAAAV0AAAAAAAABZQAAAAAAAwFdAAAAAAAAAV0AAAAAAAEBWQAAAAAAAAFdAAAAAAABAV0A=",
          "dtype": "f8"
         },
         "y": {
          "bdata": "AAAAAAAAVUAAAAAAAIBKQAAAAAAAAElAAAAAAAAASEAAAAAAAABLQAAAAAAAgERAAAAAAAAAREAAAAAAAABHQAAAAAAAAElAAAAAAACASEAAAAAAAABGQAAAAAAAgE1AAAAAAAAAWUAAAAAAAEBRQAAAAAAAgEZAAAAAAAAAMEAAAAAAAAAwQAAAAAAAgEpAAAAAAACATEAAAAAAAIBHQAAAAAAAADJAAAAAAACAUEAAAAAAAIBDQAAAAAAAAEdAAAAAAAAAQkAAAAAAAIBHQAAAAAAAAEdAAAAAAACARkAAAAAAAABFQAAAAAAAAEZAAAAAAACAQ0AAAAAAAIBJQAAAAAAAAE5AAAAAAACASkAAAAAAAIBKQAAAAAAAAEZAAAAAAAAAPkAAAAAAAABDQAAAAAAAgE5AAAAAAAAAQkAAAAAAAAAuQAAAAAAAQFBAAAAAAACASEAAAAAAAABLQAAAAAAAAFFAAAAAAAAAR0AAAAAAAEBXQAAAAAAAAEZAAAAAAAAASkAAAAAAAABDQAAAAAAAAExAAAAAAAAASEAAAAAAAEBSQAAAAAAAAEtAAAAAAACARUAAAAAAAIBHQAAAAAAAABxAAAAAAAAAEEAAAAAAAMBSQAAAAAAAgEZAAAAAAAAAREAAAAAAAIBPQAAAAAAAADtAAAAAAADAVEAAAAAAAEBVQAAAAAAAAEVAAAAAAAAATUAAAAAAAIBGQAAAAAAAgEtAAAAAAACATkAAAAAAAABPQAAAAAAAAE1AAAAAAAAAQEAAAAAAAIBLQAAAAAAAAElAAAAAAACAR0AAAAAAAAAQQAAAAAAAgExAAAAAAAAATUAAAAAAAABNQAAAAAAAgE9AAAAAAAAAOUAAAAAAAIBKQAAAAAAAAEhAAAAAAACATkAAAAAAAABMQAAAAAAAAEFAAAAAAAAAMUAAAAAAAABAQAAAAAAAAEhAAAAAAACAREAAAAAAAABHQAAAAAAAgENAAAAAAAAAS0AAAAAAAIBMQAAAAAAAAEtAAAAAAACAQEAAAAAAAABHQAAAAAAAgEtAAAAAAADAUUAAAAAAAABEQAAAAAAAACpAAAAAAACASUAAAAAAAABKQAAAAAAAgE1AAAAAAACASUAAAAAAAIBKQAAAAAAAAExAAAAAAAAAEEAAAAAAAIBIQAAAAAAAAFhAAAAAAAAATkAAAAAAAAA/QAAAAAAAgERAAAAAAAAAEEAAAAAAAIBNQAAAAAAAAEVAAAAAAABAUUAAAAAAAIBMQAAAAAAAAElAAAAAAAAARkAAAAAAAABCQAAAAAAAgElAAAAAAAAARUAAAAAAAIBIQAAAAAAAgEJAAAAAAACAS0AAAAAAAABCQAAAAAAAgEVAAAAAAAAAUEAAAAAAAABQQAAAAAAAgE5AAAAAAAAATUAAAAAAAABOQAAAAAAAAChAAAAAAACATEAAAAAAAIBMQAAAAAAAgFRAAAAAAACAR0AAAAAAAABQQAAAAAAAgElAAAAAAACATEAAAAAAAIBLQAAAAAAAAEhAAAAAAAAAR0AAAAAAAABIQAAAAAAAgExAAAAAAACAR0AAAAAAAABNQAAAAAAAgEFAAAAAAACAQUAAAAAAAIBCQAAAAAAAACBAAAAAAAAATkAAAAAAAIBOQAAAAAAAgEtAAAAAAACATkAAAAAAAABWQAAAAAAAAE5AAAAAAACATkAAAAAAAIBIQAAAAAAAgEhAAAAAAAAAS0AAAAAAAAAAQAAAAAAAAElAAAAAAAAAV0AAAAAAAABKQAAAAAAAQFBAAAAAAAAARUAAAAAAAABNQAAAAAAAgEhAAAAAAAAATUAAAAAAAIBPQAAAAAAAAEZAAAAAAACAR0AAAAAAAAA/QAAAAAAAAEFAAAAAAAAAQ0A=",
          "dtype": "f8"
         }
        }
       ],
       "layout": {
        "height": 700,
        "legend": {
         "bgcolor": "rgba(0,0,0,0.5)",
         "font": {
          "color": "white"
         },
         "x": 0.01,
         "xanchor": "left",
         "y": 0.95,
         "yanchor": "top"
        },
        "margin": {
         "b": 20,
         "l": 20,
         "r": 20,
         "t": 50
        },
        "plot_bgcolor": "#2E7D32",
        "shapes": [
         {
          "line": {
           "color": "white",
           "width": 2
          },
          "type": "rect",
          "x0": 0,
          "x1": 100,
          "y0": 0,
          "y1": 100
         },
         {
          "line": {
           "color": "white",
           "width": 2
          },
          "type": "line",
          "x0": 50,
          "x1": 50,
          "y0": 0,
          "y1": 100
         },
         {
          "line": {
           "color": "white",
           "width": 2
          },
          "type": "rect",
          "x0": 0,
          "x1": 16.5,
          "y0": 21.1,
          "y1": 78.9
         },
         {
          "line": {
           "color": "white",
           "width": 2
          },
          "type": "rect",
          "x0": 83.5,
          "x1": 100,
          "y0": 21.1,
          "y1": 78.9
         },
         {
          "line": {
           "color": "white",
           "width": 2
          },
          "type": "rect",
          "x0": 0,
          "x1": 5.5,
          "y0": 36.8,
          "y1": 63.2
         },
         {
          "line": {
           "color": "white",
           "width": 2
          },
          "type": "rect",
          "x0": 94.5,
          "x1": 100,
          "y0": 36.8,
          "y1": 63.2
         },
         {
          "line": {
           "color": "white",
           "width": 2
          },
          "type": "circle",
          "x0": 40.85,
          "x1": 59.15,
          "y0": 40.85,
          "y1": 59.15
         },
         {
          "line": {
           "color": "white",
           "width": 2
          },
          "path": "M 16.5,38.7 C 23.5,43.7, 23.5,56.3, 16.5,61.3",
          "type": "path"
         },
         {
          "line": {
           "color": "white",
           "width": 2
          },
          "path": "M 83.5,38.7 C 76.5,43.7, 76.5,56.3, 83.5,61.3",
          "type": "path"
         },
         {
          "line": {
           "color": "white",
           "width": 2
          },
          "path": "M 0,1 A 1,1 0 0,1 1,0",
          "type": "path"
         },
         {
          "line": {
           "color": "white",
           "width": 2
          },
          "path": "M 0,99 A 1,1 0 0,0 1,100",
          "type": "path"
         },
         {
          "line": {
           "color": "white",
           "width": 2
          },
          "path": "M 100,1 A 1,1 0 0,0 99,0",
          "type": "path"
         },
         {
          "line": {
           "color": "white",
           "width": 2
          },
          "path": "M 100,99 A 1,1 0 0,1 99,100",
          "type": "path"
         },
         {
          "fillcolor": "#388E3C",
          "layer": "below",
          "line": {
           "width": 0
          },
          "opacity": 0.3,
          "type": "rect",
          "x0": 0,
          "x1": 5,
          "y0": 0,
          "y1": 100
         },
         {
          "fillcolor": "#388E3C",
          "layer": "below",
          "line": {
           "width": 0
          },
          "opacity": 0.3,
          "type": "rect",
          "x0": 10,
          "x1": 15,
          "y0": 0,
          "y1": 100
         },
         {
          "fillcolor": "#388E3C",
          "layer": "below",
          "line": {
           "width": 0
          },
          "opacity": 0.3,
          "type": "rect",
          "x0": 20,
          "x1": 25,
          "y0": 0,
          "y1": 100
         },
         {
          "fillcolor": "#388E3C",
          "layer": "below",
          "line": {
           "width": 0
          },
          "opacity": 0.3,
          "type": "rect",
          "x0": 30,
          "x1": 35,
          "y0": 0,
          "y1": 100
         },
         {
          "fillcolor": "#388E3C",
          "layer": "below",
          "line": {
           "width": 0
          },
          "opacity": 0.3,
          "type": "rect",
          "x0": 40,
          "x1": 45,
          "y0": 0,
          "y1": 100
         },
         {
          "fillcolor": "#388E3C",
          "layer": "below",
          "line": {
           "width": 0
          },
          "opacity": 0.3,
          "type": "rect",
          "x0": 50,
          "x1": 55,
          "y0": 0,
          "y1": 100
         },
         {
          "fillcolor": "#388E3C",
          "layer": "below",
          "line": {
           "width": 0
          },
          "opacity": 0.3,
          "type": "rect",
          "x0": 60,
          "x1": 65,
          "y0": 0,
          "y1": 100
         },
         {
          "fillcolor": "#388E3C",
          "layer": "below",
          "line": {
           "width": 0
          },
          "opacity": 0.3,
          "type": "rect",
          "x0": 70,
          "x1": 75,
          "y0": 0,
          "y1": 100
         },
         {
          "fillcolor": "#388E3C",
          "layer": "below",
          "line": {
           "width": 0
          },
          "opacity": 0.3,
          "type": "rect",
          "x0": 80,
          "x1": 85,
          "y0": 0,
          "y1": 100
         },
         {
          "fillcolor": "#388E3C",
          "layer": "below",
          "line": {
           "width": 0
          },
          "opacity": 0.3,
          "type": "rect",
          "x0": 90,
          "x1": 95,
          "y0": 0,
          "y1": 100
         }
        ],
        "showlegend": false,
        "template": {
         "data": {
          "bar": [
           {
            "error_x": {
             "color": "#2a3f5f"
            },
            "error_y": {
             "color": "#2a3f5f"
            },
            "marker": {
             "line": {
              "color": "white",
              "width": 0.5
             },
             "pattern": {
              "fillmode": "overlay",
              "size": 10,
              "solidity": 0.2
             }
            },
            "type": "bar"
           }
          ],
          "barpolar": [
           {
            "marker": {
             "line": {
              "color": "white",
              "width": 0.5
             },
             "pattern": {
              "fillmode": "overlay",
              "size": 10,
              "solidity": 0.2
             }
            },
            "type": "barpolar"
           }
          ],
          "carpet": [
           {
            "aaxis": {
             "endlinecolor": "#2a3f5f",
             "gridcolor": "#C8D4E3",
             "linecolor": "#C8D4E3",
             "minorgridcolor": "#C8D4E3",
             "startlinecolor": "#2a3f5f"
            },
            "baxis": {
             "endlinecolor": "#2a3f5f",
             "gridcolor": "#C8D4E3",
             "linecolor": "#C8D4E3",
             "minorgridcolor": "#C8D4E3",
             "startlinecolor": "#2a3f5f"
            },
            "type": "carpet"
           }
          ],
          "choropleth": [
           {
            "colorbar": {
             "outlinewidth": 0,
             "ticks": ""
            },
            "type": "choropleth"
           }
          ],
          "contour": [
           {
            "colorbar": {
             "outlinewidth": 0,
             "ticks": ""
            },
            "colorscale": [
             [
              0,
              "#0d0887"
             ],
             [
              0.1111111111111111,
              "#46039f"
             ],
             [
              0.2222222222222222,
              "#7201a8"
             ],
             [
              0.3333333333333333,
              "#9c179e"
             ],
             [
              0.4444444444444444,
              "#bd3786"
             ],
             [
              0.5555555555555556,
              "#d8576b"
             ],
             [
              0.6666666666666666,
              "#ed7953"
             ],
             [
              0.7777777777777778,
              "#fb9f3a"
             ],
             [
              0.8888888888888888,
              "#fdca26"
             ],
             [
              1,
              "#f0f921"
             ]
            ],
            "type": "contour"
           }
          ],
          "contourcarpet": [
           {
            "colorbar": {
             "outlinewidth": 0,
             "ticks": ""
            },
            "type": "contourcarpet"
           }
          ],
          "heatmap": [
           {
            "colorbar": {
             "outlinewidth": 0,
             "ticks": ""
            },
            "colorscale": [
             [
              0,
              "#0d0887"
             ],
             [
              0.1111111111111111,
              "#46039f"
             ],
             [
              0.2222222222222222,
              "#7201a8"
             ],
             [
              0.3333333333333333,
              "#9c179e"
             ],
             [
              0.4444444444444444,
              "#bd3786"
             ],
             [
              0.5555555555555556,
              "#d8576b"
             ],
             [
              0.6666666666666666,
              "#ed7953"
             ],
             [
              0.7777777777777778,
              "#fb9f3a"
             ],
             [
              0.8888888888888888,
              "#fdca26"
             ],
             [
              1,
              "#f0f921"
             ]
            ],
            "type": "heatmap"
           }
          ],
          "histogram": [
           {
            "marker": {
             "pattern": {
              "fillmode": "overlay",
              "size": 10,
              "solidity": 0.2
             }
            },
            "type": "histogram"
           }
          ],
          "histogram2d": [
           {
            "colorbar": {
             "outlinewidth": 0,
             "ticks": ""
            },
            "colorscale": [
             [
              0,
              "#0d0887"
             ],
             [
              0.1111111111111111,
              "#46039f"
             ],
             [
              0.2222222222222222,
              "#7201a8"
             ],
             [
              0.3333333333333333,
              "#9c179e"
             ],
             [
              0.4444444444444444,
              "#bd3786"
             ],
             [
              0.5555555555555556,
              "#d8576b"
             ],
             [
              0.6666666666666666,
              "#ed7953"
             ],
             [
              0.7777777777777778,
              "#fb9f3a"
             ],
             [
              0.8888888888888888,
              "#fdca26"
             ],
             [
              1,
              "#f0f921"
             ]
            ],
            "type": "histogram2d"
           }
          ],
          "histogram2dcontour": [
           {
            "colorbar": {
             "outlinewidth": 0,
             "ticks": ""
            },
            "colorscale": [
             [
              0,
              "#0d0887"
             ],
             [
              0.1111111111111111,
              "#46039f"
             ],
             [
              0.2222222222222222,
              "#7201a8"
             ],
             [
              0.3333333333333333,
              "#9c179e"
             ],
             [
              0.4444444444444444,
              "#bd3786"
             ],
             [
              0.5555555555555556,
              "#d8576b"
             ],
             [
              0.6666666666666666,
              "#ed7953"
             ],
             [
              0.7777777777777778,
              "#fb9f3a"
             ],
             [
              0.8888888888888888,
              "#fdca26"
             ],
             [
              1,
              "#f0f921"
             ]
            ],
            "type": "histogram2dcontour"
           }
          ],
          "mesh3d": [
           {
            "colorbar": {
             "outlinewidth": 0,
             "ticks": ""
            },
            "type": "mesh3d"
           }
          ],
          "parcoords": [
           {
            "line": {
             "colorbar": {
              "outlinewidth": 0,
              "ticks": ""
             }
            },
            "type": "parcoords"
           }
          ],
          "pie": [
           {
            "automargin": true,
            "type": "pie"
           }
          ],
          "scatter": [
           {
            "fillpattern": {
             "fillmode": "overlay",
             "size": 10,
             "solidity": 0.2
            },
            "type": "scatter"
           }
          ],
          "scatter3d": [
           {
            "line": {
             "colorbar": {
              "outlinewidth": 0,
              "ticks": ""
             }
            },
            "marker": {
             "colorbar": {
              "outlinewidth": 0,
              "ticks": ""
             }
            },
            "type": "scatter3d"
           }
          ],
          "scattercarpet": [
           {
            "marker": {
             "colorbar": {
              "outlinewidth": 0,
              "ticks": ""
             }
            },
            "type": "scattercarpet"
           }
          ],
          "scattergeo": [
           {
            "marker": {
             "colorbar": {
              "outlinewidth": 0,
              "ticks": ""
             }
            },
            "type": "scattergeo"
           }
          ],
          "scattergl": [
           {
            "marker": {
             "colorbar": {
              "outlinewidth": 0,
              "ticks": ""
             }
            },
            "type": "scattergl"
           }
          ],
          "scattermap": [
           {
            "marker": {
             "colorbar": {
              "outlinewidth": 0,
              "ticks": ""
             }
            },
            "type": "scattermap"
           }
          ],
          "scattermapbox": [
           {
            "marker": {
             "colorbar": {
              "outlinewidth": 0,
              "ticks": ""
             }
            },
            "type": "scattermapbox"
           }
          ],
          "scatterpolar": [
           {
            "marker": {
             "colorbar": {
              "outlinewidth": 0,
              "ticks": ""
             }
            },
            "type": "scatterpolar"
           }
          ],
          "scatterpolargl": [
           {
            "marker": {
             "colorbar": {
              "outlinewidth": 0,
              "ticks": ""
             }
            },
            "type": "scatterpolargl"
           }
          ],
          "scatterternary": [
           {
            "marker": {
             "colorbar": {
              "outlinewidth": 0,
              "ticks": ""
             }
            },
            "type": "scatterternary"
           }
          ],
          "surface": [
           {
            "colorbar": {
             "outlinewidth": 0,
             "ticks": ""
            },
            "colorscale": [
             [
              0,
              "#0d0887"
             ],
             [
              0.1111111111111111,
              "#46039f"
             ],
             [
              0.2222222222222222,
              "#7201a8"
             ],
             [
              0.3333333333333333,
              "#9c179e"
             ],
             [
              0.4444444444444444,
              "#bd3786"
             ],
             [
              0.5555555555555556,
              "#d8576b"
             ],
             [
              0.6666666666666666,
              "#ed7953"
             ],
             [
              0.7777777777777778,
              "#fb9f3a"
             ],
             [
              0.8888888888888888,
              "#fdca26"
             ],
             [
              1,
              "#f0f921"
             ]
            ],
            "type": "surface"
           }
          ],
          "table": [
           {
            "cells": {
             "fill": {
              "color": "#EBF0F8"
             },
             "line": {
              "color": "white"
             }
            },
            "header": {
             "fill": {
              "color": "#C8D4E3"
             },
             "line": {
              "color": "white"
             }
            },
            "type": "table"
           }
          ]
         },
         "layout": {
          "annotationdefaults": {
           "arrowcolor": "#2a3f5f",
           "arrowhead": 0,
           "arrowwidth": 1
          },
          "autotypenumbers": "strict",
          "coloraxis": {
           "colorbar": {
            "outlinewidth": 0,
            "ticks": ""
           }
          },
          "colorscale": {
           "diverging": [
            [
             0,
             "#8e0152"
            ],
            [
             0.1,
             "#c51b7d"
            ],
            [
             0.2,
             "#de77ae"
            ],
            [
             0.3,
             "#f1b6da"
            ],
            [
             0.4,
             "#fde0ef"
            ],
            [
             0.5,
             "#f7f7f7"
            ],
            [
             0.6,
             "#e6f5d0"
            ],
            [
             0.7,
             "#b8e186"
            ],
            [
             0.8,
             "#7fbc41"
            ],
            [
             0.9,
             "#4d9221"
            ],
            [
             1,
             "#276419"
            ]
           ],
           "sequential": [
            [
             0,
             "#0d0887"
            ],
            [
             0.1111111111111111,
             "#46039f"
            ],
            [
             0.2222222222222222,
             "#7201a8"
            ],
            [
             0.3333333333333333,
             "#9c179e"
            ],
            [
             0.4444444444444444,
             "#bd3786"
            ],
            [
             0.5555555555555556,
             "#d8576b"
            ],
            [
             0.6666666666666666,
             "#ed7953"
            ],
            [
             0.7777777777777778,
             "#fb9f3a"
            ],
            [
             0.8888888888888888,
             "#fdca26"
            ],
            [
             1,
             "#f0f921"
            ]
           ],
           "sequentialminus": [
            [
             0,
             "#0d0887"
            ],
            [
             0.1111111111111111,
             "#46039f"
            ],
            [
             0.2222222222222222,
             "#7201a8"
            ],
            [
             0.3333333333333333,
             "#9c179e"
            ],
            [
             0.4444444444444444,
             "#bd3786"
            ],
            [
             0.5555555555555556,
             "#d8576b"
            ],
            [
             0.6666666666666666,
             "#ed7953"
            ],
            [
             0.7777777777777778,
             "#fb9f3a"
            ],
            [
             0.8888888888888888,
             "#fdca26"
            ],
            [
             1,
             "#f0f921"
            ]
           ]
          },
          "colorway": [
           "#636efa",
           "#EF553B",
           "#00cc96",
           "#ab63fa",
           "#FFA15A",
           "#19d3f3",
           "#FF6692",
           "#B6E880",
           "#FF97FF",
           "#FECB52"
          ],
          "font": {
           "color": "#2a3f5f"
          },
          "geo": {
           "bgcolor": "white",
           "lakecolor": "white",
           "landcolor": "white",
           "showlakes": true,
           "showland": true,
           "subunitcolor": "#C8D4E3"
          },
          "hoverlabel": {
           "align": "left"
          },
          "hovermode": "closest",
          "mapbox": {
           "style": "light"
          },
          "paper_bgcolor": "white",
          "plot_bgcolor": "white",
          "polar": {
           "angularaxis": {
            "gridcolor": "#EBF0F8",
            "linecolor": "#EBF0F8",
            "ticks": ""
           },
           "bgcolor": "white",
           "radialaxis": {
            "gridcolor": "#EBF0F8",
            "linecolor": "#EBF0F8",
            "ticks": ""
           }
          },
          "scene": {
           "xaxis": {
            "backgroundcolor": "white",
            "gridcolor": "#DFE8F3",
            "gridwidth": 2,
            "linecolor": "#EBF0F8",
            "showbackground": true,
            "ticks": "",
            "zerolinecolor": "#EBF0F8"
           },
           "yaxis": {
            "backgroundcolor": "white",
            "gridcolor": "#DFE8F3",
            "gridwidth": 2,
            "linecolor": "#EBF0F8",
            "showbackground": true,
            "ticks": "",
            "zerolinecolor": "#EBF0F8"
           },
           "zaxis": {
            "backgroundcolor": "white",
            "gridcolor": "#DFE8F3",
            "gridwidth": 2,
            "linecolor": "#EBF0F8",
            "showbackground": true,
            "ticks": "",
            "zerolinecolor": "#EBF0F8"
           }
          },
          "shapedefaults": {
           "line": {
            "color": "#2a3f5f"
           }
          },
          "ternary": {
           "aaxis": {
            "gridcolor": "#DFE8F3",
            "linecolor": "#A2B1C6",
            "ticks": ""
           },
           "baxis": {
            "gridcolor": "#DFE8F3",
            "linecolor": "#A2B1C6",
            "ticks": ""
           },
           "bgcolor": "white",
           "caxis": {
            "gridcolor": "#DFE8F3",
            "linecolor": "#A2B1C6",
            "ticks": ""
           }
          },
          "title": {
           "x": 0.05
          },
          "xaxis": {
           "automargin": true,
           "gridcolor": "#EBF0F8",
           "linecolor": "#EBF0F8",
           "ticks": "",
           "title": {
            "standoff": 15
           },
           "zerolinecolor": "#EBF0F8",
           "zerolinewidth": 2
          },
          "yaxis": {
           "automargin": true,
           "gridcolor": "#EBF0F8",
           "linecolor": "#EBF0F8",
           "ticks": "",
           "title": {
            "standoff": 15
           },
           "zerolinecolor": "#EBF0F8",
           "zerolinewidth": 2
          }
         }
        },
        "title": {
         "font": {
          "color": "white",
          "size": 20
         },
         "text": "<b>Corner Kick Analysis: Delivery Zones & Danger (xG)</b>",
         "x": 0.5
        },
        "width": 1050,
        "xaxis": {
         "range": [
          -5,
          105
         ],
         "visible": false
        },
        "yaxis": {
         "range": [
          -5,
          105
         ],
         "visible": false
        }
       }
      }
     },
     "metadata": {},
     "output_type": "display_data"
    },
    {
     "name": "stdout",
     "output_type": "stream",
     "text": [
      "✓ Corner delivery analysis created. High xG values indicate dangerous deliveries.\n",
      "\n",
      "Analyzing 133 attacking free kicks...\n"
     ]
    },
    {
     "data": {
      "application/vnd.plotly.v1+json": {
       "config": {
        "plotlyServerURL": "https://plot.ly"
       },
       "data": [
        {
         "hoverinfo": "none",
         "marker": {
          "color": "white",
          "size": 8
         },
         "mode": "markers",
         "type": "scatter",
         "x": [
          50
         ],
         "y": [
          50
         ]
        },
        {
         "hoverinfo": "none",
         "marker": {
          "color": "white",
          "size": 8
         },
         "mode": "markers",
         "type": "scatter",
         "x": [
          11,
          89
         ],
         "y": [
          50,
          50
         ]
        },
        {
         "hoverinfo": "none",
         "line": {
          "color": "white",
          "width": 4
         },
         "mode": "lines",
         "type": "scatter",
         "x": [
          -1,
          -1
         ],
         "y": [
          45.2,
          54.8
         ]
        },
        {
         "hoverinfo": "none",
         "line": {
          "color": "white",
          "width": 4
         },
         "mode": "lines",
         "type": "scatter",
         "x": [
          101,
          101
         ],
         "y": [
          45.2,
          54.8
         ]
        },
        {
         "colorscale": [
          [
           0,
           "rgb(247,251,255)"
          ],
          [
           0.125,
           "rgb(222,235,247)"
          ],
          [
           0.25,
           "rgb(198,219,239)"
          ],
          [
           0.375,
           "rgb(158,202,225)"
          ],
          [
           0.5,
           "rgb(107,174,214)"
          ],
          [
           0.625,
           "rgb(66,146,198)"
          ],
          [
           0.75,
           "rgb(33,113,181)"
          ],
          [
           0.875,
           "rgb(8,81,156)"
          ],
          [
           1,
           "rgb(8,48,107)"
          ]
         ],
         "contours": {
          "coloring": "heatmap"
         },
         "name": "Delivery Frequency",
         "opacity": 0.5,
         "showscale": false,
         "type": "histogram2dcontour",
         "x": {
          "bdata": "AAAAAABAVkAAAAAAAABFQAAAAAAAAEZAAAAAAABAVkAAAAAAAMBYQAAAAAAAgFJAAAAAAADAUUAAAAAAAMBVQAAAAAAAgFVAAAAAAAAAV0AAAAAAAMBRQAAAAAAAwFdAAAAAAAAARkAAAAAAAIBXQAAAAAAAgExAAAAAAADAVkAAAAAAAABCQAAAAAAAwFVAAAAAAAAAUEAAAAAAAIBLQAAAAAAAAFBAAAAAAAAAS0AAAAAAAIBMQAAAAAAAwFJAAAAAAACAVkAAAAAAAIBVQAAAAAAAwFZAAAAAAACAVkAAAAAAAIBHQAAAAAAAwFZAAAAAAADAV0AAAAAAAIBXQAAAAAAAwFdAAAAAAADAVkAAAAAAAMBQQAAAAAAAAFdAAAAAAAAAWUAAAAAAAIBVQAAAAAAAAExAAAAAAACAS0AAAAAAAIBMQAAAAAAAAFhAAAAAAAAAUkAAAAAAAEBWQAAAAAAAQFZAAAAAAACATEAAAAAAAEBXQAAAAAAAAExAAAAAAACAVkAAAAAAAIBWQAAAAAAAAFZAAAAAAACAV0AAAAAAAIBWQAAAAAAAgExAAAAAAAAAVkAAAAAAAABXQAAAAAAAQFdAAAAAAABAVkAAAAAAAABLQAAAAAAAAE5AAAAAAAAASkAAAAAAAEBXQAAAAAAAQFdAAAAAAABAVUAAAAAAAABXQAAAAAAAAFlAAAAAAABAVEAAAAAAAABKQAAAAAAAgFZAAAAAAAAAQUAAAAAAAMBXQAAAAAAAgFZAAAAAAAAATkAAAAAAAMBVQAAAAAAAgFVAAAAAAABAVkAAAAAAAMBWQAAAAAAAAFlAAAAAAADAVkAAAAAAAEBQQAAAAAAAgFRAAAAAAACAV0AAAAAAAIBBQAAAAAAAgEdAAAAAAAAAV0AAAAAAAEBXQAAAAAAAwFZAAAAAAACAQEAAAAAAAIBEQAAAAAAAgFdAAAAAAACAT0AAAAAAAIBMQAAAAAAAgFJAAAAAAAAARkAAAAAAAABWQAAAAAAAAEJAAAAAAACAWEAAAAAAAEBXQAAAAAAAgFdAAAAAAACASUAAAAAAAMBVQAAAAAAAAE9AAAAAAACAVUAAAAAAAABWQAAAAAAAwFVAAAAAAACAWEAAAAAAAEBXQAAAAAAAgEtAAAAAAADAVUAAAAAAAABZQAAAAAAAgFZAAAAAAAAAUEAAAAAAAMBTQAAAAAAAQFdAAAAAAABAU0AAAAAAAABSQAAAAAAAgFdAAAAAAACAVUAAAAAAAIBLQAAAAAAAQFdAAAAAAABAV0AAAAAAAMBXQAAAAAAAgEdAAAAAAADAVUAAAAAAAIBOQAAAAAAAgFZAAAAAAAAAVkAAAAAAAEBYQAAAAAAAgEVAAAAAAADAUEAAAAAAAIBMQAAAAAAAgFZAAAAAAACAVkA=",
          "dtype": "f8"
         },
         "y": {
          "bdata": "AAAAAACATUAAAAAAAABGQAAAAAAAACBAAAAAAAAASEAAAAAAAIBCQAAAAAAAAFVAAAAAAACAR0AAAAAAAIBGQAAAAAAAAEpAAAAAAACARkAAAAAAAIBAQAAAAAAAgE1AAAAAAAAASEAAAAAAAIBEQAAAAAAAADFAAAAAAAAAPEAAAAAAAABNQAAAAAAAgE5AAAAAAADAVkAAAAAAAIBCQAAAAAAAAFVAAAAAAAAAOUAAAAAAAAAyQAAAAAAAAEdAAAAAAAAASUAAAAAAAIBGQAAAAAAAgENAAAAAAAAARUAAAAAAAIBPQAAAAAAAAEdAAAAAAAAASUAAAAAAAIBIQAAAAAAAAElAAAAAAAAASkAAAAAAAIBCQAAAAAAAAEdAAAAAAAAAPEAAAAAAAABMQAAAAAAAgE9AAAAAAACAVkAAAAAAAEBWQAAAAAAAwFJAAAAAAAAANUAAAAAAAIBGQAAAAAAAAEZAAAAAAACAU0AAAAAAAABGQAAAAAAAAENAAAAAAAAAQkAAAAAAAABHQAAAAAAAAENAAAAAAACASEAAAAAAAIBFQAAAAAAAADJAAAAAAACAQUAAAAAAAABIQAAAAAAAgE1AAAAAAACAS0AAAAAAAAAiQAAAAAAAACpAAAAAAADAVkAAAAAAAIBDQAAAAAAAAE1AAAAAAAAASkAAAAAAAABHQAAAAAAAAFBAAAAAAACASUAAAAAAAIBEQAAAAAAAAEJAAAAAAADAVEAAAAAAAABIQAAAAAAAAERAAAAAAACAU0AAAAAAAABMQAAAAAAAAExAAAAAAAAAQkAAAAAAAAAgQAAAAAAAAFJAAAAAAAAASEAAAAAAAAAuQAAAAAAAADBAAAAAAAAAQ0AAAAAAAIBDQAAAAAAAQFVAAAAAAACATEAAAAAAAABVQAAAAAAAAEBAAAAAAAAAOEAAAAAAAABBQAAAAAAAAENAAAAAAAAALkAAAAAAAABFQAAAAAAAQFVAAAAAAABAVEAAAAAAAAAwQAAAAAAAwFJAAAAAAAAAQ0AAAAAAAABOQAAAAAAAgEJAAAAAAAAAPUAAAAAAAABLQAAAAAAAwFVAAAAAAAAAT0AAAAAAAABDQAAAAAAAAEZAAAAAAAAAS0AAAAAAAIBJQAAAAAAAADBAAAAAAACARUAAAAAAAIBAQAAAAAAAAENAAAAAAAAAWEAAAAAAAAAqQAAAAAAAgElAAAAAAAAAPUAAAAAAAMBYQAAAAAAAAFJAAAAAAACARkAAAAAAAAA5QAAAAAAAAE9AAAAAAACASUAAAAAAAIBQQAAAAAAAgFRAAAAAAACASkAAAAAAAAA2QAAAAAAAgEVAAAAAAADAUUAAAAAAAIBJQAAAAAAAADNAAAAAAABAV0AAAAAAAAAqQAAAAAAAAE1AAAAAAABAUUA=",
          "dtype": "f8"
         }
        },
        {
         "hoverinfo": "text",
         "marker": {
          "color": {
           "bdata": "AAAAAAAAAAAAAAAAAAAAAAAAAAAAAAAAAAAAAAAAAAAAAAAAAAAAAAAAAAAAAAAA2ht8YTJVsD924JwRpb2xP0tZhjjWxb0/gSbChqdXwj9R2ht8YTLFPwAAAAAAAAAAAAAAAAAAAABfB84ZUdqLPwAAAAAAAAAAAAAAAAAAAAAAAAAAAAAAAAAAAAAAAAAAAAAAAAAAAAAAAAAAAAAAAAAAAAAAAAAAAAAAAAAAAAAAAAAAAAAAAAAAAAAAAAAAAAAAAAAAAAC3Yn/ZPXmYPwAAAAAAAAAAAAAAAAAAAAAAAAAAAAAAAAAAAAAAAAAAuB6F61G4fj8AAAAAAAAAAAAAAAAAAAAAeekmMQisbD9+jLlrCfnIPwAAAAAAAAAAAAAAAAAAAAAMk6mCUUmNPwAAAAAAAAAAAAAAAAAAAAAAAAAAAAAAAAAAAAAAAAAAAAAAAAAAAAAAAAAAAAAAAAAAAAAAAAAAAAAAAAAAAAAAAAAAAAAAAAAAAAAAAAAAAAAAAAAAAAAAAAAAAAAAAAAAAAAAAAAAAAAAAAAAAADHuriNBvC2PwAAAAAAAAAAukkMAiuHpj8AAAAAAAAAAI4G8BZIUMQ/AAAAAAAAAAAAAAAAAAAAABWMSuoENGE/MlUwKqkToD8VHcnlP6TfPwAAAAAAAAAAAAAAAAAAAAAqOpLLf0i/PwAAAAAAAAAAAAAAAAAAAAAAAAAAAAAAAFOWIY51cYs/AAAAAAAAAAAAAAAAAAAAAAAAAAAAAAAAAAAAAAAAAAAAAAAAAAAAABkEVg4tsq0/2qz6XG3Frj8AAAAAAAAAAAAAAAAAAAAAAAAAAAAAAAAAAAAAAAAAAAAAAAAAAAAAAAAAAAAAAAAVHcnlP6SfPwAAAAAAAAAAke18PzVeuj/jpZvEILDKPwAAAAAAAAAAAAAAAAAAAAAAAAAAAAAAAAAAAAAAAAAAAAAAAAAAAAAAAAAAAAAAAAAAAAAAAAAAAAAAAAAAAAAAAAAAAAAAAAAAAAAAAAAAAAAAAAAAAAAAAAAAAAAAAAAAAAAAAAAAAAAAAAAAAAAy5q4l5IOOPwAAAAAAAAAAWmQ730+Npz8AAAAAAAAAABKDwMqhRbY/AAAAAAAAAAAAAAAAAAAAAAAAAAAAAAAAAAAAAAAAAABKDAIrhxaZP0ku/yH99qU/AAAAAAAAAAAAAAAAAAAAAMe6uI0G8GY/LUMc6+I2ij8AAAAAAAAAAAAAAAAAAAAAAAAAAAAAAAAAAAAAAAAAAAAAAAAAAAAAAAAAAAAAAAAAAAAAAAAAAAAAAAAAAAAA/fZ14JwR1T8AAAAAAAAAAMWPMXctIb8/AAAAAAAAAAAAAAAAAAAAAAAAAAAAAAAAAAAAAAAAAAAAAAAAAAAAAAAAAAAAAAAAg8DKoUW20z8=",
           "dtype": "f8"
          },
          "colorbar": {
           "title": {
            "text": "xG"
           },
           "x": 0.95
          },
          "colorscale": [
           [
            0,
            "#00224e"
           ],
           [
            0.1111111111111111,
            "#123570"
           ],
           [
            0.2222222222222222,
            "#3b496c"
           ],
           [
            0.3333333333333333,
            "#575d6d"
           ],
           [
            0.4444444444444444,
            "#707173"
           ],
           [
            0.5555555555555556,
            "#8a8678"
           ],
           [
            0.6666666666666666,
            "#a59c74"
           ],
           [
            0.7777777777777778,
            "#c3b369"
           ],
           [
            0.8888888888888888,
            "#e1cc55"
           ],
           [
            1,
            "#fee838"
           ]
          ],
          "line": {
           "color": "white",
           "width": 1
          },
          "opacity": 0.8,
          "showscale": true,
          "size": {
           "bdata": "AAAAAAAAJEAAAAAAAAAkQAAAAAAAACRAAAAAAAAAJEAAAAAAAAAkQAAAAAAAACRAO99PjZfuLEDAyqFFtrMtQGq8dJMYJDJADi2yne8HNEBkO99PjZc1QAAAAAAAACRAAAAAAAAAJECBlUOLbOclQAAAAAAAACRAAAAAAAAAJEAAAAAAAAAkQAAAAAAAACRAAAAAAAAAJEAAAAAAAAAkQAAAAAAAACRAAAAAAAAAJEAAAAAAAAAkQAAAAAAAACRAAAAAAAAAJEB/arx0k1gnQAAAAAAAACRAAAAAAAAAJEAAAAAAAAAkQAAAAAAAACRAzczMzMwMJUAAAAAAAAAkQAAAAAAAACRAPQrXo3B9JEDVeOkmMag3QAAAAAAAACRAAAAAAAAAJECNl24SgwAmQAAAAAAAACRAAAAAAAAAJEAAAAAAAAAkQAAAAAAAACRAAAAAAAAAJEAAAAAAAAAkQAAAAAAAACRAAAAAAAAAJEAAAAAAAAAkQAAAAAAAACRAAAAAAAAAJEAAAAAAAAAkQAAAAAAAACRAAAAAAAAAJEASg8DKoUUwQAAAAAAAACRAKVyPwvUoKkAAAAAAAAAkQJZDi2znGzVAAAAAAAAAJEAAAAAAAAAkQCUGgZVDSyRATDeJQWBlKEDn+6nx0k1GQAAAAAAAACRAAAAAAAAAJEDo+6nx0o0yQAAAAAAAACRAAAAAAAAAJEAAAAAAAAAkQMdLN4lB4CVAAAAAAAAAJEAAAAAAAAAkQAAAAAAAACRAAAAAAAAAJEAAAAAAAAAkQB+F61G4HixARIts5/tpLEAAAAAAAAAkQAAAAAAAACRAAAAAAAAAJEAAAAAAAAAkQAAAAAAAACRAAAAAAAAAJED6fmq8dFMoQAAAAAAAACRA9ihcj8I1MUC4HoXrUZg4QAAAAAAAACRAAAAAAAAAJEAAAAAAAAAkQAAAAAAAACRAAAAAAAAAJEAAAAAAAAAkQAAAAAAAACRAAAAAAAAAJEAAAAAAAAAkQAAAAAAAACRAAAAAAAAAJEAAAAAAAAAkQAAAAAAAACRAAAAAAAAAJEC8dJMYBBYmQAAAAAAAACRAcD0K16NwKkAAAAAAAAAkQNejcD0KFzBAAAAAAAAAJEAAAAAAAAAkQAAAAAAAACRAAAAAAAAAJECuR+F6FG4nQKjGSzeJASpAAAAAAAAAJEAAAAAAAAAkQDEIrBxaZCRAmG4Sg8DKJUAAAAAAAAAkQAAAAAAAACRAAAAAAAAAJEAAAAAAAAAkQAAAAAAAACRAAAAAAAAAJEAAAAAAAAAkQAAAAAAAACRAEoPAyqGFQEAAAAAAAAAkQFCNl24SgzJAAAAAAAAAJEAAAAAAAAAkQAAAAAAAACRAAAAAAAAAJEAAAAAAAAAkQAAAAAAAACRAj8L1KFyPP0A=",
           "dtype": "f8"
          },
          "sizemode": "diameter"
         },
         "mode": "markers",
         "name": "Delivery Danger (xG)",
         "text": [
          "xG: 0.000",
          "xG: 0.000",
          "xG: 0.000",
          "xG: 0.000",
          "xG: 0.000",
          "xG: 0.000",
          "xG: 0.064",
          "xG: 0.069",
          "xG: 0.116",
          "xG: 0.143",
          "xG: 0.166",
          "xG: 0.000",
          "xG: 0.000",
          "xG: 0.014",
          "xG: 0.000",
          "xG: 0.000",
          "xG: 0.000",
          "xG: 0.000",
          "xG: 0.000",
          "xG: 0.000",
          "xG: 0.000",
          "xG: 0.000",
          "xG: 0.000",
          "xG: 0.000",
          "xG: 0.000",
          "xG: 0.024",
          "xG: 0.000",
          "xG: 0.000",
          "xG: 0.000",
          "xG: 0.000",
          "xG: 0.007",
          "xG: 0.000",
          "xG: 0.000",
          "xG: 0.004",
          "xG: 0.195",
          "xG: 0.000",
          "xG: 0.000",
          "xG: 0.014",
          "xG: 0.000",
          "xG: 0.000",
          "xG: 0.000",
          "xG: 0.000",
          "xG: 0.000",
          "xG: 0.000",
          "xG: 0.000",
          "xG: 0.000",
          "xG: 0.000",
          "xG: 0.000",
          "xG: 0.000",
          "xG: 0.000",
          "xG: 0.000",
          "xG: 0.000",
          "xG: 0.090",
          "xG: 0.000",
          "xG: 0.044",
          "xG: 0.000",
          "xG: 0.159",
          "xG: 0.000",
          "xG: 0.000",
          "xG: 0.002",
          "xG: 0.031",
          "xG: 0.494",
          "xG: 0.000",
          "xG: 0.000",
          "xG: 0.122",
          "xG: 0.000",
          "xG: 0.000",
          "xG: 0.000",
          "xG: 0.013",
          "xG: 0.000",
          "xG: 0.000",
          "xG: 0.000",
          "xG: 0.000",
          "xG: 0.000",
          "xG: 0.058",
          "xG: 0.060",
          "xG: 0.000",
          "xG: 0.000",
          "xG: 0.000",
          "xG: 0.000",
          "xG: 0.000",
          "xG: 0.000",
          "xG: 0.031",
          "xG: 0.000",
          "xG: 0.103",
          "xG: 0.208",
          "xG: 0.000",
          "xG: 0.000",
          "xG: 0.000",
          "xG: 0.000",
          "xG: 0.000",
          "xG: 0.000",
          "xG: 0.000",
          "xG: 0.000",
          "xG: 0.000",
          "xG: 0.000",
          "xG: 0.000",
          "xG: 0.000",
          "xG: 0.000",
          "xG: 0.000",
          "xG: 0.015",
          "xG: 0.000",
          "xG: 0.046",
          "xG: 0.000",
          "xG: 0.087",
          "xG: 0.000",
          "xG: 0.000",
          "xG: 0.000",
          "xG: 0.000",
          "xG: 0.025",
          "xG: 0.043",
          "xG: 0.000",
          "xG: 0.000",
          "xG: 0.003",
          "xG: 0.013",
          "xG: 0.000",
          "xG: 0.000",
          "xG: 0.000",
          "xG: 0.000",
          "xG: 0.000",
          "xG: 0.000",
          "xG: 0.000",
          "xG: 0.000",
          "xG: 0.329",
          "xG: 0.000",
          "xG: 0.122",
          "xG: 0.000",
          "xG: 0.000",
          "xG: 0.000",
          "xG: 0.000",
          "xG: 0.000",
          "xG: 0.000",
          "xG: 0.308"
         ],
         "type": "scatter",
         "x": {
          "bdata": "AAAAAABAVkAAAAAAAABFQAAAAAAAAEZAAAAAAABAVkAAAAAAAMBYQAAAAAAAgFJAAAAAAADAUUAAAAAAAMBVQAAAAAAAgFVAAAAAAAAAV0AAAAAAAMBRQAAAAAAAwFdAAAAAAAAARkAAAAAAAIBXQAAAAAAAgExAAAAAAADAVkAAAAAAAABCQAAAAAAAwFVAAAAAAAAAUEAAAAAAAIBLQAAAAAAAAFBAAAAAAAAAS0AAAAAAAIBMQAAAAAAAwFJAAAAAAACAVkAAAAAAAIBVQAAAAAAAwFZAAAAAAACAVkAAAAAAAIBHQAAAAAAAwFZAAAAAAADAV0AAAAAAAIBXQAAAAAAAwFdAAAAAAADAVkAAAAAAAMBQQAAAAAAAAFdAAAAAAAAAWUAAAAAAAIBVQAAAAAAAAExAAAAAAACAS0AAAAAAAIBMQAAAAAAAAFhAAAAAAAAAUkAAAAAAAEBWQAAAAAAAQFZAAAAAAACATEAAAAAAAEBXQAAAAAAAAExAAAAAAACAVkAAAAAAAIBWQAAAAAAAAFZAAAAAAACAV0AAAAAAAIBWQAAAAAAAgExAAAAAAAAAVkAAAAAAAABXQAAAAAAAQFdAAAAAAABAVkAAAAAAAABLQAAAAAAAAE5AAAAAAAAASkAAAAAAAEBXQAAAAAAAQFdAAAAAAABAVUAAAAAAAABXQAAAAAAAAFlAAAAAAABAVEAAAAAAAABKQAAAAAAAgFZAAAAAAAAAQUAAAAAAAMBXQAAAAAAAgFZAAAAAAAAATkAAAAAAAMBVQAAAAAAAgFVAAAAAAABAVkAAAAAAAMBWQAAAAAAAAFlAAAAAAADAVkAAAAAAAEBQQAAAAAAAgFRAAAAAAACAV0AAAAAAAIBBQAAAAAAAgEdAAAAAAAAAV0AAAAAAAEBXQAAAAAAAwFZAAAAAAACAQEAAAAAAAIBEQAAAAAAAgFdAAAAAAACAT0AAAAAAAIBMQAAAAAAAgFJAAAAAAAAARkAAAAAAAABWQAAAAAAAAEJAAAAAAACAWEAAAAAAAEBXQAAAAAAAgFdAAAAAAACASUAAAAAAAMBVQAAAAAAAAE9AAAAAAACAVUAAAAAAAABWQAAAAAAAwFVAAAAAAACAWEAAAAAAAEBXQAAAAAAAgEtAAAAAAADAVUAAAAAAAABZQAAAAAAAgFZAAAAAAAAAUEAAAAAAAMBTQAAAAAAAQFdAAAAAAABAU0AAAAAAAABSQAAAAAAAgFdAAAAAAACAVUAAAAAAAIBLQAAAAAAAQFdAAAAAAABAV0AAAAAAAMBXQAAAAAAAgEdAAAAAAADAVUAAAAAAAIBOQAAAAAAAgFZAAAAAAAAAVkAAAAAAAEBYQAAAAAAAgEVAAAAAAADAUEAAAAAAAIBMQAAAAAAAgFZAAAAAAACAVkA=",
          "dtype": "f8"
         },
         "y": {
          "bdata": "AAAAAACATUAAAAAAAABGQAAAAAAAACBAAAAAAAAASEAAAAAAAIBCQAAAAAAAAFVAAAAAAACAR0AAAAAAAIBGQAAAAAAAAEpAAAAAAACARkAAAAAAAIBAQAAAAAAAgE1AAAAAAAAASEAAAAAAAIBEQAAAAAAAADFAAAAAAAAAPEAAAAAAAABNQAAAAAAAgE5AAAAAAADAVkAAAAAAAIBCQAAAAAAAAFVAAAAAAAAAOUAAAAAAAAAyQAAAAAAAAEdAAAAAAAAASUAAAAAAAIBGQAAAAAAAgENAAAAAAAAARUAAAAAAAIBPQAAAAAAAAEdAAAAAAAAASUAAAAAAAIBIQAAAAAAAAElAAAAAAAAASkAAAAAAAIBCQAAAAAAAAEdAAAAAAAAAPEAAAAAAAABMQAAAAAAAgE9AAAAAAACAVkAAAAAAAEBWQAAAAAAAwFJAAAAAAAAANUAAAAAAAIBGQAAAAAAAAEZAAAAAAACAU0AAAAAAAABGQAAAAAAAAENAAAAAAAAAQkAAAAAAAABHQAAAAAAAAENAAAAAAACASEAAAAAAAIBFQAAAAAAAADJAAAAAAACAQUAAAAAAAABIQAAAAAAAgE1AAAAAAACAS0AAAAAAAAAiQAAAAAAAACpAAAAAAADAVkAAAAAAAIBDQAAAAAAAAE1AAAAAAAAASkAAAAAAAABHQAAAAAAAAFBAAAAAAACASUAAAAAAAIBEQAAAAAAAAEJAAAAAAADAVEAAAAAAAABIQAAAAAAAAERAAAAAAACAU0AAAAAAAABMQAAAAAAAAExAAAAAAAAAQkAAAAAAAAAgQAAAAAAAAFJAAAAAAAAASEAAAAAAAAAuQAAAAAAAADBAAAAAAAAAQ0AAAAAAAIBDQAAAAAAAQFVAAAAAAACATEAAAAAAAABVQAAAAAAAAEBAAAAAAAAAOEAAAAAAAABBQAAAAAAAAENAAAAAAAAALkAAAAAAAABFQAAAAAAAQFVAAAAAAABAVEAAAAAAAAAwQAAAAAAAwFJAAAAAAAAAQ0AAAAAAAABOQAAAAAAAgEJAAAAAAAAAPUAAAAAAAABLQAAAAAAAwFVAAAAAAAAAT0AAAAAAAABDQAAAAAAAAEZAAAAAAAAAS0AAAAAAAIBJQAAAAAAAADBAAAAAAACARUAAAAAAAIBAQAAAAAAAAENAAAAAAAAAWEAAAAAAAAAqQAAAAAAAgElAAAAAAAAAPUAAAAAAAMBYQAAAAAAAAFJAAAAAAACARkAAAAAAAAA5QAAAAAAAAE9AAAAAAACASUAAAAAAAIBQQAAAAAAAgFRAAAAAAACASkAAAAAAAAA2QAAAAAAAgEVAAAAAAADAUUAAAAAAAIBJQAAAAAAAADNAAAAAAABAV0AAAAAAAAAqQAAAAAAAAE1AAAAAAABAUUA=",
          "dtype": "f8"
         }
        },
        {
         "marker": {
          "color": "cyan",
          "size": 8,
          "symbol": "x"
         },
         "mode": "markers",
         "name": "Free Kick Location",
         "type": "scatter",
         "x": {
          "bdata": "AAAAAADAUkAAAAAAAIBKQAAAAAAAgElAAAAAAABAUUAAAAAAAIBVQAAAAAAAQFFAAAAAAAAAUEAAAAAAAABSQAAAAAAAAFJAAAAAAABAVkAAAAAAAABPQAAAAAAAAFBAAAAAAAAASkAAAAAAAMBVQAAAAAAAgExAAAAAAADAUUAAAAAAAABKQAAAAAAAgFBAAAAAAAAAS0AAAAAAAABOQAAAAAAAgE5AAAAAAACATEAAAAAAAABLQAAAAAAAAE9AAAAAAAAAUUAAAAAAAIBPQAAAAAAAwFJAAAAAAABAUkAAAAAAAABMQAAAAAAAwFZAAAAAAADAUEAAAAAAAABQQAAAAAAAAFdAAAAAAADAUkAAAAAAAMBQQAAAAAAAwFJAAAAAAABAVEAAAAAAAIBRQAAAAAAAAFBAAAAAAACAUEAAAAAAAIBQQAAAAAAAgFBAAAAAAABAUUAAAAAAAABRQAAAAAAAwFNAAAAAAACATkAAAAAAAIBRQAAAAAAAgEtAAAAAAACAUUAAAAAAAMBQQAAAAAAAAFVAAAAAAACAVkAAAAAAAABSQAAAAAAAgExAAAAAAAAAUkAAAAAAAIBOQAAAAAAAQFdAAAAAAAAAUUAAAAAAAIBKQAAAAAAAAExAAAAAAACAUUAAAAAAAIBRQAAAAAAAAFRAAAAAAAAAUEAAAAAAAIBXQAAAAAAAgFZAAAAAAAAAUkAAAAAAAEBQQAAAAAAAgFBAAAAAAAAAUEAAAAAAAIBVQAAAAAAAgFNAAAAAAAAATUAAAAAAAABPQAAAAAAAAE1AAAAAAACAUEAAAAAAAEBVQAAAAAAAAEpAAAAAAACAUUAAAAAAAABMQAAAAAAAgE5AAAAAAACAUUAAAAAAAABKQAAAAAAAgEtAAAAAAABAUUAAAAAAAMBQQAAAAAAAgFNAAAAAAACASkAAAAAAAABLQAAAAAAAQFJAAAAAAACAT0AAAAAAAABMQAAAAAAAgExAAAAAAAAAUkAAAAAAAABMQAAAAAAAgExAAAAAAACAUEAAAAAAAABTQAAAAAAAgE5AAAAAAAAAS0AAAAAAAABQQAAAAAAAgExAAAAAAAAAUUAAAAAAAMBQQAAAAAAAwFFAAAAAAAAAV0AAAAAAAABVQAAAAAAAAEpAAAAAAACAUkAAAAAAAABMQAAAAAAAQFJAAAAAAAAAS0AAAAAAAIBMQAAAAAAAgFRAAAAAAACAU0AAAAAAAABQQAAAAAAAwFFAAAAAAACATkAAAAAAAIBNQAAAAAAAQFRAAAAAAABAVEAAAAAAAEBQQAAAAAAAgE5AAAAAAABAUUAAAAAAAIBOQAAAAAAAAFVAAAAAAAAATUAAAAAAAMBSQAAAAAAAgE1AAAAAAAAAS0AAAAAAAABNQAAAAAAAQFNAAAAAAAAAUkA=",
          "dtype": "f8"
         },
         "y": {
          "bdata": "AAAAAAAALEAAAAAAAABVQAAAAAAAABxAAAAAAADAVEAAAAAAAMBUQAAAAAAAAFVAAAAAAACAS0AAAAAAAAAoQAAAAAAAACxAAAAAAAAAM0AAAAAAAABBQAAAAAAAgEFAAAAAAACAUUAAAAAAAAAuQAAAAAAAAEFAAAAAAADAVkAAAAAAAIBWQAAAAAAAADxAAAAAAAAAVkAAAAAAAAA/QAAAAAAAgFdAAAAAAAAASUAAAAAAAABDQAAAAAAAAEJAAAAAAAAAJkAAAAAAAEBRQAAAAAAAQFNAAAAAAAAAVUAAAAAAAAAqQAAAAAAAgFZAAAAAAADAUEAAAAAAAABQQAAAAAAAABhAAAAAAAAAM0AAAAAAAAA6QAAAAAAAQFdAAAAAAACAVEAAAAAAAABXQAAAAAAAgFNAAAAAAADAV0AAAAAAAIBRQAAAAAAAgFBAAAAAAAAAREAAAAAAAABEQAAAAAAAADhAAAAAAADAVUAAAAAAAIBRQAAAAAAAADlAAAAAAAAASEAAAAAAAIBNQAAAAAAAABxAAAAAAAAAGEAAAAAAAABXQAAAAAAAAD9AAAAAAADAVUAAAAAAAAA0QAAAAAAAwFVAAAAAAAAAMUAAAAAAAABAQAAAAAAAgEJAAAAAAAAAVkAAAAAAAEBTQAAAAAAAAABAAAAAAAAAMUAAAAAAAAAYQAAAAAAAADNAAAAAAACAV0AAAAAAAAA2QAAAAAAAAExAAAAAAABAV0AAAAAAAEBWQAAAAAAAwFFAAAAAAACAVkAAAAAAAAA8QAAAAAAAACBAAAAAAAAAHEAAAAAAAAAgQAAAAAAAgFdAAAAAAABAVUAAAAAAAAAgQAAAAAAAABxAAAAAAAAAVEAAAAAAAIBQQAAAAAAAgE9AAAAAAAAANkAAAAAAAABYQAAAAAAAAFNAAAAAAAAALEAAAAAAAABAQAAAAAAAgFdAAAAAAACATEAAAAAAAAA6QAAAAAAAwFVAAAAAAAAAUkAAAAAAAABLQAAAAAAAAFVAAAAAAADAVUAAAAAAAAA5QAAAAAAAwFNAAAAAAAAANEAAAAAAAABBQAAAAAAAAFBAAAAAAAAAREAAAAAAAAAUQAAAAAAAgExAAAAAAAAAMEAAAAAAAMBUQAAAAAAAADBAAAAAAADAUkAAAAAAAAAkQAAAAAAAADVAAAAAAADAVEAAAAAAAAA5QAAAAAAAADFAAAAAAAAALkAAAAAAAMBVQAAAAAAAAEZAAAAAAAAAKEAAAAAAAAA3QAAAAAAAwFdAAAAAAAAAIkAAAAAAAAAkQAAAAAAAwFdAAAAAAACAV0AAAAAAAABJQAAAAAAAAChAAAAAAADAVkAAAAAAAEBRQAAAAAAAABxAAAAAAADAVUAAAAAAAAA0QAAAAAAAADJAAAAAAAAAPkA=",
          "dtype": "f8"
         }
        }
       ],
       "layout": {
        "height": 700,
        "legend": {
         "bgcolor": "rgba(0,0,0,0.5)",
         "font": {
          "color": "white"
         },
         "x": 0.01,
         "xanchor": "left",
         "y": 0.95,
         "yanchor": "top"
        },
        "margin": {
         "b": 20,
         "l": 20,
         "r": 20,
         "t": 50
        },
        "plot_bgcolor": "#2E7D32",
        "shapes": [
         {
          "line": {
           "color": "white",
           "width": 2
          },
          "type": "rect",
          "x0": 0,
          "x1": 100,
          "y0": 0,
          "y1": 100
         },
         {
          "line": {
           "color": "white",
           "width": 2
          },
          "type": "line",
          "x0": 50,
          "x1": 50,
          "y0": 0,
          "y1": 100
         },
         {
          "line": {
           "color": "white",
           "width": 2
          },
          "type": "rect",
          "x0": 0,
          "x1": 16.5,
          "y0": 21.1,
          "y1": 78.9
         },
         {
          "line": {
           "color": "white",
           "width": 2
          },
          "type": "rect",
          "x0": 83.5,
          "x1": 100,
          "y0": 21.1,
          "y1": 78.9
         },
         {
          "line": {
           "color": "white",
           "width": 2
          },
          "type": "rect",
          "x0": 0,
          "x1": 5.5,
          "y0": 36.8,
          "y1": 63.2
         },
         {
          "line": {
           "color": "white",
           "width": 2
          },
          "type": "rect",
          "x0": 94.5,
          "x1": 100,
          "y0": 36.8,
          "y1": 63.2
         },
         {
          "line": {
           "color": "white",
           "width": 2
          },
          "type": "circle",
          "x0": 40.85,
          "x1": 59.15,
          "y0": 40.85,
          "y1": 59.15
         },
         {
          "line": {
           "color": "white",
           "width": 2
          },
          "path": "M 16.5,38.7 C 23.5,43.7, 23.5,56.3, 16.5,61.3",
          "type": "path"
         },
         {
          "line": {
           "color": "white",
           "width": 2
          },
          "path": "M 83.5,38.7 C 76.5,43.7, 76.5,56.3, 83.5,61.3",
          "type": "path"
         },
         {
          "line": {
           "color": "white",
           "width": 2
          },
          "path": "M 0,1 A 1,1 0 0,1 1,0",
          "type": "path"
         },
         {
          "line": {
           "color": "white",
           "width": 2
          },
          "path": "M 0,99 A 1,1 0 0,0 1,100",
          "type": "path"
         },
         {
          "line": {
           "color": "white",
           "width": 2
          },
          "path": "M 100,1 A 1,1 0 0,0 99,0",
          "type": "path"
         },
         {
          "line": {
           "color": "white",
           "width": 2
          },
          "path": "M 100,99 A 1,1 0 0,1 99,100",
          "type": "path"
         },
         {
          "fillcolor": "#388E3C",
          "layer": "below",
          "line": {
           "width": 0
          },
          "opacity": 0.3,
          "type": "rect",
          "x0": 0,
          "x1": 5,
          "y0": 0,
          "y1": 100
         },
         {
          "fillcolor": "#388E3C",
          "layer": "below",
          "line": {
           "width": 0
          },
          "opacity": 0.3,
          "type": "rect",
          "x0": 10,
          "x1": 15,
          "y0": 0,
          "y1": 100
         },
         {
          "fillcolor": "#388E3C",
          "layer": "below",
          "line": {
           "width": 0
          },
          "opacity": 0.3,
          "type": "rect",
          "x0": 20,
          "x1": 25,
          "y0": 0,
          "y1": 100
         },
         {
          "fillcolor": "#388E3C",
          "layer": "below",
          "line": {
           "width": 0
          },
          "opacity": 0.3,
          "type": "rect",
          "x0": 30,
          "x1": 35,
          "y0": 0,
          "y1": 100
         },
         {
          "fillcolor": "#388E3C",
          "layer": "below",
          "line": {
           "width": 0
          },
          "opacity": 0.3,
          "type": "rect",
          "x0": 40,
          "x1": 45,
          "y0": 0,
          "y1": 100
         },
         {
          "fillcolor": "#388E3C",
          "layer": "below",
          "line": {
           "width": 0
          },
          "opacity": 0.3,
          "type": "rect",
          "x0": 50,
          "x1": 55,
          "y0": 0,
          "y1": 100
         },
         {
          "fillcolor": "#388E3C",
          "layer": "below",
          "line": {
           "width": 0
          },
          "opacity": 0.3,
          "type": "rect",
          "x0": 60,
          "x1": 65,
          "y0": 0,
          "y1": 100
         },
         {
          "fillcolor": "#388E3C",
          "layer": "below",
          "line": {
           "width": 0
          },
          "opacity": 0.3,
          "type": "rect",
          "x0": 70,
          "x1": 75,
          "y0": 0,
          "y1": 100
         },
         {
          "fillcolor": "#388E3C",
          "layer": "below",
          "line": {
           "width": 0
          },
          "opacity": 0.3,
          "type": "rect",
          "x0": 80,
          "x1": 85,
          "y0": 0,
          "y1": 100
         },
         {
          "fillcolor": "#388E3C",
          "layer": "below",
          "line": {
           "width": 0
          },
          "opacity": 0.3,
          "type": "rect",
          "x0": 90,
          "x1": 95,
          "y0": 0,
          "y1": 100
         }
        ],
        "showlegend": false,
        "template": {
         "data": {
          "bar": [
           {
            "error_x": {
             "color": "#2a3f5f"
            },
            "error_y": {
             "color": "#2a3f5f"
            },
            "marker": {
             "line": {
              "color": "white",
              "width": 0.5
             },
             "pattern": {
              "fillmode": "overlay",
              "size": 10,
              "solidity": 0.2
             }
            },
            "type": "bar"
           }
          ],
          "barpolar": [
           {
            "marker": {
             "line": {
              "color": "white",
              "width": 0.5
             },
             "pattern": {
              "fillmode": "overlay",
              "size": 10,
              "solidity": 0.2
             }
            },
            "type": "barpolar"
           }
          ],
          "carpet": [
           {
            "aaxis": {
             "endlinecolor": "#2a3f5f",
             "gridcolor": "#C8D4E3",
             "linecolor": "#C8D4E3",
             "minorgridcolor": "#C8D4E3",
             "startlinecolor": "#2a3f5f"
            },
            "baxis": {
             "endlinecolor": "#2a3f5f",
             "gridcolor": "#C8D4E3",
             "linecolor": "#C8D4E3",
             "minorgridcolor": "#C8D4E3",
             "startlinecolor": "#2a3f5f"
            },
            "type": "carpet"
           }
          ],
          "choropleth": [
           {
            "colorbar": {
             "outlinewidth": 0,
             "ticks": ""
            },
            "type": "choropleth"
           }
          ],
          "contour": [
           {
            "colorbar": {
             "outlinewidth": 0,
             "ticks": ""
            },
            "colorscale": [
             [
              0,
              "#0d0887"
             ],
             [
              0.1111111111111111,
              "#46039f"
             ],
             [
              0.2222222222222222,
              "#7201a8"
             ],
             [
              0.3333333333333333,
              "#9c179e"
             ],
             [
              0.4444444444444444,
              "#bd3786"
             ],
             [
              0.5555555555555556,
              "#d8576b"
             ],
             [
              0.6666666666666666,
              "#ed7953"
             ],
             [
              0.7777777777777778,
              "#fb9f3a"
             ],
             [
              0.8888888888888888,
              "#fdca26"
             ],
             [
              1,
              "#f0f921"
             ]
            ],
            "type": "contour"
           }
          ],
          "contourcarpet": [
           {
            "colorbar": {
             "outlinewidth": 0,
             "ticks": ""
            },
            "type": "contourcarpet"
           }
          ],
          "heatmap": [
           {
            "colorbar": {
             "outlinewidth": 0,
             "ticks": ""
            },
            "colorscale": [
             [
              0,
              "#0d0887"
             ],
             [
              0.1111111111111111,
              "#46039f"
             ],
             [
              0.2222222222222222,
              "#7201a8"
             ],
             [
              0.3333333333333333,
              "#9c179e"
             ],
             [
              0.4444444444444444,
              "#bd3786"
             ],
             [
              0.5555555555555556,
              "#d8576b"
             ],
             [
              0.6666666666666666,
              "#ed7953"
             ],
             [
              0.7777777777777778,
              "#fb9f3a"
             ],
             [
              0.8888888888888888,
              "#fdca26"
             ],
             [
              1,
              "#f0f921"
             ]
            ],
            "type": "heatmap"
           }
          ],
          "histogram": [
           {
            "marker": {
             "pattern": {
              "fillmode": "overlay",
              "size": 10,
              "solidity": 0.2
             }
            },
            "type": "histogram"
           }
          ],
          "histogram2d": [
           {
            "colorbar": {
             "outlinewidth": 0,
             "ticks": ""
            },
            "colorscale": [
             [
              0,
              "#0d0887"
             ],
             [
              0.1111111111111111,
              "#46039f"
             ],
             [
              0.2222222222222222,
              "#7201a8"
             ],
             [
              0.3333333333333333,
              "#9c179e"
             ],
             [
              0.4444444444444444,
              "#bd3786"
             ],
             [
              0.5555555555555556,
              "#d8576b"
             ],
             [
              0.6666666666666666,
              "#ed7953"
             ],
             [
              0.7777777777777778,
              "#fb9f3a"
             ],
             [
              0.8888888888888888,
              "#fdca26"
             ],
             [
              1,
              "#f0f921"
             ]
            ],
            "type": "histogram2d"
           }
          ],
          "histogram2dcontour": [
           {
            "colorbar": {
             "outlinewidth": 0,
             "ticks": ""
            },
            "colorscale": [
             [
              0,
              "#0d0887"
             ],
             [
              0.1111111111111111,
              "#46039f"
             ],
             [
              0.2222222222222222,
              "#7201a8"
             ],
             [
              0.3333333333333333,
              "#9c179e"
             ],
             [
              0.4444444444444444,
              "#bd3786"
             ],
             [
              0.5555555555555556,
              "#d8576b"
             ],
             [
              0.6666666666666666,
              "#ed7953"
             ],
             [
              0.7777777777777778,
              "#fb9f3a"
             ],
             [
              0.8888888888888888,
              "#fdca26"
             ],
             [
              1,
              "#f0f921"
             ]
            ],
            "type": "histogram2dcontour"
           }
          ],
          "mesh3d": [
           {
            "colorbar": {
             "outlinewidth": 0,
             "ticks": ""
            },
            "type": "mesh3d"
           }
          ],
          "parcoords": [
           {
            "line": {
             "colorbar": {
              "outlinewidth": 0,
              "ticks": ""
             }
            },
            "type": "parcoords"
           }
          ],
          "pie": [
           {
            "automargin": true,
            "type": "pie"
           }
          ],
          "scatter": [
           {
            "fillpattern": {
             "fillmode": "overlay",
             "size": 10,
             "solidity": 0.2
            },
            "type": "scatter"
           }
          ],
          "scatter3d": [
           {
            "line": {
             "colorbar": {
              "outlinewidth": 0,
              "ticks": ""
             }
            },
            "marker": {
             "colorbar": {
              "outlinewidth": 0,
              "ticks": ""
             }
            },
            "type": "scatter3d"
           }
          ],
          "scattercarpet": [
           {
            "marker": {
             "colorbar": {
              "outlinewidth": 0,
              "ticks": ""
             }
            },
            "type": "scattercarpet"
           }
          ],
          "scattergeo": [
           {
            "marker": {
             "colorbar": {
              "outlinewidth": 0,
              "ticks": ""
             }
            },
            "type": "scattergeo"
           }
          ],
          "scattergl": [
           {
            "marker": {
             "colorbar": {
              "outlinewidth": 0,
              "ticks": ""
             }
            },
            "type": "scattergl"
           }
          ],
          "scattermap": [
           {
            "marker": {
             "colorbar": {
              "outlinewidth": 0,
              "ticks": ""
             }
            },
            "type": "scattermap"
           }
          ],
          "scattermapbox": [
           {
            "marker": {
             "colorbar": {
              "outlinewidth": 0,
              "ticks": ""
             }
            },
            "type": "scattermapbox"
           }
          ],
          "scatterpolar": [
           {
            "marker": {
             "colorbar": {
              "outlinewidth": 0,
              "ticks": ""
             }
            },
            "type": "scatterpolar"
           }
          ],
          "scatterpolargl": [
           {
            "marker": {
             "colorbar": {
              "outlinewidth": 0,
              "ticks": ""
             }
            },
            "type": "scatterpolargl"
           }
          ],
          "scatterternary": [
           {
            "marker": {
             "colorbar": {
              "outlinewidth": 0,
              "ticks": ""
             }
            },
            "type": "scatterternary"
           }
          ],
          "surface": [
           {
            "colorbar": {
             "outlinewidth": 0,
             "ticks": ""
            },
            "colorscale": [
             [
              0,
              "#0d0887"
             ],
             [
              0.1111111111111111,
              "#46039f"
             ],
             [
              0.2222222222222222,
              "#7201a8"
             ],
             [
              0.3333333333333333,
              "#9c179e"
             ],
             [
              0.4444444444444444,
              "#bd3786"
             ],
             [
              0.5555555555555556,
              "#d8576b"
             ],
             [
              0.6666666666666666,
              "#ed7953"
             ],
             [
              0.7777777777777778,
              "#fb9f3a"
             ],
             [
              0.8888888888888888,
              "#fdca26"
             ],
             [
              1,
              "#f0f921"
             ]
            ],
            "type": "surface"
           }
          ],
          "table": [
           {
            "cells": {
             "fill": {
              "color": "#EBF0F8"
             },
             "line": {
              "color": "white"
             }
            },
            "header": {
             "fill": {
              "color": "#C8D4E3"
             },
             "line": {
              "color": "white"
             }
            },
            "type": "table"
           }
          ]
         },
         "layout": {
          "annotationdefaults": {
           "arrowcolor": "#2a3f5f",
           "arrowhead": 0,
           "arrowwidth": 1
          },
          "autotypenumbers": "strict",
          "coloraxis": {
           "colorbar": {
            "outlinewidth": 0,
            "ticks": ""
           }
          },
          "colorscale": {
           "diverging": [
            [
             0,
             "#8e0152"
            ],
            [
             0.1,
             "#c51b7d"
            ],
            [
             0.2,
             "#de77ae"
            ],
            [
             0.3,
             "#f1b6da"
            ],
            [
             0.4,
             "#fde0ef"
            ],
            [
             0.5,
             "#f7f7f7"
            ],
            [
             0.6,
             "#e6f5d0"
            ],
            [
             0.7,
             "#b8e186"
            ],
            [
             0.8,
             "#7fbc41"
            ],
            [
             0.9,
             "#4d9221"
            ],
            [
             1,
             "#276419"
            ]
           ],
           "sequential": [
            [
             0,
             "#0d0887"
            ],
            [
             0.1111111111111111,
             "#46039f"
            ],
            [
             0.2222222222222222,
             "#7201a8"
            ],
            [
             0.3333333333333333,
             "#9c179e"
            ],
            [
             0.4444444444444444,
             "#bd3786"
            ],
            [
             0.5555555555555556,
             "#d8576b"
            ],
            [
             0.6666666666666666,
             "#ed7953"
            ],
            [
             0.7777777777777778,
             "#fb9f3a"
            ],
            [
             0.8888888888888888,
             "#fdca26"
            ],
            [
             1,
             "#f0f921"
            ]
           ],
           "sequentialminus": [
            [
             0,
             "#0d0887"
            ],
            [
             0.1111111111111111,
             "#46039f"
            ],
            [
             0.2222222222222222,
             "#7201a8"
            ],
            [
             0.3333333333333333,
             "#9c179e"
            ],
            [
             0.4444444444444444,
             "#bd3786"
            ],
            [
             0.5555555555555556,
             "#d8576b"
            ],
            [
             0.6666666666666666,
             "#ed7953"
            ],
            [
             0.7777777777777778,
             "#fb9f3a"
            ],
            [
             0.8888888888888888,
             "#fdca26"
            ],
            [
             1,
             "#f0f921"
            ]
           ]
          },
          "colorway": [
           "#636efa",
           "#EF553B",
           "#00cc96",
           "#ab63fa",
           "#FFA15A",
           "#19d3f3",
           "#FF6692",
           "#B6E880",
           "#FF97FF",
           "#FECB52"
          ],
          "font": {
           "color": "#2a3f5f"
          },
          "geo": {
           "bgcolor": "white",
           "lakecolor": "white",
           "landcolor": "white",
           "showlakes": true,
           "showland": true,
           "subunitcolor": "#C8D4E3"
          },
          "hoverlabel": {
           "align": "left"
          },
          "hovermode": "closest",
          "mapbox": {
           "style": "light"
          },
          "paper_bgcolor": "white",
          "plot_bgcolor": "white",
          "polar": {
           "angularaxis": {
            "gridcolor": "#EBF0F8",
            "linecolor": "#EBF0F8",
            "ticks": ""
           },
           "bgcolor": "white",
           "radialaxis": {
            "gridcolor": "#EBF0F8",
            "linecolor": "#EBF0F8",
            "ticks": ""
           }
          },
          "scene": {
           "xaxis": {
            "backgroundcolor": "white",
            "gridcolor": "#DFE8F3",
            "gridwidth": 2,
            "linecolor": "#EBF0F8",
            "showbackground": true,
            "ticks": "",
            "zerolinecolor": "#EBF0F8"
           },
           "yaxis": {
            "backgroundcolor": "white",
            "gridcolor": "#DFE8F3",
            "gridwidth": 2,
            "linecolor": "#EBF0F8",
            "showbackground": true,
            "ticks": "",
            "zerolinecolor": "#EBF0F8"
           },
           "zaxis": {
            "backgroundcolor": "white",
            "gridcolor": "#DFE8F3",
            "gridwidth": 2,
            "linecolor": "#EBF0F8",
            "showbackground": true,
            "ticks": "",
            "zerolinecolor": "#EBF0F8"
           }
          },
          "shapedefaults": {
           "line": {
            "color": "#2a3f5f"
           }
          },
          "ternary": {
           "aaxis": {
            "gridcolor": "#DFE8F3",
            "linecolor": "#A2B1C6",
            "ticks": ""
           },
           "baxis": {
            "gridcolor": "#DFE8F3",
            "linecolor": "#A2B1C6",
            "ticks": ""
           },
           "bgcolor": "white",
           "caxis": {
            "gridcolor": "#DFE8F3",
            "linecolor": "#A2B1C6",
            "ticks": ""
           }
          },
          "title": {
           "x": 0.05
          },
          "xaxis": {
           "automargin": true,
           "gridcolor": "#EBF0F8",
           "linecolor": "#EBF0F8",
           "ticks": "",
           "title": {
            "standoff": 15
           },
           "zerolinecolor": "#EBF0F8",
           "zerolinewidth": 2
          },
          "yaxis": {
           "automargin": true,
           "gridcolor": "#EBF0F8",
           "linecolor": "#EBF0F8",
           "ticks": "",
           "title": {
            "standoff": 15
           },
           "zerolinecolor": "#EBF0F8",
           "zerolinewidth": 2
          }
         }
        },
        "title": {
         "font": {
          "color": "white",
          "size": 20
         },
         "text": "<b>Attacking Free Kick Analysis: Delivery Zones & Danger (xG)</b>",
         "x": 0.5
        },
        "width": 1050,
        "xaxis": {
         "range": [
          -5,
          105
         ],
         "visible": false
        },
        "yaxis": {
         "range": [
          -5,
          105
         ],
         "visible": false
        }
       }
      }
     },
     "metadata": {},
     "output_type": "display_data"
    },
    {
     "name": "stdout",
     "output_type": "stream",
     "text": [
      "✓ Attacking free kick analysis created. High xG values indicate dangerous deliveries.\n",
      "\n",
      "--- Detecting Attacking Patterns ---\n"
     ]
    },
    {
     "data": {
      "application/vnd.plotly.v1+json": {
       "config": {
        "plotlyServerURL": "https://plot.ly"
       },
       "data": [
        {
         "marker": {
          "color": [
           "lightgreen",
           "lightcoral"
          ],
          "line": {
           "color": "black",
           "width": 2
          }
         },
         "text": [
          "12",
          "166"
         ],
         "textfont": {
          "color": "black",
          "size": 14
         },
         "textposition": "auto",
         "type": "bar",
         "x": [
          "Short Corners",
          "Direct Deliveries"
         ],
         "y": [
          12,
          166
         ]
        }
       ],
       "layout": {
        "height": 500,
        "showlegend": false,
        "template": {
         "data": {
          "bar": [
           {
            "error_x": {
             "color": "#2a3f5f"
            },
            "error_y": {
             "color": "#2a3f5f"
            },
            "marker": {
             "line": {
              "color": "white",
              "width": 0.5
             },
             "pattern": {
              "fillmode": "overlay",
              "size": 10,
              "solidity": 0.2
             }
            },
            "type": "bar"
           }
          ],
          "barpolar": [
           {
            "marker": {
             "line": {
              "color": "white",
              "width": 0.5
             },
             "pattern": {
              "fillmode": "overlay",
              "size": 10,
              "solidity": 0.2
             }
            },
            "type": "barpolar"
           }
          ],
          "carpet": [
           {
            "aaxis": {
             "endlinecolor": "#2a3f5f",
             "gridcolor": "#C8D4E3",
             "linecolor": "#C8D4E3",
             "minorgridcolor": "#C8D4E3",
             "startlinecolor": "#2a3f5f"
            },
            "baxis": {
             "endlinecolor": "#2a3f5f",
             "gridcolor": "#C8D4E3",
             "linecolor": "#C8D4E3",
             "minorgridcolor": "#C8D4E3",
             "startlinecolor": "#2a3f5f"
            },
            "type": "carpet"
           }
          ],
          "choropleth": [
           {
            "colorbar": {
             "outlinewidth": 0,
             "ticks": ""
            },
            "type": "choropleth"
           }
          ],
          "contour": [
           {
            "colorbar": {
             "outlinewidth": 0,
             "ticks": ""
            },
            "colorscale": [
             [
              0,
              "#0d0887"
             ],
             [
              0.1111111111111111,
              "#46039f"
             ],
             [
              0.2222222222222222,
              "#7201a8"
             ],
             [
              0.3333333333333333,
              "#9c179e"
             ],
             [
              0.4444444444444444,
              "#bd3786"
             ],
             [
              0.5555555555555556,
              "#d8576b"
             ],
             [
              0.6666666666666666,
              "#ed7953"
             ],
             [
              0.7777777777777778,
              "#fb9f3a"
             ],
             [
              0.8888888888888888,
              "#fdca26"
             ],
             [
              1,
              "#f0f921"
             ]
            ],
            "type": "contour"
           }
          ],
          "contourcarpet": [
           {
            "colorbar": {
             "outlinewidth": 0,
             "ticks": ""
            },
            "type": "contourcarpet"
           }
          ],
          "heatmap": [
           {
            "colorbar": {
             "outlinewidth": 0,
             "ticks": ""
            },
            "colorscale": [
             [
              0,
              "#0d0887"
             ],
             [
              0.1111111111111111,
              "#46039f"
             ],
             [
              0.2222222222222222,
              "#7201a8"
             ],
             [
              0.3333333333333333,
              "#9c179e"
             ],
             [
              0.4444444444444444,
              "#bd3786"
             ],
             [
              0.5555555555555556,
              "#d8576b"
             ],
             [
              0.6666666666666666,
              "#ed7953"
             ],
             [
              0.7777777777777778,
              "#fb9f3a"
             ],
             [
              0.8888888888888888,
              "#fdca26"
             ],
             [
              1,
              "#f0f921"
             ]
            ],
            "type": "heatmap"
           }
          ],
          "histogram": [
           {
            "marker": {
             "pattern": {
              "fillmode": "overlay",
              "size": 10,
              "solidity": 0.2
             }
            },
            "type": "histogram"
           }
          ],
          "histogram2d": [
           {
            "colorbar": {
             "outlinewidth": 0,
             "ticks": ""
            },
            "colorscale": [
             [
              0,
              "#0d0887"
             ],
             [
              0.1111111111111111,
              "#46039f"
             ],
             [
              0.2222222222222222,
              "#7201a8"
             ],
             [
              0.3333333333333333,
              "#9c179e"
             ],
             [
              0.4444444444444444,
              "#bd3786"
             ],
             [
              0.5555555555555556,
              "#d8576b"
             ],
             [
              0.6666666666666666,
              "#ed7953"
             ],
             [
              0.7777777777777778,
              "#fb9f3a"
             ],
             [
              0.8888888888888888,
              "#fdca26"
             ],
             [
              1,
              "#f0f921"
             ]
            ],
            "type": "histogram2d"
           }
          ],
          "histogram2dcontour": [
           {
            "colorbar": {
             "outlinewidth": 0,
             "ticks": ""
            },
            "colorscale": [
             [
              0,
              "#0d0887"
             ],
             [
              0.1111111111111111,
              "#46039f"
             ],
             [
              0.2222222222222222,
              "#7201a8"
             ],
             [
              0.3333333333333333,
              "#9c179e"
             ],
             [
              0.4444444444444444,
              "#bd3786"
             ],
             [
              0.5555555555555556,
              "#d8576b"
             ],
             [
              0.6666666666666666,
              "#ed7953"
             ],
             [
              0.7777777777777778,
              "#fb9f3a"
             ],
             [
              0.8888888888888888,
              "#fdca26"
             ],
             [
              1,
              "#f0f921"
             ]
            ],
            "type": "histogram2dcontour"
           }
          ],
          "mesh3d": [
           {
            "colorbar": {
             "outlinewidth": 0,
             "ticks": ""
            },
            "type": "mesh3d"
           }
          ],
          "parcoords": [
           {
            "line": {
             "colorbar": {
              "outlinewidth": 0,
              "ticks": ""
             }
            },
            "type": "parcoords"
           }
          ],
          "pie": [
           {
            "automargin": true,
            "type": "pie"
           }
          ],
          "scatter": [
           {
            "fillpattern": {
             "fillmode": "overlay",
             "size": 10,
             "solidity": 0.2
            },
            "type": "scatter"
           }
          ],
          "scatter3d": [
           {
            "line": {
             "colorbar": {
              "outlinewidth": 0,
              "ticks": ""
             }
            },
            "marker": {
             "colorbar": {
              "outlinewidth": 0,
              "ticks": ""
             }
            },
            "type": "scatter3d"
           }
          ],
          "scattercarpet": [
           {
            "marker": {
             "colorbar": {
              "outlinewidth": 0,
              "ticks": ""
             }
            },
            "type": "scattercarpet"
           }
          ],
          "scattergeo": [
           {
            "marker": {
             "colorbar": {
              "outlinewidth": 0,
              "ticks": ""
             }
            },
            "type": "scattergeo"
           }
          ],
          "scattergl": [
           {
            "marker": {
             "colorbar": {
              "outlinewidth": 0,
              "ticks": ""
             }
            },
            "type": "scattergl"
           }
          ],
          "scattermap": [
           {
            "marker": {
             "colorbar": {
              "outlinewidth": 0,
              "ticks": ""
             }
            },
            "type": "scattermap"
           }
          ],
          "scattermapbox": [
           {
            "marker": {
             "colorbar": {
              "outlinewidth": 0,
              "ticks": ""
             }
            },
            "type": "scattermapbox"
           }
          ],
          "scatterpolar": [
           {
            "marker": {
             "colorbar": {
              "outlinewidth": 0,
              "ticks": ""
             }
            },
            "type": "scatterpolar"
           }
          ],
          "scatterpolargl": [
           {
            "marker": {
             "colorbar": {
              "outlinewidth": 0,
              "ticks": ""
             }
            },
            "type": "scatterpolargl"
           }
          ],
          "scatterternary": [
           {
            "marker": {
             "colorbar": {
              "outlinewidth": 0,
              "ticks": ""
             }
            },
            "type": "scatterternary"
           }
          ],
          "surface": [
           {
            "colorbar": {
             "outlinewidth": 0,
             "ticks": ""
            },
            "colorscale": [
             [
              0,
              "#0d0887"
             ],
             [
              0.1111111111111111,
              "#46039f"
             ],
             [
              0.2222222222222222,
              "#7201a8"
             ],
             [
              0.3333333333333333,
              "#9c179e"
             ],
             [
              0.4444444444444444,
              "#bd3786"
             ],
             [
              0.5555555555555556,
              "#d8576b"
             ],
             [
              0.6666666666666666,
              "#ed7953"
             ],
             [
              0.7777777777777778,
              "#fb9f3a"
             ],
             [
              0.8888888888888888,
              "#fdca26"
             ],
             [
              1,
              "#f0f921"
             ]
            ],
            "type": "surface"
           }
          ],
          "table": [
           {
            "cells": {
             "fill": {
              "color": "#EBF0F8"
             },
             "line": {
              "color": "white"
             }
            },
            "header": {
             "fill": {
              "color": "#C8D4E3"
             },
             "line": {
              "color": "white"
             }
            },
            "type": "table"
           }
          ]
         },
         "layout": {
          "annotationdefaults": {
           "arrowcolor": "#2a3f5f",
           "arrowhead": 0,
           "arrowwidth": 1
          },
          "autotypenumbers": "strict",
          "coloraxis": {
           "colorbar": {
            "outlinewidth": 0,
            "ticks": ""
           }
          },
          "colorscale": {
           "diverging": [
            [
             0,
             "#8e0152"
            ],
            [
             0.1,
             "#c51b7d"
            ],
            [
             0.2,
             "#de77ae"
            ],
            [
             0.3,
             "#f1b6da"
            ],
            [
             0.4,
             "#fde0ef"
            ],
            [
             0.5,
             "#f7f7f7"
            ],
            [
             0.6,
             "#e6f5d0"
            ],
            [
             0.7,
             "#b8e186"
            ],
            [
             0.8,
             "#7fbc41"
            ],
            [
             0.9,
             "#4d9221"
            ],
            [
             1,
             "#276419"
            ]
           ],
           "sequential": [
            [
             0,
             "#0d0887"
            ],
            [
             0.1111111111111111,
             "#46039f"
            ],
            [
             0.2222222222222222,
             "#7201a8"
            ],
            [
             0.3333333333333333,
             "#9c179e"
            ],
            [
             0.4444444444444444,
             "#bd3786"
            ],
            [
             0.5555555555555556,
             "#d8576b"
            ],
            [
             0.6666666666666666,
             "#ed7953"
            ],
            [
             0.7777777777777778,
             "#fb9f3a"
            ],
            [
             0.8888888888888888,
             "#fdca26"
            ],
            [
             1,
             "#f0f921"
            ]
           ],
           "sequentialminus": [
            [
             0,
             "#0d0887"
            ],
            [
             0.1111111111111111,
             "#46039f"
            ],
            [
             0.2222222222222222,
             "#7201a8"
            ],
            [
             0.3333333333333333,
             "#9c179e"
            ],
            [
             0.4444444444444444,
             "#bd3786"
            ],
            [
             0.5555555555555556,
             "#d8576b"
            ],
            [
             0.6666666666666666,
             "#ed7953"
            ],
            [
             0.7777777777777778,
             "#fb9f3a"
            ],
            [
             0.8888888888888888,
             "#fdca26"
            ],
            [
             1,
             "#f0f921"
            ]
           ]
          },
          "colorway": [
           "#636efa",
           "#EF553B",
           "#00cc96",
           "#ab63fa",
           "#FFA15A",
           "#19d3f3",
           "#FF6692",
           "#B6E880",
           "#FF97FF",
           "#FECB52"
          ],
          "font": {
           "color": "#2a3f5f"
          },
          "geo": {
           "bgcolor": "white",
           "lakecolor": "white",
           "landcolor": "white",
           "showlakes": true,
           "showland": true,
           "subunitcolor": "#C8D4E3"
          },
          "hoverlabel": {
           "align": "left"
          },
          "hovermode": "closest",
          "mapbox": {
           "style": "light"
          },
          "paper_bgcolor": "white",
          "plot_bgcolor": "white",
          "polar": {
           "angularaxis": {
            "gridcolor": "#EBF0F8",
            "linecolor": "#EBF0F8",
            "ticks": ""
           },
           "bgcolor": "white",
           "radialaxis": {
            "gridcolor": "#EBF0F8",
            "linecolor": "#EBF0F8",
            "ticks": ""
           }
          },
          "scene": {
           "xaxis": {
            "backgroundcolor": "white",
            "gridcolor": "#DFE8F3",
            "gridwidth": 2,
            "linecolor": "#EBF0F8",
            "showbackground": true,
            "ticks": "",
            "zerolinecolor": "#EBF0F8"
           },
           "yaxis": {
            "backgroundcolor": "white",
            "gridcolor": "#DFE8F3",
            "gridwidth": 2,
            "linecolor": "#EBF0F8",
            "showbackground": true,
            "ticks": "",
            "zerolinecolor": "#EBF0F8"
           },
           "zaxis": {
            "backgroundcolor": "white",
            "gridcolor": "#DFE8F3",
            "gridwidth": 2,
            "linecolor": "#EBF0F8",
            "showbackground": true,
            "ticks": "",
            "zerolinecolor": "#EBF0F8"
           }
          },
          "shapedefaults": {
           "line": {
            "color": "#2a3f5f"
           }
          },
          "ternary": {
           "aaxis": {
            "gridcolor": "#DFE8F3",
            "linecolor": "#A2B1C6",
            "ticks": ""
           },
           "baxis": {
            "gridcolor": "#DFE8F3",
            "linecolor": "#A2B1C6",
            "ticks": ""
           },
           "bgcolor": "white",
           "caxis": {
            "gridcolor": "#DFE8F3",
            "linecolor": "#A2B1C6",
            "ticks": ""
           }
          },
          "title": {
           "x": 0.05
          },
          "xaxis": {
           "automargin": true,
           "gridcolor": "#EBF0F8",
           "linecolor": "#EBF0F8",
           "ticks": "",
           "title": {
            "standoff": 15
           },
           "zerolinecolor": "#EBF0F8",
           "zerolinewidth": 2
          },
          "yaxis": {
           "automargin": true,
           "gridcolor": "#EBF0F8",
           "linecolor": "#EBF0F8",
           "ticks": "",
           "title": {
            "standoff": 15
           },
           "zerolinecolor": "#EBF0F8",
           "zerolinewidth": 2
          }
         }
        },
        "title": {
         "text": "Corner Delivery Strategy Analysis",
         "x": 0.5
        },
        "xaxis": {
         "title": {
          "text": "Strategy Type"
         }
        },
        "yaxis": {
         "title": {
          "text": "Number of Corners"
         }
        }
       }
      }
     },
     "metadata": {},
     "output_type": "display_data"
    },
    {
     "name": "stdout",
     "output_type": "stream",
     "text": [
      "✓ Corner strategy analysis completed:\n",
      "  • Short corners: 12 (6.7%)\n",
      "  • Direct deliveries: 166 (93.3%)\n",
      "\n",
      "--- Set-Piece Sequence Analysis ---\n",
      "✓ Set-pieces leading to shots: 102 (18.6%)\n",
      "✓ Set-pieces leading to goals: 7 (1.3%)\n"
     ]
    },
    {
     "data": {
      "application/vnd.plotly.v1+json": {
       "config": {
        "plotlyServerURL": "https://plot.ly"
       },
       "data": [
        {
         "marker": {
          "color": [
           "lightblue",
           "orange",
           "red"
          ],
          "line": {
           "color": "black",
           "width": 2
          }
         },
         "text": [
          "548<br>(100%)",
          "102<br>(18.6%)",
          "7<br>(1.3%)"
         ],
         "textfont": {
          "color": "black",
          "size": 12
         },
         "textposition": "auto",
         "type": "bar",
         "x": [
          "All Set-Pieces",
          "Leading to Shots",
          "Leading to Goals"
         ],
         "y": [
          548,
          102,
          7
         ]
        }
       ],
       "layout": {
        "height": 500,
        "showlegend": false,
        "template": {
         "data": {
          "bar": [
           {
            "error_x": {
             "color": "#2a3f5f"
            },
            "error_y": {
             "color": "#2a3f5f"
            },
            "marker": {
             "line": {
              "color": "white",
              "width": 0.5
             },
             "pattern": {
              "fillmode": "overlay",
              "size": 10,
              "solidity": 0.2
             }
            },
            "type": "bar"
           }
          ],
          "barpolar": [
           {
            "marker": {
             "line": {
              "color": "white",
              "width": 0.5
             },
             "pattern": {
              "fillmode": "overlay",
              "size": 10,
              "solidity": 0.2
             }
            },
            "type": "barpolar"
           }
          ],
          "carpet": [
           {
            "aaxis": {
             "endlinecolor": "#2a3f5f",
             "gridcolor": "#C8D4E3",
             "linecolor": "#C8D4E3",
             "minorgridcolor": "#C8D4E3",
             "startlinecolor": "#2a3f5f"
            },
            "baxis": {
             "endlinecolor": "#2a3f5f",
             "gridcolor": "#C8D4E3",
             "linecolor": "#C8D4E3",
             "minorgridcolor": "#C8D4E3",
             "startlinecolor": "#2a3f5f"
            },
            "type": "carpet"
           }
          ],
          "choropleth": [
           {
            "colorbar": {
             "outlinewidth": 0,
             "ticks": ""
            },
            "type": "choropleth"
           }
          ],
          "contour": [
           {
            "colorbar": {
             "outlinewidth": 0,
             "ticks": ""
            },
            "colorscale": [
             [
              0,
              "#0d0887"
             ],
             [
              0.1111111111111111,
              "#46039f"
             ],
             [
              0.2222222222222222,
              "#7201a8"
             ],
             [
              0.3333333333333333,
              "#9c179e"
             ],
             [
              0.4444444444444444,
              "#bd3786"
             ],
             [
              0.5555555555555556,
              "#d8576b"
             ],
             [
              0.6666666666666666,
              "#ed7953"
             ],
             [
              0.7777777777777778,
              "#fb9f3a"
             ],
             [
              0.8888888888888888,
              "#fdca26"
             ],
             [
              1,
              "#f0f921"
             ]
            ],
            "type": "contour"
           }
          ],
          "contourcarpet": [
           {
            "colorbar": {
             "outlinewidth": 0,
             "ticks": ""
            },
            "type": "contourcarpet"
           }
          ],
          "heatmap": [
           {
            "colorbar": {
             "outlinewidth": 0,
             "ticks": ""
            },
            "colorscale": [
             [
              0,
              "#0d0887"
             ],
             [
              0.1111111111111111,
              "#46039f"
             ],
             [
              0.2222222222222222,
              "#7201a8"
             ],
             [
              0.3333333333333333,
              "#9c179e"
             ],
             [
              0.4444444444444444,
              "#bd3786"
             ],
             [
              0.5555555555555556,
              "#d8576b"
             ],
             [
              0.6666666666666666,
              "#ed7953"
             ],
             [
              0.7777777777777778,
              "#fb9f3a"
             ],
             [
              0.8888888888888888,
              "#fdca26"
             ],
             [
              1,
              "#f0f921"
             ]
            ],
            "type": "heatmap"
           }
          ],
          "histogram": [
           {
            "marker": {
             "pattern": {
              "fillmode": "overlay",
              "size": 10,
              "solidity": 0.2
             }
            },
            "type": "histogram"
           }
          ],
          "histogram2d": [
           {
            "colorbar": {
             "outlinewidth": 0,
             "ticks": ""
            },
            "colorscale": [
             [
              0,
              "#0d0887"
             ],
             [
              0.1111111111111111,
              "#46039f"
             ],
             [
              0.2222222222222222,
              "#7201a8"
             ],
             [
              0.3333333333333333,
              "#9c179e"
             ],
             [
              0.4444444444444444,
              "#bd3786"
             ],
             [
              0.5555555555555556,
              "#d8576b"
             ],
             [
              0.6666666666666666,
              "#ed7953"
             ],
             [
              0.7777777777777778,
              "#fb9f3a"
             ],
             [
              0.8888888888888888,
              "#fdca26"
             ],
             [
              1,
              "#f0f921"
             ]
            ],
            "type": "histogram2d"
           }
          ],
          "histogram2dcontour": [
           {
            "colorbar": {
             "outlinewidth": 0,
             "ticks": ""
            },
            "colorscale": [
             [
              0,
              "#0d0887"
             ],
             [
              0.1111111111111111,
              "#46039f"
             ],
             [
              0.2222222222222222,
              "#7201a8"
             ],
             [
              0.3333333333333333,
              "#9c179e"
             ],
             [
              0.4444444444444444,
              "#bd3786"
             ],
             [
              0.5555555555555556,
              "#d8576b"
             ],
             [
              0.6666666666666666,
              "#ed7953"
             ],
             [
              0.7777777777777778,
              "#fb9f3a"
             ],
             [
              0.8888888888888888,
              "#fdca26"
             ],
             [
              1,
              "#f0f921"
             ]
            ],
            "type": "histogram2dcontour"
           }
          ],
          "mesh3d": [
           {
            "colorbar": {
             "outlinewidth": 0,
             "ticks": ""
            },
            "type": "mesh3d"
           }
          ],
          "parcoords": [
           {
            "line": {
             "colorbar": {
              "outlinewidth": 0,
              "ticks": ""
             }
            },
            "type": "parcoords"
           }
          ],
          "pie": [
           {
            "automargin": true,
            "type": "pie"
           }
          ],
          "scatter": [
           {
            "fillpattern": {
             "fillmode": "overlay",
             "size": 10,
             "solidity": 0.2
            },
            "type": "scatter"
           }
          ],
          "scatter3d": [
           {
            "line": {
             "colorbar": {
              "outlinewidth": 0,
              "ticks": ""
             }
            },
            "marker": {
             "colorbar": {
              "outlinewidth": 0,
              "ticks": ""
             }
            },
            "type": "scatter3d"
           }
          ],
          "scattercarpet": [
           {
            "marker": {
             "colorbar": {
              "outlinewidth": 0,
              "ticks": ""
             }
            },
            "type": "scattercarpet"
           }
          ],
          "scattergeo": [
           {
            "marker": {
             "colorbar": {
              "outlinewidth": 0,
              "ticks": ""
             }
            },
            "type": "scattergeo"
           }
          ],
          "scattergl": [
           {
            "marker": {
             "colorbar": {
              "outlinewidth": 0,
              "ticks": ""
             }
            },
            "type": "scattergl"
           }
          ],
          "scattermap": [
           {
            "marker": {
             "colorbar": {
              "outlinewidth": 0,
              "ticks": ""
             }
            },
            "type": "scattermap"
           }
          ],
          "scattermapbox": [
           {
            "marker": {
             "colorbar": {
              "outlinewidth": 0,
              "ticks": ""
             }
            },
            "type": "scattermapbox"
           }
          ],
          "scatterpolar": [
           {
            "marker": {
             "colorbar": {
              "outlinewidth": 0,
              "ticks": ""
             }
            },
            "type": "scatterpolar"
           }
          ],
          "scatterpolargl": [
           {
            "marker": {
             "colorbar": {
              "outlinewidth": 0,
              "ticks": ""
             }
            },
            "type": "scatterpolargl"
           }
          ],
          "scatterternary": [
           {
            "marker": {
             "colorbar": {
              "outlinewidth": 0,
              "ticks": ""
             }
            },
            "type": "scatterternary"
           }
          ],
          "surface": [
           {
            "colorbar": {
             "outlinewidth": 0,
             "ticks": ""
            },
            "colorscale": [
             [
              0,
              "#0d0887"
             ],
             [
              0.1111111111111111,
              "#46039f"
             ],
             [
              0.2222222222222222,
              "#7201a8"
             ],
             [
              0.3333333333333333,
              "#9c179e"
             ],
             [
              0.4444444444444444,
              "#bd3786"
             ],
             [
              0.5555555555555556,
              "#d8576b"
             ],
             [
              0.6666666666666666,
              "#ed7953"
             ],
             [
              0.7777777777777778,
              "#fb9f3a"
             ],
             [
              0.8888888888888888,
              "#fdca26"
             ],
             [
              1,
              "#f0f921"
             ]
            ],
            "type": "surface"
           }
          ],
          "table": [
           {
            "cells": {
             "fill": {
              "color": "#EBF0F8"
             },
             "line": {
              "color": "white"
             }
            },
            "header": {
             "fill": {
              "color": "#C8D4E3"
             },
             "line": {
              "color": "white"
             }
            },
            "type": "table"
           }
          ]
         },
         "layout": {
          "annotationdefaults": {
           "arrowcolor": "#2a3f5f",
           "arrowhead": 0,
           "arrowwidth": 1
          },
          "autotypenumbers": "strict",
          "coloraxis": {
           "colorbar": {
            "outlinewidth": 0,
            "ticks": ""
           }
          },
          "colorscale": {
           "diverging": [
            [
             0,
             "#8e0152"
            ],
            [
             0.1,
             "#c51b7d"
            ],
            [
             0.2,
             "#de77ae"
            ],
            [
             0.3,
             "#f1b6da"
            ],
            [
             0.4,
             "#fde0ef"
            ],
            [
             0.5,
             "#f7f7f7"
            ],
            [
             0.6,
             "#e6f5d0"
            ],
            [
             0.7,
             "#b8e186"
            ],
            [
             0.8,
             "#7fbc41"
            ],
            [
             0.9,
             "#4d9221"
            ],
            [
             1,
             "#276419"
            ]
           ],
           "sequential": [
            [
             0,
             "#0d0887"
            ],
            [
             0.1111111111111111,
             "#46039f"
            ],
            [
             0.2222222222222222,
             "#7201a8"
            ],
            [
             0.3333333333333333,
             "#9c179e"
            ],
            [
             0.4444444444444444,
             "#bd3786"
            ],
            [
             0.5555555555555556,
             "#d8576b"
            ],
            [
             0.6666666666666666,
             "#ed7953"
            ],
            [
             0.7777777777777778,
             "#fb9f3a"
            ],
            [
             0.8888888888888888,
             "#fdca26"
            ],
            [
             1,
             "#f0f921"
            ]
           ],
           "sequentialminus": [
            [
             0,
             "#0d0887"
            ],
            [
             0.1111111111111111,
             "#46039f"
            ],
            [
             0.2222222222222222,
             "#7201a8"
            ],
            [
             0.3333333333333333,
             "#9c179e"
            ],
            [
             0.4444444444444444,
             "#bd3786"
            ],
            [
             0.5555555555555556,
             "#d8576b"
            ],
            [
             0.6666666666666666,
             "#ed7953"
            ],
            [
             0.7777777777777778,
             "#fb9f3a"
            ],
            [
             0.8888888888888888,
             "#fdca26"
            ],
            [
             1,
             "#f0f921"
            ]
           ]
          },
          "colorway": [
           "#636efa",
           "#EF553B",
           "#00cc96",
           "#ab63fa",
           "#FFA15A",
           "#19d3f3",
           "#FF6692",
           "#B6E880",
           "#FF97FF",
           "#FECB52"
          ],
          "font": {
           "color": "#2a3f5f"
          },
          "geo": {
           "bgcolor": "white",
           "lakecolor": "white",
           "landcolor": "white",
           "showlakes": true,
           "showland": true,
           "subunitcolor": "#C8D4E3"
          },
          "hoverlabel": {
           "align": "left"
          },
          "hovermode": "closest",
          "mapbox": {
           "style": "light"
          },
          "paper_bgcolor": "white",
          "plot_bgcolor": "white",
          "polar": {
           "angularaxis": {
            "gridcolor": "#EBF0F8",
            "linecolor": "#EBF0F8",
            "ticks": ""
           },
           "bgcolor": "white",
           "radialaxis": {
            "gridcolor": "#EBF0F8",
            "linecolor": "#EBF0F8",
            "ticks": ""
           }
          },
          "scene": {
           "xaxis": {
            "backgroundcolor": "white",
            "gridcolor": "#DFE8F3",
            "gridwidth": 2,
            "linecolor": "#EBF0F8",
            "showbackground": true,
            "ticks": "",
            "zerolinecolor": "#EBF0F8"
           },
           "yaxis": {
            "backgroundcolor": "white",
            "gridcolor": "#DFE8F3",
            "gridwidth": 2,
            "linecolor": "#EBF0F8",
            "showbackground": true,
            "ticks": "",
            "zerolinecolor": "#EBF0F8"
           },
           "zaxis": {
            "backgroundcolor": "white",
            "gridcolor": "#DFE8F3",
            "gridwidth": 2,
            "linecolor": "#EBF0F8",
            "showbackground": true,
            "ticks": "",
            "zerolinecolor": "#EBF0F8"
           }
          },
          "shapedefaults": {
           "line": {
            "color": "#2a3f5f"
           }
          },
          "ternary": {
           "aaxis": {
            "gridcolor": "#DFE8F3",
            "linecolor": "#A2B1C6",
            "ticks": ""
           },
           "baxis": {
            "gridcolor": "#DFE8F3",
            "linecolor": "#A2B1C6",
            "ticks": ""
           },
           "bgcolor": "white",
           "caxis": {
            "gridcolor": "#DFE8F3",
            "linecolor": "#A2B1C6",
            "ticks": ""
           }
          },
          "title": {
           "x": 0.05
          },
          "xaxis": {
           "automargin": true,
           "gridcolor": "#EBF0F8",
           "linecolor": "#EBF0F8",
           "ticks": "",
           "title": {
            "standoff": 15
           },
           "zerolinecolor": "#EBF0F8",
           "zerolinewidth": 2
          },
          "yaxis": {
           "automargin": true,
           "gridcolor": "#EBF0F8",
           "linecolor": "#EBF0F8",
           "ticks": "",
           "title": {
            "standoff": 15
           },
           "zerolinecolor": "#EBF0F8",
           "zerolinewidth": 2
          }
         }
        },
        "title": {
         "text": "Set-Piece Effectiveness Analysis",
         "x": 0.5
        },
        "xaxis": {
         "title": {
          "text": "Event Type"
         }
        },
        "yaxis": {
         "title": {
          "text": "Number of Events"
         }
        }
       }
      }
     },
     "metadata": {},
     "output_type": "display_data"
    },
    {
     "name": "stdout",
     "output_type": "stream",
     "text": [
      "\n",
      "--- Identifying Dangerous Players by Set-Piece Type ---\n",
      "🎯 CORNER TARGETS (Top 5):\n",
      "  1. K. Boateng: 20 receptions\n",
      "  2. C. Cîrjan: 13 receptions\n",
      "  3. J. Homawoo: 11 receptions\n",
      "  4. P. Olsen: 9 receptions\n",
      "  5. G. Milanov: 7 receptions\n",
      "\n",
      "🎯 ATTACKING FREE-KICK TARGETS (Top 5):\n",
      "  1. K. Boateng: 7 receptions\n",
      "  2. C. Cîrjan: 4 receptions\n",
      "  3. A. Marginean: 4 receptions\n",
      "  4. A. Selmani: 4 receptions\n",
      "  5. E. Gnahoré: 4 receptions\n",
      "\n",
      "🎯 OTHER FREE-KICK TARGETS (Top 5):\n",
      "  1. C. Cîrjan: 38 receptions\n",
      "  2. E. Gnahoré: 33 receptions\n",
      "  3. J. Homawoo: 32 receptions\n",
      "  4. K. Boateng: 21 receptions\n",
      "  5. P. Olsen: 16 receptions\n"
     ]
    },
    {
     "data": {
      "application/vnd.plotly.v1+json": {
       "config": {
        "plotlyServerURL": "https://plot.ly"
       },
       "data": [
        {
         "marker": {
          "color": "gold",
          "line": {
           "color": "orange",
           "width": 1
          }
         },
         "name": "Corner Targets",
         "text": {
          "bdata": "AAAAAAAANEAAAAAAAAAqQAAAAAAAACZAAAAAAAAAIkAAAAAAAAAcQAAAAAAAABxAAAAAAAAAHEAAAAAAAAAYQA==",
          "dtype": "f8"
         },
         "textfont": {
          "size": 10
         },
         "textposition": "auto",
         "type": "bar",
         "x": [
          "K. Boateng",
          "C. Cîrjan",
          "J. Homawoo",
          "P. Olsen",
          "G. Milanov",
          "D. Politic",
          "A. Selmani",
          "S. Perica"
         ],
         "xaxis": "x",
         "y": {
          "bdata": "FA0LCQcHBwY=",
          "dtype": "i1"
         },
         "yaxis": "y"
        },
        {
         "marker": {
          "color": "red",
          "line": {
           "color": "darkred",
           "width": 1
          }
         },
         "name": "Attacking Free-Kick Targets",
         "text": {
          "bdata": "AAAAAAAAHEAAAAAAAAAQQAAAAAAAABBAAAAAAAAAEEAAAAAAAAAQQAAAAAAAAAhAAAAAAAAACEAAAAAAAAAAQA==",
          "dtype": "f8"
         },
         "textfont": {
          "size": 10
         },
         "textposition": "auto",
         "type": "bar",
         "x": [
          "K. Boateng",
          "C. Cîrjan",
          "A. Marginean",
          "A. Selmani",
          "E. Gnahoré",
          "J. Homawoo",
          "H. Abdallah",
          "R. Opruț"
         ],
         "xaxis": "x2",
         "y": {
          "bdata": "BwQEBAQDAwI=",
          "dtype": "i1"
         },
         "yaxis": "y2"
        },
        {
         "marker": {
          "color": "blue",
          "line": {
           "color": "darkblue",
           "width": 1
          }
         },
         "name": "Other Free-Kick Targets",
         "text": {
          "bdata": "AAAAAAAAQ0AAAAAAAIBAQAAAAAAAAEBAAAAAAAAANUAAAAAAAAAwQAAAAAAAADBAAAAAAAAALkAAAAAAAAAsQA==",
          "dtype": "f8"
         },
         "textfont": {
          "size": 10
         },
         "textposition": "auto",
         "type": "bar",
         "x": [
          "C. Cîrjan",
          "E. Gnahoré",
          "J. Homawoo",
          "K. Boateng",
          "P. Olsen",
          "G. Milanov",
          "A. Selmani",
          "S. Perica"
         ],
         "xaxis": "x3",
         "y": {
          "bdata": "JiEgFRAQDw4=",
          "dtype": "i1"
         },
         "yaxis": "y3"
        }
       ],
       "layout": {
        "annotations": [
         {
          "font": {
           "size": 16
          },
          "showarrow": false,
          "text": "Top Corner Targets",
          "x": 0.14444444444444446,
          "xanchor": "center",
          "xref": "paper",
          "y": 1,
          "yanchor": "bottom",
          "yref": "paper"
         },
         {
          "font": {
           "size": 16
          },
          "showarrow": false,
          "text": "Top Attacking Free-Kick Targets",
          "x": 0.5,
          "xanchor": "center",
          "xref": "paper",
          "y": 1,
          "yanchor": "bottom",
          "yref": "paper"
         },
         {
          "font": {
           "size": 16
          },
          "showarrow": false,
          "text": "Top Other Free-Kick Targets",
          "x": 0.8555555555555556,
          "xanchor": "center",
          "xref": "paper",
          "y": 1,
          "yanchor": "bottom",
          "yref": "paper"
         }
        ],
        "height": 500,
        "showlegend": false,
        "template": {
         "data": {
          "bar": [
           {
            "error_x": {
             "color": "#2a3f5f"
            },
            "error_y": {
             "color": "#2a3f5f"
            },
            "marker": {
             "line": {
              "color": "white",
              "width": 0.5
             },
             "pattern": {
              "fillmode": "overlay",
              "size": 10,
              "solidity": 0.2
             }
            },
            "type": "bar"
           }
          ],
          "barpolar": [
           {
            "marker": {
             "line": {
              "color": "white",
              "width": 0.5
             },
             "pattern": {
              "fillmode": "overlay",
              "size": 10,
              "solidity": 0.2
             }
            },
            "type": "barpolar"
           }
          ],
          "carpet": [
           {
            "aaxis": {
             "endlinecolor": "#2a3f5f",
             "gridcolor": "#C8D4E3",
             "linecolor": "#C8D4E3",
             "minorgridcolor": "#C8D4E3",
             "startlinecolor": "#2a3f5f"
            },
            "baxis": {
             "endlinecolor": "#2a3f5f",
             "gridcolor": "#C8D4E3",
             "linecolor": "#C8D4E3",
             "minorgridcolor": "#C8D4E3",
             "startlinecolor": "#2a3f5f"
            },
            "type": "carpet"
           }
          ],
          "choropleth": [
           {
            "colorbar": {
             "outlinewidth": 0,
             "ticks": ""
            },
            "type": "choropleth"
           }
          ],
          "contour": [
           {
            "colorbar": {
             "outlinewidth": 0,
             "ticks": ""
            },
            "colorscale": [
             [
              0,
              "#0d0887"
             ],
             [
              0.1111111111111111,
              "#46039f"
             ],
             [
              0.2222222222222222,
              "#7201a8"
             ],
             [
              0.3333333333333333,
              "#9c179e"
             ],
             [
              0.4444444444444444,
              "#bd3786"
             ],
             [
              0.5555555555555556,
              "#d8576b"
             ],
             [
              0.6666666666666666,
              "#ed7953"
             ],
             [
              0.7777777777777778,
              "#fb9f3a"
             ],
             [
              0.8888888888888888,
              "#fdca26"
             ],
             [
              1,
              "#f0f921"
             ]
            ],
            "type": "contour"
           }
          ],
          "contourcarpet": [
           {
            "colorbar": {
             "outlinewidth": 0,
             "ticks": ""
            },
            "type": "contourcarpet"
           }
          ],
          "heatmap": [
           {
            "colorbar": {
             "outlinewidth": 0,
             "ticks": ""
            },
            "colorscale": [
             [
              0,
              "#0d0887"
             ],
             [
              0.1111111111111111,
              "#46039f"
             ],
             [
              0.2222222222222222,
              "#7201a8"
             ],
             [
              0.3333333333333333,
              "#9c179e"
             ],
             [
              0.4444444444444444,
              "#bd3786"
             ],
             [
              0.5555555555555556,
              "#d8576b"
             ],
             [
              0.6666666666666666,
              "#ed7953"
             ],
             [
              0.7777777777777778,
              "#fb9f3a"
             ],
             [
              0.8888888888888888,
              "#fdca26"
             ],
             [
              1,
              "#f0f921"
             ]
            ],
            "type": "heatmap"
           }
          ],
          "histogram": [
           {
            "marker": {
             "pattern": {
              "fillmode": "overlay",
              "size": 10,
              "solidity": 0.2
             }
            },
            "type": "histogram"
           }
          ],
          "histogram2d": [
           {
            "colorbar": {
             "outlinewidth": 0,
             "ticks": ""
            },
            "colorscale": [
             [
              0,
              "#0d0887"
             ],
             [
              0.1111111111111111,
              "#46039f"
             ],
             [
              0.2222222222222222,
              "#7201a8"
             ],
             [
              0.3333333333333333,
              "#9c179e"
             ],
             [
              0.4444444444444444,
              "#bd3786"
             ],
             [
              0.5555555555555556,
              "#d8576b"
             ],
             [
              0.6666666666666666,
              "#ed7953"
             ],
             [
              0.7777777777777778,
              "#fb9f3a"
             ],
             [
              0.8888888888888888,
              "#fdca26"
             ],
             [
              1,
              "#f0f921"
             ]
            ],
            "type": "histogram2d"
           }
          ],
          "histogram2dcontour": [
           {
            "colorbar": {
             "outlinewidth": 0,
             "ticks": ""
            },
            "colorscale": [
             [
              0,
              "#0d0887"
             ],
             [
              0.1111111111111111,
              "#46039f"
             ],
             [
              0.2222222222222222,
              "#7201a8"
             ],
             [
              0.3333333333333333,
              "#9c179e"
             ],
             [
              0.4444444444444444,
              "#bd3786"
             ],
             [
              0.5555555555555556,
              "#d8576b"
             ],
             [
              0.6666666666666666,
              "#ed7953"
             ],
             [
              0.7777777777777778,
              "#fb9f3a"
             ],
             [
              0.8888888888888888,
              "#fdca26"
             ],
             [
              1,
              "#f0f921"
             ]
            ],
            "type": "histogram2dcontour"
           }
          ],
          "mesh3d": [
           {
            "colorbar": {
             "outlinewidth": 0,
             "ticks": ""
            },
            "type": "mesh3d"
           }
          ],
          "parcoords": [
           {
            "line": {
             "colorbar": {
              "outlinewidth": 0,
              "ticks": ""
             }
            },
            "type": "parcoords"
           }
          ],
          "pie": [
           {
            "automargin": true,
            "type": "pie"
           }
          ],
          "scatter": [
           {
            "fillpattern": {
             "fillmode": "overlay",
             "size": 10,
             "solidity": 0.2
            },
            "type": "scatter"
           }
          ],
          "scatter3d": [
           {
            "line": {
             "colorbar": {
              "outlinewidth": 0,
              "ticks": ""
             }
            },
            "marker": {
             "colorbar": {
              "outlinewidth": 0,
              "ticks": ""
             }
            },
            "type": "scatter3d"
           }
          ],
          "scattercarpet": [
           {
            "marker": {
             "colorbar": {
              "outlinewidth": 0,
              "ticks": ""
             }
            },
            "type": "scattercarpet"
           }
          ],
          "scattergeo": [
           {
            "marker": {
             "colorbar": {
              "outlinewidth": 0,
              "ticks": ""
             }
            },
            "type": "scattergeo"
           }
          ],
          "scattergl": [
           {
            "marker": {
             "colorbar": {
              "outlinewidth": 0,
              "ticks": ""
             }
            },
            "type": "scattergl"
           }
          ],
          "scattermap": [
           {
            "marker": {
             "colorbar": {
              "outlinewidth": 0,
              "ticks": ""
             }
            },
            "type": "scattermap"
           }
          ],
          "scattermapbox": [
           {
            "marker": {
             "colorbar": {
              "outlinewidth": 0,
              "ticks": ""
             }
            },
            "type": "scattermapbox"
           }
          ],
          "scatterpolar": [
           {
            "marker": {
             "colorbar": {
              "outlinewidth": 0,
              "ticks": ""
             }
            },
            "type": "scatterpolar"
           }
          ],
          "scatterpolargl": [
           {
            "marker": {
             "colorbar": {
              "outlinewidth": 0,
              "ticks": ""
             }
            },
            "type": "scatterpolargl"
           }
          ],
          "scatterternary": [
           {
            "marker": {
             "colorbar": {
              "outlinewidth": 0,
              "ticks": ""
             }
            },
            "type": "scatterternary"
           }
          ],
          "surface": [
           {
            "colorbar": {
             "outlinewidth": 0,
             "ticks": ""
            },
            "colorscale": [
             [
              0,
              "#0d0887"
             ],
             [
              0.1111111111111111,
              "#46039f"
             ],
             [
              0.2222222222222222,
              "#7201a8"
             ],
             [
              0.3333333333333333,
              "#9c179e"
             ],
             [
              0.4444444444444444,
              "#bd3786"
             ],
             [
              0.5555555555555556,
              "#d8576b"
             ],
             [
              0.6666666666666666,
              "#ed7953"
             ],
             [
              0.7777777777777778,
              "#fb9f3a"
             ],
             [
              0.8888888888888888,
              "#fdca26"
             ],
             [
              1,
              "#f0f921"
             ]
            ],
            "type": "surface"
           }
          ],
          "table": [
           {
            "cells": {
             "fill": {
              "color": "#EBF0F8"
             },
             "line": {
              "color": "white"
             }
            },
            "header": {
             "fill": {
              "color": "#C8D4E3"
             },
             "line": {
              "color": "white"
             }
            },
            "type": "table"
           }
          ]
         },
         "layout": {
          "annotationdefaults": {
           "arrowcolor": "#2a3f5f",
           "arrowhead": 0,
           "arrowwidth": 1
          },
          "autotypenumbers": "strict",
          "coloraxis": {
           "colorbar": {
            "outlinewidth": 0,
            "ticks": ""
           }
          },
          "colorscale": {
           "diverging": [
            [
             0,
             "#8e0152"
            ],
            [
             0.1,
             "#c51b7d"
            ],
            [
             0.2,
             "#de77ae"
            ],
            [
             0.3,
             "#f1b6da"
            ],
            [
             0.4,
             "#fde0ef"
            ],
            [
             0.5,
             "#f7f7f7"
            ],
            [
             0.6,
             "#e6f5d0"
            ],
            [
             0.7,
             "#b8e186"
            ],
            [
             0.8,
             "#7fbc41"
            ],
            [
             0.9,
             "#4d9221"
            ],
            [
             1,
             "#276419"
            ]
           ],
           "sequential": [
            [
             0,
             "#0d0887"
            ],
            [
             0.1111111111111111,
             "#46039f"
            ],
            [
             0.2222222222222222,
             "#7201a8"
            ],
            [
             0.3333333333333333,
             "#9c179e"
            ],
            [
             0.4444444444444444,
             "#bd3786"
            ],
            [
             0.5555555555555556,
             "#d8576b"
            ],
            [
             0.6666666666666666,
             "#ed7953"
            ],
            [
             0.7777777777777778,
             "#fb9f3a"
            ],
            [
             0.8888888888888888,
             "#fdca26"
            ],
            [
             1,
             "#f0f921"
            ]
           ],
           "sequentialminus": [
            [
             0,
             "#0d0887"
            ],
            [
             0.1111111111111111,
             "#46039f"
            ],
            [
             0.2222222222222222,
             "#7201a8"
            ],
            [
             0.3333333333333333,
             "#9c179e"
            ],
            [
             0.4444444444444444,
             "#bd3786"
            ],
            [
             0.5555555555555556,
             "#d8576b"
            ],
            [
             0.6666666666666666,
             "#ed7953"
            ],
            [
             0.7777777777777778,
             "#fb9f3a"
            ],
            [
             0.8888888888888888,
             "#fdca26"
            ],
            [
             1,
             "#f0f921"
            ]
           ]
          },
          "colorway": [
           "#636efa",
           "#EF553B",
           "#00cc96",
           "#ab63fa",
           "#FFA15A",
           "#19d3f3",
           "#FF6692",
           "#B6E880",
           "#FF97FF",
           "#FECB52"
          ],
          "font": {
           "color": "#2a3f5f"
          },
          "geo": {
           "bgcolor": "white",
           "lakecolor": "white",
           "landcolor": "white",
           "showlakes": true,
           "showland": true,
           "subunitcolor": "#C8D4E3"
          },
          "hoverlabel": {
           "align": "left"
          },
          "hovermode": "closest",
          "mapbox": {
           "style": "light"
          },
          "paper_bgcolor": "white",
          "plot_bgcolor": "white",
          "polar": {
           "angularaxis": {
            "gridcolor": "#EBF0F8",
            "linecolor": "#EBF0F8",
            "ticks": ""
           },
           "bgcolor": "white",
           "radialaxis": {
            "gridcolor": "#EBF0F8",
            "linecolor": "#EBF0F8",
            "ticks": ""
           }
          },
          "scene": {
           "xaxis": {
            "backgroundcolor": "white",
            "gridcolor": "#DFE8F3",
            "gridwidth": 2,
            "linecolor": "#EBF0F8",
            "showbackground": true,
            "ticks": "",
            "zerolinecolor": "#EBF0F8"
           },
           "yaxis": {
            "backgroundcolor": "white",
            "gridcolor": "#DFE8F3",
            "gridwidth": 2,
            "linecolor": "#EBF0F8",
            "showbackground": true,
            "ticks": "",
            "zerolinecolor": "#EBF0F8"
           },
           "zaxis": {
            "backgroundcolor": "white",
            "gridcolor": "#DFE8F3",
            "gridwidth": 2,
            "linecolor": "#EBF0F8",
            "showbackground": true,
            "ticks": "",
            "zerolinecolor": "#EBF0F8"
           }
          },
          "shapedefaults": {
           "line": {
            "color": "#2a3f5f"
           }
          },
          "ternary": {
           "aaxis": {
            "gridcolor": "#DFE8F3",
            "linecolor": "#A2B1C6",
            "ticks": ""
           },
           "baxis": {
            "gridcolor": "#DFE8F3",
            "linecolor": "#A2B1C6",
            "ticks": ""
           },
           "bgcolor": "white",
           "caxis": {
            "gridcolor": "#DFE8F3",
            "linecolor": "#A2B1C6",
            "ticks": ""
           }
          },
          "title": {
           "x": 0.05
          },
          "xaxis": {
           "automargin": true,
           "gridcolor": "#EBF0F8",
           "linecolor": "#EBF0F8",
           "ticks": "",
           "title": {
            "standoff": 15
           },
           "zerolinecolor": "#EBF0F8",
           "zerolinewidth": 2
          },
          "yaxis": {
           "automargin": true,
           "gridcolor": "#EBF0F8",
           "linecolor": "#EBF0F8",
           "ticks": "",
           "title": {
            "standoff": 15
           },
           "zerolinecolor": "#EBF0F8",
           "zerolinewidth": 2
          }
         }
        },
        "title": {
         "text": "Set-Piece Targets by Type",
         "x": 0.5
        },
        "xaxis": {
         "anchor": "y",
         "domain": [
          0,
          0.2888888888888889
         ],
         "tickangle": 45
        },
        "xaxis2": {
         "anchor": "y2",
         "domain": [
          0.35555555555555557,
          0.6444444444444445
         ],
         "tickangle": 45
        },
        "xaxis3": {
         "anchor": "y3",
         "domain": [
          0.7111111111111111,
          1
         ],
         "tickangle": 45
        },
        "yaxis": {
         "anchor": "x",
         "domain": [
          0,
          1
         ]
        },
        "yaxis2": {
         "anchor": "x2",
         "domain": [
          0,
          1
         ]
        },
        "yaxis3": {
         "anchor": "x3",
         "domain": [
          0,
          1
         ]
        }
       }
      }
     },
     "metadata": {},
     "output_type": "display_data"
    },
    {
     "name": "stdout",
     "output_type": "stream",
     "text": [
      "\n",
      "============================================================\n",
      "\n",
      "=== STEP 3: DEFENSIVE SET-PIECE ANALYSIS ===\n",
      "✓ Dinamo defensive set-pieces analyzed: 535\n",
      "\n",
      "--- Analyzing Defensive Vulnerabilities ---\n"
     ]
    },
    {
     "data": {
      "application/vnd.plotly.v1+json": {
       "config": {
        "plotlyServerURL": "https://plot.ly"
       },
       "data": [
        {
         "hoverinfo": "none",
         "marker": {
          "color": "white",
          "size": 8
         },
         "mode": "markers",
         "type": "scatter",
         "x": [
          50
         ],
         "y": [
          50
         ]
        },
        {
         "hoverinfo": "none",
         "marker": {
          "color": "white",
          "size": 8
         },
         "mode": "markers",
         "type": "scatter",
         "x": [
          11,
          89
         ],
         "y": [
          50,
          50
         ]
        },
        {
         "hoverinfo": "none",
         "line": {
          "color": "white",
          "width": 4
         },
         "mode": "lines",
         "type": "scatter",
         "x": [
          -1,
          -1
         ],
         "y": [
          45.2,
          54.8
         ]
        },
        {
         "hoverinfo": "none",
         "line": {
          "color": "white",
          "width": 4
         },
         "mode": "lines",
         "type": "scatter",
         "x": [
          101,
          101
         ],
         "y": [
          45.2,
          54.8
         ]
        },
        {
         "colorscale": [
          [
           0,
           "rgb(255,245,240)"
          ],
          [
           0.125,
           "rgb(254,224,210)"
          ],
          [
           0.25,
           "rgb(252,187,161)"
          ],
          [
           0.375,
           "rgb(252,146,114)"
          ],
          [
           0.5,
           "rgb(251,106,74)"
          ],
          [
           0.625,
           "rgb(239,59,44)"
          ],
          [
           0.75,
           "rgb(203,24,29)"
          ],
          [
           0.875,
           "rgb(165,15,21)"
          ],
          [
           1,
           "rgb(103,0,13)"
          ]
         ],
         "name": "Shot Hotspots",
         "opacity": 0.5,
         "showscale": false,
         "type": "histogram2d",
         "x": {
          "bdata": "AAAAAABAVkAAAAAAAABXQAAAAAAAgFdAAAAAAAAAVkAAAAAAAMBVQAAAAAAAAFRAAAAAAAAAWEAAAAAAAIBTQAAAAAAAgFJAAAAAAACAVUAAAAAAAEBXQAAAAAAAQFdAAAAAAACAVkAAAAAAAIBXQAAAAAAAAFhAAAAAAABAWEAAAAAAAIBYQAAAAAAAAFdAAAAAAABAVkAAAAAAAIBVQAAAAAAAAFRAAAAAAAAAV0AAAAAAAABXQAAAAAAAQFNAAAAAAAAAU0AAAAAAAABUQAAAAAAAgFVAAAAAAACAVkAAAAAAAEBWQAAAAAAAgFNAAAAAAABAWEAAAAAAAIBTQAAAAAAAwFZAAAAAAABAUkAAAAAAAABXQAAAAAAAgFdAAAAAAABAU0AAAAAAAMBYQAAAAAAAQFdAAAAAAAAAU0AAAAAAAMBSQAAAAAAAwFZAAAAAAADAV0AAAAAAAEBUQAAAAAAAAFdAAAAAAAAAU0AAAAAAAEBVQAAAAAAAAFRAAAAAAAAAU0AAAAAAAIBWQAAAAAAAQFdAAAAAAAAAVEAAAAAAAMBVQAAAAAAAgFZAAAAAAADAVkAAAAAAAMBTQAAAAAAAgFZAAAAAAADAVkAAAAAAAEBWQAAAAAAAwFJAAAAAAACAUUAAAAAAAEBXQAAAAAAAgFhAAAAAAABAVUAAAAAAAEBTQAAAAAAAQFZAAAAAAACAVkAAAAAAAEBRQAAAAAAAQFNAAAAAAACAU0AAAAAAAABUQAAAAAAAQFZAAAAAAADAVUAAAAAAAIBRQAAAAAAAAFdAAAAAAAAAVEAAAAAAAEBVQAAAAAAAgFhAAAAAAADAV0AAAAAAAMBUQAAAAAAAwFZAAAAAAACAUkAAAAAAAMBXQAAAAAAAgFZAAAAAAACAUkAAAAAAAIBRQAAAAAAAwFFAAAAAAABAVkAAAAAAAEBYQAAAAAAAQFdA",
          "dtype": "f8"
         },
         "y": {
          "bdata": "AAAAAACAQkAAAAAAAABHQAAAAAAAAEZAAAAAAAAAPkAAAAAAAABQQAAAAAAAAE9AAAAAAACASUAAAAAAAABPQAAAAAAAAEpAAAAAAACATUAAAAAAAABGQAAAAAAAAEpAAAAAAACAR0AAAAAAAIBJQAAAAAAAAEhAAAAAAAAASUAAAAAAAIBJQAAAAAAAAEpAAAAAAACASkAAAAAAAAA6QAAAAAAAADlAAAAAAAAATUAAAAAAAIBMQAAAAAAAgEBAAAAAAACASkAAAAAAAIBAQAAAAAAAAEVAAAAAAACARkAAAAAAAIBMQAAAAAAAAEtAAAAAAACAS0AAAAAAAIBQQAAAAAAAAEFAAAAAAACAUEAAAAAAAIBJQAAAAAAAAElAAAAAAACASUAAAAAAAABNQAAAAAAAgEtAAAAAAAAAQEAAAAAAAIBEQAAAAAAAgEZAAAAAAACASkAAAAAAAIBEQAAAAAAAAEdAAAAAAAAAR0AAAAAAAABLQAAAAAAAQFJAAAAAAABAUkAAAAAAAABMQAAAAAAAAElAAAAAAAAALkAAAAAAAABOQAAAAAAAgEVAAAAAAAAASUAAAAAAAAA/QAAAAAAAgEFAAAAAAACASUAAAAAAAIBEQAAAAAAAgEhAAAAAAACAQUAAAAAAAIBJQAAAAAAAgEhAAAAAAACAREAAAAAAAABGQAAAAAAAAEdAAAAAAAAAS0AAAAAAAIBJQAAAAAAAADlAAAAAAAAARkAAAAAAAABJQAAAAAAAwFBAAAAAAAAAS0AAAAAAAABGQAAAAAAAQFBAAAAAAAAAQkAAAAAAAAA9QAAAAAAAgEtAAAAAAACAREAAAAAAAABIQAAAAAAAgExAAAAAAAAAREAAAAAAAIBJQAAAAAAAgEBAAAAAAACAQkAAAAAAAIBKQAAAAAAAAExAAAAAAAAAQ0AAAAAAAIBCQAAAAAAAgEtA",
          "dtype": "f8"
         }
        },
        {
         "hoverinfo": "text",
         "marker": {
          "color": "orange",
          "line": {
           "color": "white",
           "width": 1
          },
          "opacity": 0.8,
          "size": {
           "bdata": "TDeJQWAlIkAAAAAAACA3QLgehetRuCVAqMZLN4lBHEC28/3UeOkYQOhqK/aX/RVAZ9XnaitWFUCgGi/dJEYXQPCnxks3iRpAjGzn+6nxI0CPwvUoXA8tQOxRuB6FKy9AZ2ZmZmYmK0AzMzMzM9M8QOF6FK5HYTVAzczMzMxMJUCNl24SgwAhQHNoke18vxZAUiegibAhFEDsUbgehWshQJDC9ShczzBA6iYxCKwcG0AzxLEubqMUQPAWSFD8OBVAKVyPwvVoJEA+CtejcL0nQH0/NV66SSNAsHJoke28F0CBlUOLbGcdQI/C9ShczylATtGRXP5DFEApXI/C9WgtQHE9Ctej0DBAm+Ydp+hIFUBSuB6F65EjQAAAAAAAwC9A46WbxCCwFkBI4XoUrgcVQEjhehSu5yBAXI/C9ShcPEDwp8ZLNwkZQB6F61G43ihAH4XrUbjeGEDkpZvEIPAfQKRwPQrX4xRAorQ3+MLkFUBcj8L1KBwZQHa+nxovfSJAHcnlP6S/FEDsUbgehWsmQLgehetR+DFAx0s3iUHAIkD3deCcESUVQPYoXI/CdSdA4XoUrkdhJUAAAAAAAEAsQN0kBoGVgxtAAAAAAADAGEA9CtejcH05QB+F61G4fjpACtejcD1KGEAQWDm0yDYcQOxRuB6FKyRACYofY+7aFEBYqDXNO04UQOf7qfHSrRVAhetRuB4FFkCWQ4ts5/seQM/3U+OlGxpAukkMAivnFEDYo3A9CpcmQOxRuB6Fax9AUrgehetRKUD2KFyPwrUmQD0K16NwPS5APzVeuklsIEDsUbgehesYQMDKoUW28xVARIts5/spHED4U+OlmwQWQGZmZmZm5ihAFa5H4XrULUA=",
           "dtype": "f8"
          },
          "sizemode": "diameter"
         },
         "mode": "markers",
         "name": "Shots Conceded",
         "text": [
          "xG: 0.08",
          "xG: 0.36",
          "xG: 0.12",
          "xG: 0.04",
          "xG: 0.02",
          "xG: 0.01",
          "xG: 0.01",
          "xG: 0.02",
          "xG: 0.03",
          "xG: 0.10",
          "xG: 0.19",
          "xG: 0.21",
          "xG: 0.17",
          "xG: 0.48",
          "xG: 0.33",
          "xG: 0.11",
          "xG: 0.07",
          "xG: 0.01",
          "xG: 0.00",
          "xG: 0.07",
          "xG: 0.24",
          "xG: 0.04",
          "xG: 0.00",
          "xG: 0.01",
          "xG: 0.10",
          "xG: 0.14",
          "xG: 0.09",
          "xG: 0.02",
          "xG: 0.05",
          "xG: 0.16",
          "xG: 0.00",
          "xG: 0.19",
          "xG: 0.24",
          "xG: 0.01",
          "xG: 0.10",
          "xG: 0.22",
          "xG: 0.01",
          "xG: 0.01",
          "xG: 0.07",
          "xG: 0.47",
          "xG: 0.03",
          "xG: 0.15",
          "xG: 0.02",
          "xG: 0.06",
          "xG: 0.00",
          "xG: 0.01",
          "xG: 0.03",
          "xG: 0.08",
          "xG: 0.00",
          "xG: 0.12",
          "xG: 0.26",
          "xG: 0.09",
          "xG: 0.01",
          "xG: 0.13",
          "xG: 0.11",
          "xG: 0.18",
          "xG: 0.04",
          "xG: 0.02",
          "xG: 0.41",
          "xG: 0.43",
          "xG: 0.02",
          "xG: 0.04",
          "xG: 0.10",
          "xG: 0.00",
          "xG: 0.00",
          "xG: 0.01",
          "xG: 0.01",
          "xG: 0.05",
          "xG: 0.03",
          "xG: 0.00",
          "xG: 0.13",
          "xG: 0.06",
          "xG: 0.15",
          "xG: 0.13",
          "xG: 0.20",
          "xG: 0.06",
          "xG: 0.02",
          "xG: 0.01",
          "xG: 0.04",
          "xG: 0.01",
          "xG: 0.15",
          "xG: 0.20"
         ],
         "type": "scatter",
         "x": {
          "bdata": "AAAAAABAVkAAAAAAAABXQAAAAAAAgFdAAAAAAAAAVkAAAAAAAMBVQAAAAAAAAFRAAAAAAACAU0AAAAAAAIBSQAAAAAAAgFVAAAAAAABAV0AAAAAAAEBXQAAAAAAAgFZAAAAAAACAV0AAAAAAAABYQAAAAAAAQFhAAAAAAAAAV0AAAAAAAEBWQAAAAAAAgFVAAAAAAAAAVEAAAAAAAABXQAAAAAAAAFdAAAAAAABAU0AAAAAAAABTQAAAAAAAAFRAAAAAAACAVUAAAAAAAIBWQAAAAAAAQFZAAAAAAACAU0AAAAAAAIBTQAAAAAAAwFZAAAAAAABAUkAAAAAAAABXQAAAAAAAgFdAAAAAAABAU0AAAAAAAMBYQAAAAAAAQFdAAAAAAAAAU0AAAAAAAMBSQAAAAAAAwFZAAAAAAADAV0AAAAAAAEBUQAAAAAAAAFdAAAAAAAAAU0AAAAAAAEBVQAAAAAAAAFRAAAAAAAAAU0AAAAAAAIBWQAAAAAAAQFdAAAAAAAAAVEAAAAAAAMBVQAAAAAAAgFZAAAAAAADAVkAAAAAAAMBTQAAAAAAAgFZAAAAAAADAVkAAAAAAAEBWQAAAAAAAwFJAAAAAAACAUUAAAAAAAEBXQAAAAAAAgFhAAAAAAABAVUAAAAAAAEBTQAAAAAAAgFZAAAAAAABAUUAAAAAAAEBTQAAAAAAAgFNAAAAAAAAAVEAAAAAAAEBWQAAAAAAAwFVAAAAAAACAUUAAAAAAAABXQAAAAAAAAFRAAAAAAADAV0AAAAAAAMBUQAAAAAAAwFZAAAAAAACAVkAAAAAAAIBSQAAAAAAAgFFAAAAAAADAUUAAAAAAAEBWQAAAAAAAQFhAAAAAAABAV0A=",
          "dtype": "f8"
         },
         "y": {
          "bdata": "AAAAAACAQkAAAAAAAABHQAAAAAAAAEZAAAAAAAAAPkAAAAAAAABQQAAAAAAAAE9AAAAAAAAAT0AAAAAAAABKQAAAAAAAgE1AAAAAAAAARkAAAAAAAABKQAAAAAAAgEdAAAAAAACASUAAAAAAAABIQAAAAAAAAElAAAAAAAAASkAAAAAAAIBKQAAAAAAAADpAAAAAAAAAOUAAAAAAAABNQAAAAAAAgExAAAAAAACAQEAAAAAAAIBKQAAAAAAAgEBAAAAAAAAARUAAAAAAAIBGQAAAAAAAgExAAAAAAAAAS0AAAAAAAIBQQAAAAAAAAEFAAAAAAACAUEAAAAAAAIBJQAAAAAAAAElAAAAAAACASUAAAAAAAABNQAAAAAAAgEtAAAAAAAAAQEAAAAAAAIBEQAAAAAAAgEZAAAAAAACASkAAAAAAAIBEQAAAAAAAAEdAAAAAAAAAR0AAAAAAAABLQAAAAAAAQFJAAAAAAABAUkAAAAAAAABMQAAAAAAAAElAAAAAAAAALkAAAAAAAABOQAAAAAAAgEVAAAAAAAAASUAAAAAAAAA/QAAAAAAAgEFAAAAAAACASUAAAAAAAIBEQAAAAAAAgEhAAAAAAACAQUAAAAAAAIBJQAAAAAAAgEhAAAAAAACAREAAAAAAAABGQAAAAAAAAEtAAAAAAACASUAAAAAAAAA5QAAAAAAAAEZAAAAAAAAASUAAAAAAAMBQQAAAAAAAAEtAAAAAAAAARkAAAAAAAEBQQAAAAAAAAEJAAAAAAACAREAAAAAAAABIQAAAAAAAgExAAAAAAACAQEAAAAAAAIBCQAAAAAAAgEpAAAAAAAAATEAAAAAAAABDQAAAAAAAgEJAAAAAAACAS0A=",
          "dtype": "f8"
         }
        },
        {
         "hoverinfo": "text",
         "marker": {
          "color": "red",
          "line": {
           "color": "white",
           "width": 2
          },
          "opacity": 1,
          "size": {
           "bdata": "PQrXo3AdN0BSuB6F6zE5QHsUrkfhej1ArkfhehTuOEBoke18P1UpQOxRuB6Fiz9ApHA9CtdjJ0BmZmZmZoY3QA==",
           "dtype": "f8"
          },
          "sizemode": "diameter",
          "symbol": "star"
         },
         "mode": "markers",
         "name": "Goals Conceded",
         "text": [
          "GOAL! (xG: 0.26)",
          "GOAL! (xG: 0.30)",
          "GOAL! (xG: 0.39)",
          "GOAL! (xG: 0.30)",
          "GOAL! (xG: 0.05)",
          "GOAL! (xG: 0.43)",
          "GOAL! (xG: 0.03)",
          "GOAL! (xG: 0.27)"
         ],
         "type": "scatter",
         "x": {
          "bdata": "AAAAAAAAWEAAAAAAAIBYQAAAAAAAQFhAAAAAAABAVkAAAAAAAEBVQAAAAAAAgFhAAAAAAACAUkAAAAAAAMBXQA==",
          "dtype": "f8"
         },
         "y": {
          "bdata": "AAAAAACASUAAAAAAAIBJQAAAAAAAgEtAAAAAAAAAR0AAAAAAAAA9QAAAAAAAgEtAAAAAAAAAREAAAAAAAIBJQA==",
          "dtype": "f8"
         }
        }
       ],
       "layout": {
        "height": 700,
        "legend": {
         "bgcolor": "rgba(0,0,0,0.5)",
         "font": {
          "color": "white"
         },
         "x": 0.01,
         "xanchor": "left",
         "y": 0.95,
         "yanchor": "top"
        },
        "margin": {
         "b": 20,
         "l": 20,
         "r": 20,
         "t": 50
        },
        "plot_bgcolor": "#2E7D32",
        "shapes": [
         {
          "line": {
           "color": "white",
           "width": 2
          },
          "type": "rect",
          "x0": 0,
          "x1": 100,
          "y0": 0,
          "y1": 100
         },
         {
          "line": {
           "color": "white",
           "width": 2
          },
          "type": "line",
          "x0": 50,
          "x1": 50,
          "y0": 0,
          "y1": 100
         },
         {
          "line": {
           "color": "white",
           "width": 2
          },
          "type": "rect",
          "x0": 0,
          "x1": 16.5,
          "y0": 21.1,
          "y1": 78.9
         },
         {
          "line": {
           "color": "white",
           "width": 2
          },
          "type": "rect",
          "x0": 83.5,
          "x1": 100,
          "y0": 21.1,
          "y1": 78.9
         },
         {
          "line": {
           "color": "white",
           "width": 2
          },
          "type": "rect",
          "x0": 0,
          "x1": 5.5,
          "y0": 36.8,
          "y1": 63.2
         },
         {
          "line": {
           "color": "white",
           "width": 2
          },
          "type": "rect",
          "x0": 94.5,
          "x1": 100,
          "y0": 36.8,
          "y1": 63.2
         },
         {
          "line": {
           "color": "white",
           "width": 2
          },
          "type": "circle",
          "x0": 40.85,
          "x1": 59.15,
          "y0": 40.85,
          "y1": 59.15
         },
         {
          "line": {
           "color": "white",
           "width": 2
          },
          "path": "M 16.5,38.7 C 23.5,43.7, 23.5,56.3, 16.5,61.3",
          "type": "path"
         },
         {
          "line": {
           "color": "white",
           "width": 2
          },
          "path": "M 83.5,38.7 C 76.5,43.7, 76.5,56.3, 83.5,61.3",
          "type": "path"
         },
         {
          "line": {
           "color": "white",
           "width": 2
          },
          "path": "M 0,1 A 1,1 0 0,1 1,0",
          "type": "path"
         },
         {
          "line": {
           "color": "white",
           "width": 2
          },
          "path": "M 0,99 A 1,1 0 0,0 1,100",
          "type": "path"
         },
         {
          "line": {
           "color": "white",
           "width": 2
          },
          "path": "M 100,1 A 1,1 0 0,0 99,0",
          "type": "path"
         },
         {
          "line": {
           "color": "white",
           "width": 2
          },
          "path": "M 100,99 A 1,1 0 0,1 99,100",
          "type": "path"
         },
         {
          "fillcolor": "#388E3C",
          "layer": "below",
          "line": {
           "width": 0
          },
          "opacity": 0.3,
          "type": "rect",
          "x0": 0,
          "x1": 5,
          "y0": 0,
          "y1": 100
         },
         {
          "fillcolor": "#388E3C",
          "layer": "below",
          "line": {
           "width": 0
          },
          "opacity": 0.3,
          "type": "rect",
          "x0": 10,
          "x1": 15,
          "y0": 0,
          "y1": 100
         },
         {
          "fillcolor": "#388E3C",
          "layer": "below",
          "line": {
           "width": 0
          },
          "opacity": 0.3,
          "type": "rect",
          "x0": 20,
          "x1": 25,
          "y0": 0,
          "y1": 100
         },
         {
          "fillcolor": "#388E3C",
          "layer": "below",
          "line": {
           "width": 0
          },
          "opacity": 0.3,
          "type": "rect",
          "x0": 30,
          "x1": 35,
          "y0": 0,
          "y1": 100
         },
         {
          "fillcolor": "#388E3C",
          "layer": "below",
          "line": {
           "width": 0
          },
          "opacity": 0.3,
          "type": "rect",
          "x0": 40,
          "x1": 45,
          "y0": 0,
          "y1": 100
         },
         {
          "fillcolor": "#388E3C",
          "layer": "below",
          "line": {
           "width": 0
          },
          "opacity": 0.3,
          "type": "rect",
          "x0": 50,
          "x1": 55,
          "y0": 0,
          "y1": 100
         },
         {
          "fillcolor": "#388E3C",
          "layer": "below",
          "line": {
           "width": 0
          },
          "opacity": 0.3,
          "type": "rect",
          "x0": 60,
          "x1": 65,
          "y0": 0,
          "y1": 100
         },
         {
          "fillcolor": "#388E3C",
          "layer": "below",
          "line": {
           "width": 0
          },
          "opacity": 0.3,
          "type": "rect",
          "x0": 70,
          "x1": 75,
          "y0": 0,
          "y1": 100
         },
         {
          "fillcolor": "#388E3C",
          "layer": "below",
          "line": {
           "width": 0
          },
          "opacity": 0.3,
          "type": "rect",
          "x0": 80,
          "x1": 85,
          "y0": 0,
          "y1": 100
         },
         {
          "fillcolor": "#388E3C",
          "layer": "below",
          "line": {
           "width": 0
          },
          "opacity": 0.3,
          "type": "rect",
          "x0": 90,
          "x1": 95,
          "y0": 0,
          "y1": 100
         }
        ],
        "showlegend": false,
        "template": {
         "data": {
          "bar": [
           {
            "error_x": {
             "color": "#2a3f5f"
            },
            "error_y": {
             "color": "#2a3f5f"
            },
            "marker": {
             "line": {
              "color": "white",
              "width": 0.5
             },
             "pattern": {
              "fillmode": "overlay",
              "size": 10,
              "solidity": 0.2
             }
            },
            "type": "bar"
           }
          ],
          "barpolar": [
           {
            "marker": {
             "line": {
              "color": "white",
              "width": 0.5
             },
             "pattern": {
              "fillmode": "overlay",
              "size": 10,
              "solidity": 0.2
             }
            },
            "type": "barpolar"
           }
          ],
          "carpet": [
           {
            "aaxis": {
             "endlinecolor": "#2a3f5f",
             "gridcolor": "#C8D4E3",
             "linecolor": "#C8D4E3",
             "minorgridcolor": "#C8D4E3",
             "startlinecolor": "#2a3f5f"
            },
            "baxis": {
             "endlinecolor": "#2a3f5f",
             "gridcolor": "#C8D4E3",
             "linecolor": "#C8D4E3",
             "minorgridcolor": "#C8D4E3",
             "startlinecolor": "#2a3f5f"
            },
            "type": "carpet"
           }
          ],
          "choropleth": [
           {
            "colorbar": {
             "outlinewidth": 0,
             "ticks": ""
            },
            "type": "choropleth"
           }
          ],
          "contour": [
           {
            "colorbar": {
             "outlinewidth": 0,
             "ticks": ""
            },
            "colorscale": [
             [
              0,
              "#0d0887"
             ],
             [
              0.1111111111111111,
              "#46039f"
             ],
             [
              0.2222222222222222,
              "#7201a8"
             ],
             [
              0.3333333333333333,
              "#9c179e"
             ],
             [
              0.4444444444444444,
              "#bd3786"
             ],
             [
              0.5555555555555556,
              "#d8576b"
             ],
             [
              0.6666666666666666,
              "#ed7953"
             ],
             [
              0.7777777777777778,
              "#fb9f3a"
             ],
             [
              0.8888888888888888,
              "#fdca26"
             ],
             [
              1,
              "#f0f921"
             ]
            ],
            "type": "contour"
           }
          ],
          "contourcarpet": [
           {
            "colorbar": {
             "outlinewidth": 0,
             "ticks": ""
            },
            "type": "contourcarpet"
           }
          ],
          "heatmap": [
           {
            "colorbar": {
             "outlinewidth": 0,
             "ticks": ""
            },
            "colorscale": [
             [
              0,
              "#0d0887"
             ],
             [
              0.1111111111111111,
              "#46039f"
             ],
             [
              0.2222222222222222,
              "#7201a8"
             ],
             [
              0.3333333333333333,
              "#9c179e"
             ],
             [
              0.4444444444444444,
              "#bd3786"
             ],
             [
              0.5555555555555556,
              "#d8576b"
             ],
             [
              0.6666666666666666,
              "#ed7953"
             ],
             [
              0.7777777777777778,
              "#fb9f3a"
             ],
             [
              0.8888888888888888,
              "#fdca26"
             ],
             [
              1,
              "#f0f921"
             ]
            ],
            "type": "heatmap"
           }
          ],
          "histogram": [
           {
            "marker": {
             "pattern": {
              "fillmode": "overlay",
              "size": 10,
              "solidity": 0.2
             }
            },
            "type": "histogram"
           }
          ],
          "histogram2d": [
           {
            "colorbar": {
             "outlinewidth": 0,
             "ticks": ""
            },
            "colorscale": [
             [
              0,
              "#0d0887"
             ],
             [
              0.1111111111111111,
              "#46039f"
             ],
             [
              0.2222222222222222,
              "#7201a8"
             ],
             [
              0.3333333333333333,
              "#9c179e"
             ],
             [
              0.4444444444444444,
              "#bd3786"
             ],
             [
              0.5555555555555556,
              "#d8576b"
             ],
             [
              0.6666666666666666,
              "#ed7953"
             ],
             [
              0.7777777777777778,
              "#fb9f3a"
             ],
             [
              0.8888888888888888,
              "#fdca26"
             ],
             [
              1,
              "#f0f921"
             ]
            ],
            "type": "histogram2d"
           }
          ],
          "histogram2dcontour": [
           {
            "colorbar": {
             "outlinewidth": 0,
             "ticks": ""
            },
            "colorscale": [
             [
              0,
              "#0d0887"
             ],
             [
              0.1111111111111111,
              "#46039f"
             ],
             [
              0.2222222222222222,
              "#7201a8"
             ],
             [
              0.3333333333333333,
              "#9c179e"
             ],
             [
              0.4444444444444444,
              "#bd3786"
             ],
             [
              0.5555555555555556,
              "#d8576b"
             ],
             [
              0.6666666666666666,
              "#ed7953"
             ],
             [
              0.7777777777777778,
              "#fb9f3a"
             ],
             [
              0.8888888888888888,
              "#fdca26"
             ],
             [
              1,
              "#f0f921"
             ]
            ],
            "type": "histogram2dcontour"
           }
          ],
          "mesh3d": [
           {
            "colorbar": {
             "outlinewidth": 0,
             "ticks": ""
            },
            "type": "mesh3d"
           }
          ],
          "parcoords": [
           {
            "line": {
             "colorbar": {
              "outlinewidth": 0,
              "ticks": ""
             }
            },
            "type": "parcoords"
           }
          ],
          "pie": [
           {
            "automargin": true,
            "type": "pie"
           }
          ],
          "scatter": [
           {
            "fillpattern": {
             "fillmode": "overlay",
             "size": 10,
             "solidity": 0.2
            },
            "type": "scatter"
           }
          ],
          "scatter3d": [
           {
            "line": {
             "colorbar": {
              "outlinewidth": 0,
              "ticks": ""
             }
            },
            "marker": {
             "colorbar": {
              "outlinewidth": 0,
              "ticks": ""
             }
            },
            "type": "scatter3d"
           }
          ],
          "scattercarpet": [
           {
            "marker": {
             "colorbar": {
              "outlinewidth": 0,
              "ticks": ""
             }
            },
            "type": "scattercarpet"
           }
          ],
          "scattergeo": [
           {
            "marker": {
             "colorbar": {
              "outlinewidth": 0,
              "ticks": ""
             }
            },
            "type": "scattergeo"
           }
          ],
          "scattergl": [
           {
            "marker": {
             "colorbar": {
              "outlinewidth": 0,
              "ticks": ""
             }
            },
            "type": "scattergl"
           }
          ],
          "scattermap": [
           {
            "marker": {
             "colorbar": {
              "outlinewidth": 0,
              "ticks": ""
             }
            },
            "type": "scattermap"
           }
          ],
          "scattermapbox": [
           {
            "marker": {
             "colorbar": {
              "outlinewidth": 0,
              "ticks": ""
             }
            },
            "type": "scattermapbox"
           }
          ],
          "scatterpolar": [
           {
            "marker": {
             "colorbar": {
              "outlinewidth": 0,
              "ticks": ""
             }
            },
            "type": "scatterpolar"
           }
          ],
          "scatterpolargl": [
           {
            "marker": {
             "colorbar": {
              "outlinewidth": 0,
              "ticks": ""
             }
            },
            "type": "scatterpolargl"
           }
          ],
          "scatterternary": [
           {
            "marker": {
             "colorbar": {
              "outlinewidth": 0,
              "ticks": ""
             }
            },
            "type": "scatterternary"
           }
          ],
          "surface": [
           {
            "colorbar": {
             "outlinewidth": 0,
             "ticks": ""
            },
            "colorscale": [
             [
              0,
              "#0d0887"
             ],
             [
              0.1111111111111111,
              "#46039f"
             ],
             [
              0.2222222222222222,
              "#7201a8"
             ],
             [
              0.3333333333333333,
              "#9c179e"
             ],
             [
              0.4444444444444444,
              "#bd3786"
             ],
             [
              0.5555555555555556,
              "#d8576b"
             ],
             [
              0.6666666666666666,
              "#ed7953"
             ],
             [
              0.7777777777777778,
              "#fb9f3a"
             ],
             [
              0.8888888888888888,
              "#fdca26"
             ],
             [
              1,
              "#f0f921"
             ]
            ],
            "type": "surface"
           }
          ],
          "table": [
           {
            "cells": {
             "fill": {
              "color": "#EBF0F8"
             },
             "line": {
              "color": "white"
             }
            },
            "header": {
             "fill": {
              "color": "#C8D4E3"
             },
             "line": {
              "color": "white"
             }
            },
            "type": "table"
           }
          ]
         },
         "layout": {
          "annotationdefaults": {
           "arrowcolor": "#2a3f5f",
           "arrowhead": 0,
           "arrowwidth": 1
          },
          "autotypenumbers": "strict",
          "coloraxis": {
           "colorbar": {
            "outlinewidth": 0,
            "ticks": ""
           }
          },
          "colorscale": {
           "diverging": [
            [
             0,
             "#8e0152"
            ],
            [
             0.1,
             "#c51b7d"
            ],
            [
             0.2,
             "#de77ae"
            ],
            [
             0.3,
             "#f1b6da"
            ],
            [
             0.4,
             "#fde0ef"
            ],
            [
             0.5,
             "#f7f7f7"
            ],
            [
             0.6,
             "#e6f5d0"
            ],
            [
             0.7,
             "#b8e186"
            ],
            [
             0.8,
             "#7fbc41"
            ],
            [
             0.9,
             "#4d9221"
            ],
            [
             1,
             "#276419"
            ]
           ],
           "sequential": [
            [
             0,
             "#0d0887"
            ],
            [
             0.1111111111111111,
             "#46039f"
            ],
            [
             0.2222222222222222,
             "#7201a8"
            ],
            [
             0.3333333333333333,
             "#9c179e"
            ],
            [
             0.4444444444444444,
             "#bd3786"
            ],
            [
             0.5555555555555556,
             "#d8576b"
            ],
            [
             0.6666666666666666,
             "#ed7953"
            ],
            [
             0.7777777777777778,
             "#fb9f3a"
            ],
            [
             0.8888888888888888,
             "#fdca26"
            ],
            [
             1,
             "#f0f921"
            ]
           ],
           "sequentialminus": [
            [
             0,
             "#0d0887"
            ],
            [
             0.1111111111111111,
             "#46039f"
            ],
            [
             0.2222222222222222,
             "#7201a8"
            ],
            [
             0.3333333333333333,
             "#9c179e"
            ],
            [
             0.4444444444444444,
             "#bd3786"
            ],
            [
             0.5555555555555556,
             "#d8576b"
            ],
            [
             0.6666666666666666,
             "#ed7953"
            ],
            [
             0.7777777777777778,
             "#fb9f3a"
            ],
            [
             0.8888888888888888,
             "#fdca26"
            ],
            [
             1,
             "#f0f921"
            ]
           ]
          },
          "colorway": [
           "#636efa",
           "#EF553B",
           "#00cc96",
           "#ab63fa",
           "#FFA15A",
           "#19d3f3",
           "#FF6692",
           "#B6E880",
           "#FF97FF",
           "#FECB52"
          ],
          "font": {
           "color": "#2a3f5f"
          },
          "geo": {
           "bgcolor": "white",
           "lakecolor": "white",
           "landcolor": "white",
           "showlakes": true,
           "showland": true,
           "subunitcolor": "#C8D4E3"
          },
          "hoverlabel": {
           "align": "left"
          },
          "hovermode": "closest",
          "mapbox": {
           "style": "light"
          },
          "paper_bgcolor": "white",
          "plot_bgcolor": "white",
          "polar": {
           "angularaxis": {
            "gridcolor": "#EBF0F8",
            "linecolor": "#EBF0F8",
            "ticks": ""
           },
           "bgcolor": "white",
           "radialaxis": {
            "gridcolor": "#EBF0F8",
            "linecolor": "#EBF0F8",
            "ticks": ""
           }
          },
          "scene": {
           "xaxis": {
            "backgroundcolor": "white",
            "gridcolor": "#DFE8F3",
            "gridwidth": 2,
            "linecolor": "#EBF0F8",
            "showbackground": true,
            "ticks": "",
            "zerolinecolor": "#EBF0F8"
           },
           "yaxis": {
            "backgroundcolor": "white",
            "gridcolor": "#DFE8F3",
            "gridwidth": 2,
            "linecolor": "#EBF0F8",
            "showbackground": true,
            "ticks": "",
            "zerolinecolor": "#EBF0F8"
           },
           "zaxis": {
            "backgroundcolor": "white",
            "gridcolor": "#DFE8F3",
            "gridwidth": 2,
            "linecolor": "#EBF0F8",
            "showbackground": true,
            "ticks": "",
            "zerolinecolor": "#EBF0F8"
           }
          },
          "shapedefaults": {
           "line": {
            "color": "#2a3f5f"
           }
          },
          "ternary": {
           "aaxis": {
            "gridcolor": "#DFE8F3",
            "linecolor": "#A2B1C6",
            "ticks": ""
           },
           "baxis": {
            "gridcolor": "#DFE8F3",
            "linecolor": "#A2B1C6",
            "ticks": ""
           },
           "bgcolor": "white",
           "caxis": {
            "gridcolor": "#DFE8F3",
            "linecolor": "#A2B1C6",
            "ticks": ""
           }
          },
          "title": {
           "x": 0.05
          },
          "xaxis": {
           "automargin": true,
           "gridcolor": "#EBF0F8",
           "linecolor": "#EBF0F8",
           "ticks": "",
           "title": {
            "standoff": 15
           },
           "zerolinecolor": "#EBF0F8",
           "zerolinewidth": 2
          },
          "yaxis": {
           "automargin": true,
           "gridcolor": "#EBF0F8",
           "linecolor": "#EBF0F8",
           "ticks": "",
           "title": {
            "standoff": 15
           },
           "zerolinecolor": "#EBF0F8",
           "zerolinewidth": 2
          }
         }
        },
        "title": {
         "font": {
          "color": "white",
          "size": 20
         },
         "text": "<b>Dinamo București - Defensive Vulnerabilities from Set-Pieces</b>",
         "x": 0.5
        },
        "width": 1050,
        "xaxis": {
         "range": [
          -5,
          105
         ],
         "visible": false
        },
        "yaxis": {
         "range": [
          -5,
          105
         ],
         "visible": false
        }
       }
      }
     },
     "metadata": {},
     "output_type": "display_data"
    },
    {
     "name": "stdout",
     "output_type": "stream",
     "text": [
      "✓ Defensive vulnerabilities analyzed:\n",
      "  • Total shots conceded from set-pieces: 90\n",
      "  • Goals conceded from set-pieces: 8\n",
      "  • Total xG conceded: 10.266\n",
      "\n",
      "  Shot locations:\n",
      "  • Inside Six-Yard Box: 12\n",
      "  • Inside Penalty Area (excl. 6-yard box): 45\n",
      "  • Outside Penalty Area: 33\n",
      "\n",
      "--- Analyzing Aerial Duels ---\n"
     ]
    },
    {
     "data": {
      "application/vnd.plotly.v1+json": {
       "config": {
        "plotlyServerURL": "https://plot.ly"
       },
       "data": [
        {
         "hoverinfo": "none",
         "marker": {
          "color": "white",
          "size": 8
         },
         "mode": "markers",
         "type": "scatter",
         "x": [
          50
         ],
         "y": [
          50
         ]
        },
        {
         "hoverinfo": "none",
         "marker": {
          "color": "white",
          "size": 8
         },
         "mode": "markers",
         "type": "scatter",
         "x": [
          11,
          89
         ],
         "y": [
          50,
          50
         ]
        },
        {
         "hoverinfo": "none",
         "line": {
          "color": "white",
          "width": 4
         },
         "mode": "lines",
         "type": "scatter",
         "x": [
          -1,
          -1
         ],
         "y": [
          45.2,
          54.8
         ]
        },
        {
         "hoverinfo": "none",
         "line": {
          "color": "white",
          "width": 4
         },
         "mode": "lines",
         "type": "scatter",
         "x": [
          101,
          101
         ],
         "y": [
          45.2,
          54.8
         ]
        },
        {
         "hoverinfo": "text",
         "marker": {
          "color": "red",
          "line": {
           "width": 2
          },
          "size": 11,
          "symbol": "x"
         },
         "mode": "markers",
         "name": "Lost",
         "text": [
          "Lost by: J. Homawoo",
          "Lost by: R. Opruț",
          "Lost by: A. Roșca",
          "Lost by: J. Homawoo",
          "Lost by: R. Opruț",
          "Lost by: S. Perica",
          "Lost by: A. Marginean",
          "Lost by: C. Cîrjan",
          "Lost by: A. Marginean",
          "Lost by: M. Sivis",
          "Lost by: A. Marginean",
          "Lost by: K. Boateng",
          "Lost by: J. Homawoo",
          "Lost by: K. Boateng",
          "Lost by: A. Marginean",
          "Lost by: S. Perica",
          "Lost by: S. Perica",
          "Lost by: K. Boateng",
          "Lost by: K. Boateng",
          "Lost by: A. Marginean",
          "Lost by: J. Homawoo",
          "Lost by: A. Pop",
          "Lost by: A. Selmani",
          "Lost by: R. Opruț",
          "Lost by: G. Milanov",
          "Lost by: G. Milanov",
          "Lost by: M. Sivis",
          "Lost by: A. Selmani",
          "Lost by: K. Boateng",
          "Lost by: G. Milanov",
          "Lost by: D. Politic",
          "Lost by: A. Marginean",
          "Lost by: P. Olsen",
          "Lost by: A. Selmani",
          "Lost by: P. Olsen",
          "Lost by: R. Patriche",
          "Lost by: Alberto Soro",
          "Lost by: R. Patriche",
          "Lost by: C. Licsandru",
          "Lost by: C. Licsandru",
          "Lost by: A. Marginean",
          "Lost by: R. Patriche",
          "Lost by: A. Golubović",
          "Lost by: R. Patriche",
          "Lost by: A. Golubović",
          "Lost by: J. Homawoo",
          "Lost by: J. Homawoo",
          "Lost by: G. Milanov",
          "Lost by: K. Boateng",
          "Lost by: C. Amzăr"
         ],
         "type": "scatter",
         "x": {
          "bdata": "AAAAAAAAIEAAAAAAAAAgQAAAAAAAAAhAAAAAAAAAKEAAAAAAAABBQAAAAAAAAChAAAAAAAAAQkAAAAAAAABBQAAAAAAAAD9AAAAAAAAAAEAAAAAAAABCQAAAAAAAADZAAAAAAAAAGEAAAAAAAAAUQAAAAAAAABhAAAAAAAAAR0AAAAAAAAAgQAAAAAAAAD1AAAAAAAAAGEAAAAAAAIBCQAAAAAAAADpAAAAAAAAAREAAAAAAAAA7QAAAAAAAACBAAAAAAAAARkAAAAAAAABHQAAAAAAAACZAAAAAAACAQUAAAAAAAABBQAAAAAAAgENAAAAAAAAAFEAAAAAAAAA4QAAAAAAAAABAAAAAAAAANkAAAAAAAAAIQAAAAAAAAEJAAAAAAAAAREAAAAAAAIBDQAAAAAAAABBAAAAAAAAAEEAAAAAAAAAcQAAAAAAAACpAAAAAAAAAFEAAAAAAAAAoQAAAAAAAAChAAAAAAAAAMkAAAAAAAAA6QAAAAAAAADJAAAAAAAAANkAAAAAAAAA2QA==",
          "dtype": "f8"
         },
         "y": {
          "bdata": "AAAAAACAQ0AAAAAAAABPQAAAAAAAgEhAAAAAAAAAS0AAAAAAAAA8QAAAAAAAgENAAAAAAADAVEAAAAAAAEBVQAAAAAAAAFFAAAAAAAAARkAAAAAAAAA8QAAAAAAAQFNAAAAAAACAREAAAAAAAIBFQAAAAAAAgEtAAAAAAACAQEAAAAAAAAA8QAAAAAAAAFJAAAAAAACASUAAAAAAAAA5QAAAAAAAADpAAAAAAAAAMUAAAAAAAABWQAAAAAAAAEZAAAAAAACASkAAAAAAAAA5QAAAAAAAQFFAAAAAAACARkAAAAAAAMBRQAAAAAAAwFVAAAAAAAAATEAAAAAAAABIQAAAAAAAgENAAAAAAAAAREAAAAAAAIBBQAAAAAAAAExAAAAAAACATUAAAAAAAMBRQAAAAAAAAE1AAAAAAAAARkAAAAAAAIBMQAAAAAAAgE9AAAAAAACATEAAAAAAAABDQAAAAAAAAEhAAAAAAAAAQ0AAAAAAAAA3QAAAAAAAgEtAAAAAAABAU0AAAAAAAAAyQA==",
          "dtype": "f8"
         }
        },
        {
         "hoverinfo": "text",
         "marker": {
          "color": "lime",
          "line": {
           "color": "white",
           "width": 0.5
          },
          "opacity": 0.75,
          "size": 9,
          "symbol": "circle"
         },
         "mode": "markers",
         "name": "Won",
         "text": [
          "Won by: Alisson Safira",
          "Won by: D. Barbu",
          "Won by: B. Mitrea",
          "Won by: C. Ignat",
          "Won by: C. Vulturar",
          "Won by: V. Chiricheș",
          "Won by: D. Miculescu",
          "Won by: B. N'Kololo",
          "Won by: M. Ilie",
          "Won by: G. Zajkov",
          "Won by: Alisson Safira",
          "Won by: E. Koljič",
          "Won by: A. Dobre",
          "Won by: B. Burmaz",
          "Won by: D. Bîrligea",
          "Won by: V. Postolachi",
          "Won by: V. Costache",
          "Won by: F. Bejan",
          "Won by: C. Neguţ",
          "Won by: M. Ştefănescu",
          "Won by: J. Dawa",
          "Won by: J. Cisotti",
          "Won by: A. Musi",
          "Won by: D. Miculescu",
          "Won by: I. Cojocaru",
          "Won by: G. Cîmpanu",
          "Won by: P. Matricardi",
          "Won by: Samuel Teles",
          "Won by: João Lameira",
          "Won by: N. Stevanović",
          "Won by: C. Afalna",
          "Won by: I. Coadă",
          "Won by: V. Blănuţă",
          "Won by: Ş. Baiaram",
          "Won by: E. Koljič",
          "Won by: C. Mora",
          "Won by: F. Ilie",
          "Won by: F. Kamberi",
          "Won by: F. Kamberi",
          "Won by: M. Cestor",
          "Won by: M. Coman",
          "Won by: P. Papp",
          "Won by: A. Tudorie",
          "Won by: Marian Huja",
          "Won by: V. Postolachi",
          "Won by: P. Tachtsidis",
          "Won by: V. Postolachi",
          "Won by: V. Postolachi",
          "Won by: João Pedro",
          "Won by: V. Selimović",
          "Won by: S. Buș",
          "Won by: V. Selimović",
          "Won by: V. Găman",
          "Won by: V. Găman",
          "Won by: A. Băluță",
          "Won by: D. Bîrligea",
          "Won by: D. Bîrligea",
          "Won by: A. Şut",
          "Won by: D. Bîrligea",
          "Won by: V. Dican",
          "Won by: Gustavo Marins",
          "Won by: M. Bălașa",
          "Won by: N. Grigoryan",
          "Won by: A. Stoian",
          "Won by: D. Alibec",
          "Won by: H. Ongenda",
          "Won by: E. López",
          "Won by: A. Miron",
          "Won by: E. Florescu",
          "Won by: L. Fülöp",
          "Won by: D. Živulić",
          "Won by: Miguel Silva",
          "Won by: S. Jurić",
          "Won by: M. Adăscăliței",
          "Won by: M. Adăscăliței",
          "Won by: Miguel Silva",
          "Won by: D. Živulić",
          "Won by: J. Gele",
          "Won by: C. Afalna",
          "Won by: V. Raţă",
          "Won by: C. Mora",
          "Won by: A. Ivan",
          "Won by: Ş. Baiaram",
          "Won by: Diogo Mendes",
          "Won by: C. Petrila",
          "Won by: S. Harrison",
          "Won by: A. Dobrosavlevici",
          "Won by: B. Ňinaj",
          "Won by: B. Ňinaj",
          "Won by: M. Kamara",
          "Won by: P. Tachtsidis"
         ],
         "type": "scatter",
         "x": {
          "bdata": "AAAAAAAANUAAAAAAAAAgQAAAAAAAAAhAAAAAAAAAIEAAAAAAAAAIQAAAAAAAABRAAAAAAAAAQ0AAAAAAAABBQAAAAAAAABxAAAAAAAAAKEAAAAAAAABCQAAAAAAAAD1AAAAAAAAAEEAAAAAAAAA/QAAAAAAAAAhAAAAAAAAAQUAAAAAAAAA2QAAAAAAAABhAAAAAAAAAJEAAAAAAAAA8QAAAAAAAACBAAAAAAACAR0AAAAAAAIBBQAAAAAAAABBAAAAAAAAANUAAAAAAAAAgQAAAAAAAAEdAAAAAAACAQkAAAAAAAAAuQAAAAAAAADpAAAAAAAAAQkAAAAAAAAAUQAAAAAAAACJAAAAAAAAAPUAAAAAAAAAiQAAAAAAAABxAAAAAAAAAIEAAAAAAAIBEQAAAAAAAAEdAAAAAAAAAJkAAAAAAAAAmQAAAAAAAABhAAAAAAAAANkAAAAAAAAAgQAAAAAAAAEFAAAAAAAAANUAAAAAAAIBEQAAAAAAAgENAAAAAAAAAPEAAAAAAAAAAQAAAAAAAAENAAAAAAAAAEEAAAAAAAAAIQAAAAAAAAABAAAAAAAAANkAAAAAAAAA6QAAAAAAAgEBAAAAAAAAACEAAAAAAAAAzQAAAAAAAAC5AAAAAAAAAIEAAAAAAAAAcQAAAAAAAgEhAAAAAAAAANEAAAAAAAAAxQAAAAAAAgENAAAAAAAAAEEAAAAAAAAAQQAAAAAAAADlAAAAAAAAAQ0AAAAAAAAAYQAAAAAAAABBAAAAAAAAAOUAAAAAAAAAQQAAAAAAAACpAAAAAAAAA8D8AAAAAAAAUQAAAAAAAACpAAAAAAAAAQUAAAAAAAAA2QAAAAAAAgERAAAAAAAAAKEAAAAAAAAAoQAAAAAAAAEZAAAAAAAAAGEAAAAAAAAA7QAAAAAAAABxAAAAAAAAAFEAAAAAAAAAIQAAAAAAAABhAAAAAAAAANkA=",
          "dtype": "f8"
         },
         "y": {
          "bdata": "AAAAAAAASkAAAAAAAIBDQAAAAAAAgEZAAAAAAAAATUAAAAAAAIBIQAAAAAAAgEhAAAAAAAAAJEAAAAAAAAA8QAAAAAAAgE1AAAAAAACAQ0AAAAAAAMBUQAAAAAAAgFJAAAAAAAAATEAAAAAAAABRQAAAAAAAAEZAAAAAAACAUUAAAAAAAEBTQAAAAAAAgERAAAAAAACATUAAAAAAAAA8QAAAAAAAAD1AAAAAAAAAN0AAAAAAAIBUQAAAAAAAgEVAAAAAAACAQ0AAAAAAAABEQAAAAAAAgEBAAAAAAAAAOUAAAAAAAMBVQAAAAAAAADpAAAAAAAAAJEAAAAAAAIBGQAAAAAAAAEVAAAAAAAAANUAAAAAAAIBOQAAAAAAAAEhAAAAAAAAARkAAAAAAAIBRQAAAAAAAADlAAAAAAABAUUAAAAAAAABMQAAAAAAAAEdAAAAAAAAARkAAAAAAAIBIQAAAAAAAwFFAAAAAAACAQUAAAAAAAEBUQAAAAAAAwFVAAAAAAACAT0AAAAAAAIBDQAAAAAAAgEdAAAAAAACARkAAAAAAAIBKQAAAAAAAAE1AAAAAAAAAREAAAAAAAMBRQAAAAAAAAFBAAAAAAACAQUAAAAAAAAAcQAAAAAAAgEFAAAAAAAAASkAAAAAAAIBLQAAAAAAAADFAAAAAAACAVEAAAAAAAIBMQAAAAAAAwFFAAAAAAAAATUAAAAAAAABGQAAAAAAAACpAAAAAAAAAPUAAAAAAAABIQAAAAAAAAEZAAAAAAACATUAAAAAAAIBFQAAAAAAAAD9AAAAAAACATkAAAAAAAABHQAAAAAAAgE9AAAAAAACAUUAAAAAAAABOQAAAAAAAgFZAAAAAAAAAQ0AAAAAAAABIQAAAAAAAQFFAAAAAAAAAUkAAAAAAAABSQAAAAAAAgFBAAAAAAAAAUEAAAAAAAABMQAAAAAAAgEZAAAAAAAAAMkA=",
          "dtype": "f8"
         }
        }
       ],
       "layout": {
        "height": 700,
        "legend": {
         "bgcolor": "rgba(0,0,0,0.5)",
         "font": {
          "color": "white"
         },
         "orientation": "h",
         "x": 1,
         "xanchor": "right",
         "y": 1.02,
         "yanchor": "bottom"
        },
        "margin": {
         "b": 20,
         "l": 20,
         "r": 20,
         "t": 50
        },
        "plot_bgcolor": "#2E7D32",
        "shapes": [
         {
          "line": {
           "color": "white",
           "width": 2
          },
          "type": "rect",
          "x0": 0,
          "x1": 100,
          "y0": 0,
          "y1": 100
         },
         {
          "line": {
           "color": "white",
           "width": 2
          },
          "type": "line",
          "x0": 50,
          "x1": 50,
          "y0": 0,
          "y1": 100
         },
         {
          "line": {
           "color": "white",
           "width": 2
          },
          "type": "rect",
          "x0": 0,
          "x1": 16.5,
          "y0": 21.1,
          "y1": 78.9
         },
         {
          "line": {
           "color": "white",
           "width": 2
          },
          "type": "rect",
          "x0": 83.5,
          "x1": 100,
          "y0": 21.1,
          "y1": 78.9
         },
         {
          "line": {
           "color": "white",
           "width": 2
          },
          "type": "rect",
          "x0": 0,
          "x1": 5.5,
          "y0": 36.8,
          "y1": 63.2
         },
         {
          "line": {
           "color": "white",
           "width": 2
          },
          "type": "rect",
          "x0": 94.5,
          "x1": 100,
          "y0": 36.8,
          "y1": 63.2
         },
         {
          "line": {
           "color": "white",
           "width": 2
          },
          "type": "circle",
          "x0": 40.85,
          "x1": 59.15,
          "y0": 40.85,
          "y1": 59.15
         },
         {
          "line": {
           "color": "white",
           "width": 2
          },
          "path": "M 16.5,38.7 C 23.5,43.7, 23.5,56.3, 16.5,61.3",
          "type": "path"
         },
         {
          "line": {
           "color": "white",
           "width": 2
          },
          "path": "M 83.5,38.7 C 76.5,43.7, 76.5,56.3, 83.5,61.3",
          "type": "path"
         },
         {
          "line": {
           "color": "white",
           "width": 2
          },
          "path": "M 0,1 A 1,1 0 0,1 1,0",
          "type": "path"
         },
         {
          "line": {
           "color": "white",
           "width": 2
          },
          "path": "M 0,99 A 1,1 0 0,0 1,100",
          "type": "path"
         },
         {
          "line": {
           "color": "white",
           "width": 2
          },
          "path": "M 100,1 A 1,1 0 0,0 99,0",
          "type": "path"
         },
         {
          "line": {
           "color": "white",
           "width": 2
          },
          "path": "M 100,99 A 1,1 0 0,1 99,100",
          "type": "path"
         },
         {
          "fillcolor": "#388E3C",
          "layer": "below",
          "line": {
           "width": 0
          },
          "opacity": 0.3,
          "type": "rect",
          "x0": 0,
          "x1": 5,
          "y0": 0,
          "y1": 100
         },
         {
          "fillcolor": "#388E3C",
          "layer": "below",
          "line": {
           "width": 0
          },
          "opacity": 0.3,
          "type": "rect",
          "x0": 10,
          "x1": 15,
          "y0": 0,
          "y1": 100
         },
         {
          "fillcolor": "#388E3C",
          "layer": "below",
          "line": {
           "width": 0
          },
          "opacity": 0.3,
          "type": "rect",
          "x0": 20,
          "x1": 25,
          "y0": 0,
          "y1": 100
         },
         {
          "fillcolor": "#388E3C",
          "layer": "below",
          "line": {
           "width": 0
          },
          "opacity": 0.3,
          "type": "rect",
          "x0": 30,
          "x1": 35,
          "y0": 0,
          "y1": 100
         },
         {
          "fillcolor": "#388E3C",
          "layer": "below",
          "line": {
           "width": 0
          },
          "opacity": 0.3,
          "type": "rect",
          "x0": 40,
          "x1": 45,
          "y0": 0,
          "y1": 100
         },
         {
          "fillcolor": "#388E3C",
          "layer": "below",
          "line": {
           "width": 0
          },
          "opacity": 0.3,
          "type": "rect",
          "x0": 50,
          "x1": 55,
          "y0": 0,
          "y1": 100
         },
         {
          "fillcolor": "#388E3C",
          "layer": "below",
          "line": {
           "width": 0
          },
          "opacity": 0.3,
          "type": "rect",
          "x0": 60,
          "x1": 65,
          "y0": 0,
          "y1": 100
         },
         {
          "fillcolor": "#388E3C",
          "layer": "below",
          "line": {
           "width": 0
          },
          "opacity": 0.3,
          "type": "rect",
          "x0": 70,
          "x1": 75,
          "y0": 0,
          "y1": 100
         },
         {
          "fillcolor": "#388E3C",
          "layer": "below",
          "line": {
           "width": 0
          },
          "opacity": 0.3,
          "type": "rect",
          "x0": 80,
          "x1": 85,
          "y0": 0,
          "y1": 100
         },
         {
          "fillcolor": "#388E3C",
          "layer": "below",
          "line": {
           "width": 0
          },
          "opacity": 0.3,
          "type": "rect",
          "x0": 90,
          "x1": 95,
          "y0": 0,
          "y1": 100
         }
        ],
        "showlegend": false,
        "template": {
         "data": {
          "bar": [
           {
            "error_x": {
             "color": "#2a3f5f"
            },
            "error_y": {
             "color": "#2a3f5f"
            },
            "marker": {
             "line": {
              "color": "white",
              "width": 0.5
             },
             "pattern": {
              "fillmode": "overlay",
              "size": 10,
              "solidity": 0.2
             }
            },
            "type": "bar"
           }
          ],
          "barpolar": [
           {
            "marker": {
             "line": {
              "color": "white",
              "width": 0.5
             },
             "pattern": {
              "fillmode": "overlay",
              "size": 10,
              "solidity": 0.2
             }
            },
            "type": "barpolar"
           }
          ],
          "carpet": [
           {
            "aaxis": {
             "endlinecolor": "#2a3f5f",
             "gridcolor": "#C8D4E3",
             "linecolor": "#C8D4E3",
             "minorgridcolor": "#C8D4E3",
             "startlinecolor": "#2a3f5f"
            },
            "baxis": {
             "endlinecolor": "#2a3f5f",
             "gridcolor": "#C8D4E3",
             "linecolor": "#C8D4E3",
             "minorgridcolor": "#C8D4E3",
             "startlinecolor": "#2a3f5f"
            },
            "type": "carpet"
           }
          ],
          "choropleth": [
           {
            "colorbar": {
             "outlinewidth": 0,
             "ticks": ""
            },
            "type": "choropleth"
           }
          ],
          "contour": [
           {
            "colorbar": {
             "outlinewidth": 0,
             "ticks": ""
            },
            "colorscale": [
             [
              0,
              "#0d0887"
             ],
             [
              0.1111111111111111,
              "#46039f"
             ],
             [
              0.2222222222222222,
              "#7201a8"
             ],
             [
              0.3333333333333333,
              "#9c179e"
             ],
             [
              0.4444444444444444,
              "#bd3786"
             ],
             [
              0.5555555555555556,
              "#d8576b"
             ],
             [
              0.6666666666666666,
              "#ed7953"
             ],
             [
              0.7777777777777778,
              "#fb9f3a"
             ],
             [
              0.8888888888888888,
              "#fdca26"
             ],
             [
              1,
              "#f0f921"
             ]
            ],
            "type": "contour"
           }
          ],
          "contourcarpet": [
           {
            "colorbar": {
             "outlinewidth": 0,
             "ticks": ""
            },
            "type": "contourcarpet"
           }
          ],
          "heatmap": [
           {
            "colorbar": {
             "outlinewidth": 0,
             "ticks": ""
            },
            "colorscale": [
             [
              0,
              "#0d0887"
             ],
             [
              0.1111111111111111,
              "#46039f"
             ],
             [
              0.2222222222222222,
              "#7201a8"
             ],
             [
              0.3333333333333333,
              "#9c179e"
             ],
             [
              0.4444444444444444,
              "#bd3786"
             ],
             [
              0.5555555555555556,
              "#d8576b"
             ],
             [
              0.6666666666666666,
              "#ed7953"
             ],
             [
              0.7777777777777778,
              "#fb9f3a"
             ],
             [
              0.8888888888888888,
              "#fdca26"
             ],
             [
              1,
              "#f0f921"
             ]
            ],
            "type": "heatmap"
           }
          ],
          "histogram": [
           {
            "marker": {
             "pattern": {
              "fillmode": "overlay",
              "size": 10,
              "solidity": 0.2
             }
            },
            "type": "histogram"
           }
          ],
          "histogram2d": [
           {
            "colorbar": {
             "outlinewidth": 0,
             "ticks": ""
            },
            "colorscale": [
             [
              0,
              "#0d0887"
             ],
             [
              0.1111111111111111,
              "#46039f"
             ],
             [
              0.2222222222222222,
              "#7201a8"
             ],
             [
              0.3333333333333333,
              "#9c179e"
             ],
             [
              0.4444444444444444,
              "#bd3786"
             ],
             [
              0.5555555555555556,
              "#d8576b"
             ],
             [
              0.6666666666666666,
              "#ed7953"
             ],
             [
              0.7777777777777778,
              "#fb9f3a"
             ],
             [
              0.8888888888888888,
              "#fdca26"
             ],
             [
              1,
              "#f0f921"
             ]
            ],
            "type": "histogram2d"
           }
          ],
          "histogram2dcontour": [
           {
            "colorbar": {
             "outlinewidth": 0,
             "ticks": ""
            },
            "colorscale": [
             [
              0,
              "#0d0887"
             ],
             [
              0.1111111111111111,
              "#46039f"
             ],
             [
              0.2222222222222222,
              "#7201a8"
             ],
             [
              0.3333333333333333,
              "#9c179e"
             ],
             [
              0.4444444444444444,
              "#bd3786"
             ],
             [
              0.5555555555555556,
              "#d8576b"
             ],
             [
              0.6666666666666666,
              "#ed7953"
             ],
             [
              0.7777777777777778,
              "#fb9f3a"
             ],
             [
              0.8888888888888888,
              "#fdca26"
             ],
             [
              1,
              "#f0f921"
             ]
            ],
            "type": "histogram2dcontour"
           }
          ],
          "mesh3d": [
           {
            "colorbar": {
             "outlinewidth": 0,
             "ticks": ""
            },
            "type": "mesh3d"
           }
          ],
          "parcoords": [
           {
            "line": {
             "colorbar": {
              "outlinewidth": 0,
              "ticks": ""
             }
            },
            "type": "parcoords"
           }
          ],
          "pie": [
           {
            "automargin": true,
            "type": "pie"
           }
          ],
          "scatter": [
           {
            "fillpattern": {
             "fillmode": "overlay",
             "size": 10,
             "solidity": 0.2
            },
            "type": "scatter"
           }
          ],
          "scatter3d": [
           {
            "line": {
             "colorbar": {
              "outlinewidth": 0,
              "ticks": ""
             }
            },
            "marker": {
             "colorbar": {
              "outlinewidth": 0,
              "ticks": ""
             }
            },
            "type": "scatter3d"
           }
          ],
          "scattercarpet": [
           {
            "marker": {
             "colorbar": {
              "outlinewidth": 0,
              "ticks": ""
             }
            },
            "type": "scattercarpet"
           }
          ],
          "scattergeo": [
           {
            "marker": {
             "colorbar": {
              "outlinewidth": 0,
              "ticks": ""
             }
            },
            "type": "scattergeo"
           }
          ],
          "scattergl": [
           {
            "marker": {
             "colorbar": {
              "outlinewidth": 0,
              "ticks": ""
             }
            },
            "type": "scattergl"
           }
          ],
          "scattermap": [
           {
            "marker": {
             "colorbar": {
              "outlinewidth": 0,
              "ticks": ""
             }
            },
            "type": "scattermap"
           }
          ],
          "scattermapbox": [
           {
            "marker": {
             "colorbar": {
              "outlinewidth": 0,
              "ticks": ""
             }
            },
            "type": "scattermapbox"
           }
          ],
          "scatterpolar": [
           {
            "marker": {
             "colorbar": {
              "outlinewidth": 0,
              "ticks": ""
             }
            },
            "type": "scatterpolar"
           }
          ],
          "scatterpolargl": [
           {
            "marker": {
             "colorbar": {
              "outlinewidth": 0,
              "ticks": ""
             }
            },
            "type": "scatterpolargl"
           }
          ],
          "scatterternary": [
           {
            "marker": {
             "colorbar": {
              "outlinewidth": 0,
              "ticks": ""
             }
            },
            "type": "scatterternary"
           }
          ],
          "surface": [
           {
            "colorbar": {
             "outlinewidth": 0,
             "ticks": ""
            },
            "colorscale": [
             [
              0,
              "#0d0887"
             ],
             [
              0.1111111111111111,
              "#46039f"
             ],
             [
              0.2222222222222222,
              "#7201a8"
             ],
             [
              0.3333333333333333,
              "#9c179e"
             ],
             [
              0.4444444444444444,
              "#bd3786"
             ],
             [
              0.5555555555555556,
              "#d8576b"
             ],
             [
              0.6666666666666666,
              "#ed7953"
             ],
             [
              0.7777777777777778,
              "#fb9f3a"
             ],
             [
              0.8888888888888888,
              "#fdca26"
             ],
             [
              1,
              "#f0f921"
             ]
            ],
            "type": "surface"
           }
          ],
          "table": [
           {
            "cells": {
             "fill": {
              "color": "#EBF0F8"
             },
             "line": {
              "color": "white"
             }
            },
            "header": {
             "fill": {
              "color": "#C8D4E3"
             },
             "line": {
              "color": "white"
             }
            },
            "type": "table"
           }
          ]
         },
         "layout": {
          "annotationdefaults": {
           "arrowcolor": "#2a3f5f",
           "arrowhead": 0,
           "arrowwidth": 1
          },
          "autotypenumbers": "strict",
          "coloraxis": {
           "colorbar": {
            "outlinewidth": 0,
            "ticks": ""
           }
          },
          "colorscale": {
           "diverging": [
            [
             0,
             "#8e0152"
            ],
            [
             0.1,
             "#c51b7d"
            ],
            [
             0.2,
             "#de77ae"
            ],
            [
             0.3,
             "#f1b6da"
            ],
            [
             0.4,
             "#fde0ef"
            ],
            [
             0.5,
             "#f7f7f7"
            ],
            [
             0.6,
             "#e6f5d0"
            ],
            [
             0.7,
             "#b8e186"
            ],
            [
             0.8,
             "#7fbc41"
            ],
            [
             0.9,
             "#4d9221"
            ],
            [
             1,
             "#276419"
            ]
           ],
           "sequential": [
            [
             0,
             "#0d0887"
            ],
            [
             0.1111111111111111,
             "#46039f"
            ],
            [
             0.2222222222222222,
             "#7201a8"
            ],
            [
             0.3333333333333333,
             "#9c179e"
            ],
            [
             0.4444444444444444,
             "#bd3786"
            ],
            [
             0.5555555555555556,
             "#d8576b"
            ],
            [
             0.6666666666666666,
             "#ed7953"
            ],
            [
             0.7777777777777778,
             "#fb9f3a"
            ],
            [
             0.8888888888888888,
             "#fdca26"
            ],
            [
             1,
             "#f0f921"
            ]
           ],
           "sequentialminus": [
            [
             0,
             "#0d0887"
            ],
            [
             0.1111111111111111,
             "#46039f"
            ],
            [
             0.2222222222222222,
             "#7201a8"
            ],
            [
             0.3333333333333333,
             "#9c179e"
            ],
            [
             0.4444444444444444,
             "#bd3786"
            ],
            [
             0.5555555555555556,
             "#d8576b"
            ],
            [
             0.6666666666666666,
             "#ed7953"
            ],
            [
             0.7777777777777778,
             "#fb9f3a"
            ],
            [
             0.8888888888888888,
             "#fdca26"
            ],
            [
             1,
             "#f0f921"
            ]
           ]
          },
          "colorway": [
           "#636efa",
           "#EF553B",
           "#00cc96",
           "#ab63fa",
           "#FFA15A",
           "#19d3f3",
           "#FF6692",
           "#B6E880",
           "#FF97FF",
           "#FECB52"
          ],
          "font": {
           "color": "#2a3f5f"
          },
          "geo": {
           "bgcolor": "white",
           "lakecolor": "white",
           "landcolor": "white",
           "showlakes": true,
           "showland": true,
           "subunitcolor": "#C8D4E3"
          },
          "hoverlabel": {
           "align": "left"
          },
          "hovermode": "closest",
          "mapbox": {
           "style": "light"
          },
          "paper_bgcolor": "white",
          "plot_bgcolor": "white",
          "polar": {
           "angularaxis": {
            "gridcolor": "#EBF0F8",
            "linecolor": "#EBF0F8",
            "ticks": ""
           },
           "bgcolor": "white",
           "radialaxis": {
            "gridcolor": "#EBF0F8",
            "linecolor": "#EBF0F8",
            "ticks": ""
           }
          },
          "scene": {
           "xaxis": {
            "backgroundcolor": "white",
            "gridcolor": "#DFE8F3",
            "gridwidth": 2,
            "linecolor": "#EBF0F8",
            "showbackground": true,
            "ticks": "",
            "zerolinecolor": "#EBF0F8"
           },
           "yaxis": {
            "backgroundcolor": "white",
            "gridcolor": "#DFE8F3",
            "gridwidth": 2,
            "linecolor": "#EBF0F8",
            "showbackground": true,
            "ticks": "",
            "zerolinecolor": "#EBF0F8"
           },
           "zaxis": {
            "backgroundcolor": "white",
            "gridcolor": "#DFE8F3",
            "gridwidth": 2,
            "linecolor": "#EBF0F8",
            "showbackground": true,
            "ticks": "",
            "zerolinecolor": "#EBF0F8"
           }
          },
          "shapedefaults": {
           "line": {
            "color": "#2a3f5f"
           }
          },
          "ternary": {
           "aaxis": {
            "gridcolor": "#DFE8F3",
            "linecolor": "#A2B1C6",
            "ticks": ""
           },
           "baxis": {
            "gridcolor": "#DFE8F3",
            "linecolor": "#A2B1C6",
            "ticks": ""
           },
           "bgcolor": "white",
           "caxis": {
            "gridcolor": "#DFE8F3",
            "linecolor": "#A2B1C6",
            "ticks": ""
           }
          },
          "title": {
           "x": 0.05
          },
          "xaxis": {
           "automargin": true,
           "gridcolor": "#EBF0F8",
           "linecolor": "#EBF0F8",
           "ticks": "",
           "title": {
            "standoff": 15
           },
           "zerolinecolor": "#EBF0F8",
           "zerolinewidth": 2
          },
          "yaxis": {
           "automargin": true,
           "gridcolor": "#EBF0F8",
           "linecolor": "#EBF0F8",
           "ticks": "",
           "title": {
            "standoff": 15
           },
           "zerolinecolor": "#EBF0F8",
           "zerolinewidth": 2
          }
         }
        },
        "title": {
         "font": {
          "color": "white",
          "size": 20
         },
         "text": "<b>Defensive Aerial Duels (Normalized)</b> — Total: 141 | Won: 91 | Lost: 50",
         "x": 0.5
        },
        "width": 1050,
        "xaxis": {
         "range": [
          -5,
          105
         ],
         "visible": false
        },
        "yaxis": {
         "range": [
          -5,
          105
         ],
         "visible": false
        }
       }
      }
     },
     "metadata": {},
     "output_type": "display_data"
    },
    {
     "name": "stdout",
     "output_type": "stream",
     "text": [
      "✓ Aerial duel analysis completed.\n",
      "  • Total decisive aerial duels considered: 141\n",
      "  • Duels Won: 91 (64.5%)\n",
      "  • Duels Lost: 50 (35.5%)\n",
      "\n",
      "🥊 Players most often losing aerial duels (defensive set-pieces):\n",
      "  1. A. Marginean: 7\n",
      "  2. J. Homawoo: 6\n",
      "  3. K. Boateng: 6\n",
      "  4. R. Patriche: 4\n",
      "  5. G. Milanov: 4\n",
      "\n",
      "--- Analyzing Second Ball Reaction ---\n",
      "✓ Second ball reaction analysis completed:\n",
      "  • Average time to recovery: 10.0 seconds\n",
      "  • Recovery events analyzed: 535\n",
      "  • Fast recovery (≤10s): 324 (60.6%)\n",
      "  • Medium recovery (11-20s): 123 (23.0%)\n",
      "  • Slow recovery (>20s): 88 (16.4%)\n",
      "✓ Second ball reaction analysis completed:\n",
      "  • Average time to recovery: 10.0 seconds\n",
      "  • Recovery events analyzed: 535\n",
      "  • Fast recovery (≤10s): 324 (60.6%)\n",
      "  • Medium recovery (11-20s): 123 (23.0%)\n",
      "  • Slow recovery (>20s): 88 (16.4%)\n"
     ]
    },
    {
     "data": {
      "application/vnd.plotly.v1+json": {
       "config": {
        "plotlyServerURL": "https://plot.ly"
       },
       "data": [
        {
         "marker": {
          "color": [
           "green",
           "yellow",
           "red"
          ],
          "line": {
           "color": "black",
           "width": 2
          }
         },
         "text": [
          "324",
          "123",
          "88"
         ],
         "textfont": {
          "color": "black",
          "size": 14
         },
         "textposition": "auto",
         "type": "bar",
         "x": [
          "Fast (≤10s)",
          "Medium (11-20s)",
          "Slow (>20s)"
         ],
         "y": [
          324,
          123,
          88
         ]
        }
       ],
       "layout": {
        "height": 500,
        "showlegend": false,
        "template": {
         "data": {
          "bar": [
           {
            "error_x": {
             "color": "#2a3f5f"
            },
            "error_y": {
             "color": "#2a3f5f"
            },
            "marker": {
             "line": {
              "color": "white",
              "width": 0.5
             },
             "pattern": {
              "fillmode": "overlay",
              "size": 10,
              "solidity": 0.2
             }
            },
            "type": "bar"
           }
          ],
          "barpolar": [
           {
            "marker": {
             "line": {
              "color": "white",
              "width": 0.5
             },
             "pattern": {
              "fillmode": "overlay",
              "size": 10,
              "solidity": 0.2
             }
            },
            "type": "barpolar"
           }
          ],
          "carpet": [
           {
            "aaxis": {
             "endlinecolor": "#2a3f5f",
             "gridcolor": "#C8D4E3",
             "linecolor": "#C8D4E3",
             "minorgridcolor": "#C8D4E3",
             "startlinecolor": "#2a3f5f"
            },
            "baxis": {
             "endlinecolor": "#2a3f5f",
             "gridcolor": "#C8D4E3",
             "linecolor": "#C8D4E3",
             "minorgridcolor": "#C8D4E3",
             "startlinecolor": "#2a3f5f"
            },
            "type": "carpet"
           }
          ],
          "choropleth": [
           {
            "colorbar": {
             "outlinewidth": 0,
             "ticks": ""
            },
            "type": "choropleth"
           }
          ],
          "contour": [
           {
            "colorbar": {
             "outlinewidth": 0,
             "ticks": ""
            },
            "colorscale": [
             [
              0,
              "#0d0887"
             ],
             [
              0.1111111111111111,
              "#46039f"
             ],
             [
              0.2222222222222222,
              "#7201a8"
             ],
             [
              0.3333333333333333,
              "#9c179e"
             ],
             [
              0.4444444444444444,
              "#bd3786"
             ],
             [
              0.5555555555555556,
              "#d8576b"
             ],
             [
              0.6666666666666666,
              "#ed7953"
             ],
             [
              0.7777777777777778,
              "#fb9f3a"
             ],
             [
              0.8888888888888888,
              "#fdca26"
             ],
             [
              1,
              "#f0f921"
             ]
            ],
            "type": "contour"
           }
          ],
          "contourcarpet": [
           {
            "colorbar": {
             "outlinewidth": 0,
             "ticks": ""
            },
            "type": "contourcarpet"
           }
          ],
          "heatmap": [
           {
            "colorbar": {
             "outlinewidth": 0,
             "ticks": ""
            },
            "colorscale": [
             [
              0,
              "#0d0887"
             ],
             [
              0.1111111111111111,
              "#46039f"
             ],
             [
              0.2222222222222222,
              "#7201a8"
             ],
             [
              0.3333333333333333,
              "#9c179e"
             ],
             [
              0.4444444444444444,
              "#bd3786"
             ],
             [
              0.5555555555555556,
              "#d8576b"
             ],
             [
              0.6666666666666666,
              "#ed7953"
             ],
             [
              0.7777777777777778,
              "#fb9f3a"
             ],
             [
              0.8888888888888888,
              "#fdca26"
             ],
             [
              1,
              "#f0f921"
             ]
            ],
            "type": "heatmap"
           }
          ],
          "histogram": [
           {
            "marker": {
             "pattern": {
              "fillmode": "overlay",
              "size": 10,
              "solidity": 0.2
             }
            },
            "type": "histogram"
           }
          ],
          "histogram2d": [
           {
            "colorbar": {
             "outlinewidth": 0,
             "ticks": ""
            },
            "colorscale": [
             [
              0,
              "#0d0887"
             ],
             [
              0.1111111111111111,
              "#46039f"
             ],
             [
              0.2222222222222222,
              "#7201a8"
             ],
             [
              0.3333333333333333,
              "#9c179e"
             ],
             [
              0.4444444444444444,
              "#bd3786"
             ],
             [
              0.5555555555555556,
              "#d8576b"
             ],
             [
              0.6666666666666666,
              "#ed7953"
             ],
             [
              0.7777777777777778,
              "#fb9f3a"
             ],
             [
              0.8888888888888888,
              "#fdca26"
             ],
             [
              1,
              "#f0f921"
             ]
            ],
            "type": "histogram2d"
           }
          ],
          "histogram2dcontour": [
           {
            "colorbar": {
             "outlinewidth": 0,
             "ticks": ""
            },
            "colorscale": [
             [
              0,
              "#0d0887"
             ],
             [
              0.1111111111111111,
              "#46039f"
             ],
             [
              0.2222222222222222,
              "#7201a8"
             ],
             [
              0.3333333333333333,
              "#9c179e"
             ],
             [
              0.4444444444444444,
              "#bd3786"
             ],
             [
              0.5555555555555556,
              "#d8576b"
             ],
             [
              0.6666666666666666,
              "#ed7953"
             ],
             [
              0.7777777777777778,
              "#fb9f3a"
             ],
             [
              0.8888888888888888,
              "#fdca26"
             ],
             [
              1,
              "#f0f921"
             ]
            ],
            "type": "histogram2dcontour"
           }
          ],
          "mesh3d": [
           {
            "colorbar": {
             "outlinewidth": 0,
             "ticks": ""
            },
            "type": "mesh3d"
           }
          ],
          "parcoords": [
           {
            "line": {
             "colorbar": {
              "outlinewidth": 0,
              "ticks": ""
             }
            },
            "type": "parcoords"
           }
          ],
          "pie": [
           {
            "automargin": true,
            "type": "pie"
           }
          ],
          "scatter": [
           {
            "fillpattern": {
             "fillmode": "overlay",
             "size": 10,
             "solidity": 0.2
            },
            "type": "scatter"
           }
          ],
          "scatter3d": [
           {
            "line": {
             "colorbar": {
              "outlinewidth": 0,
              "ticks": ""
             }
            },
            "marker": {
             "colorbar": {
              "outlinewidth": 0,
              "ticks": ""
             }
            },
            "type": "scatter3d"
           }
          ],
          "scattercarpet": [
           {
            "marker": {
             "colorbar": {
              "outlinewidth": 0,
              "ticks": ""
             }
            },
            "type": "scattercarpet"
           }
          ],
          "scattergeo": [
           {
            "marker": {
             "colorbar": {
              "outlinewidth": 0,
              "ticks": ""
             }
            },
            "type": "scattergeo"
           }
          ],
          "scattergl": [
           {
            "marker": {
             "colorbar": {
              "outlinewidth": 0,
              "ticks": ""
             }
            },
            "type": "scattergl"
           }
          ],
          "scattermap": [
           {
            "marker": {
             "colorbar": {
              "outlinewidth": 0,
              "ticks": ""
             }
            },
            "type": "scattermap"
           }
          ],
          "scattermapbox": [
           {
            "marker": {
             "colorbar": {
              "outlinewidth": 0,
              "ticks": ""
             }
            },
            "type": "scattermapbox"
           }
          ],
          "scatterpolar": [
           {
            "marker": {
             "colorbar": {
              "outlinewidth": 0,
              "ticks": ""
             }
            },
            "type": "scatterpolar"
           }
          ],
          "scatterpolargl": [
           {
            "marker": {
             "colorbar": {
              "outlinewidth": 0,
              "ticks": ""
             }
            },
            "type": "scatterpolargl"
           }
          ],
          "scatterternary": [
           {
            "marker": {
             "colorbar": {
              "outlinewidth": 0,
              "ticks": ""
             }
            },
            "type": "scatterternary"
           }
          ],
          "surface": [
           {
            "colorbar": {
             "outlinewidth": 0,
             "ticks": ""
            },
            "colorscale": [
             [
              0,
              "#0d0887"
             ],
             [
              0.1111111111111111,
              "#46039f"
             ],
             [
              0.2222222222222222,
              "#7201a8"
             ],
             [
              0.3333333333333333,
              "#9c179e"
             ],
             [
              0.4444444444444444,
              "#bd3786"
             ],
             [
              0.5555555555555556,
              "#d8576b"
             ],
             [
              0.6666666666666666,
              "#ed7953"
             ],
             [
              0.7777777777777778,
              "#fb9f3a"
             ],
             [
              0.8888888888888888,
              "#fdca26"
             ],
             [
              1,
              "#f0f921"
             ]
            ],
            "type": "surface"
           }
          ],
          "table": [
           {
            "cells": {
             "fill": {
              "color": "#EBF0F8"
             },
             "line": {
              "color": "white"
             }
            },
            "header": {
             "fill": {
              "color": "#C8D4E3"
             },
             "line": {
              "color": "white"
             }
            },
            "type": "table"
           }
          ]
         },
         "layout": {
          "annotationdefaults": {
           "arrowcolor": "#2a3f5f",
           "arrowhead": 0,
           "arrowwidth": 1
          },
          "autotypenumbers": "strict",
          "coloraxis": {
           "colorbar": {
            "outlinewidth": 0,
            "ticks": ""
           }
          },
          "colorscale": {
           "diverging": [
            [
             0,
             "#8e0152"
            ],
            [
             0.1,
             "#c51b7d"
            ],
            [
             0.2,
             "#de77ae"
            ],
            [
             0.3,
             "#f1b6da"
            ],
            [
             0.4,
             "#fde0ef"
            ],
            [
             0.5,
             "#f7f7f7"
            ],
            [
             0.6,
             "#e6f5d0"
            ],
            [
             0.7,
             "#b8e186"
            ],
            [
             0.8,
             "#7fbc41"
            ],
            [
             0.9,
             "#4d9221"
            ],
            [
             1,
             "#276419"
            ]
           ],
           "sequential": [
            [
             0,
             "#0d0887"
            ],
            [
             0.1111111111111111,
             "#46039f"
            ],
            [
             0.2222222222222222,
             "#7201a8"
            ],
            [
             0.3333333333333333,
             "#9c179e"
            ],
            [
             0.4444444444444444,
             "#bd3786"
            ],
            [
             0.5555555555555556,
             "#d8576b"
            ],
            [
             0.6666666666666666,
             "#ed7953"
            ],
            [
             0.7777777777777778,
             "#fb9f3a"
            ],
            [
             0.8888888888888888,
             "#fdca26"
            ],
            [
             1,
             "#f0f921"
            ]
           ],
           "sequentialminus": [
            [
             0,
             "#0d0887"
            ],
            [
             0.1111111111111111,
             "#46039f"
            ],
            [
             0.2222222222222222,
             "#7201a8"
            ],
            [
             0.3333333333333333,
             "#9c179e"
            ],
            [
             0.4444444444444444,
             "#bd3786"
            ],
            [
             0.5555555555555556,
             "#d8576b"
            ],
            [
             0.6666666666666666,
             "#ed7953"
            ],
            [
             0.7777777777777778,
             "#fb9f3a"
            ],
            [
             0.8888888888888888,
             "#fdca26"
            ],
            [
             1,
             "#f0f921"
            ]
           ]
          },
          "colorway": [
           "#636efa",
           "#EF553B",
           "#00cc96",
           "#ab63fa",
           "#FFA15A",
           "#19d3f3",
           "#FF6692",
           "#B6E880",
           "#FF97FF",
           "#FECB52"
          ],
          "font": {
           "color": "#2a3f5f"
          },
          "geo": {
           "bgcolor": "white",
           "lakecolor": "white",
           "landcolor": "white",
           "showlakes": true,
           "showland": true,
           "subunitcolor": "#C8D4E3"
          },
          "hoverlabel": {
           "align": "left"
          },
          "hovermode": "closest",
          "mapbox": {
           "style": "light"
          },
          "paper_bgcolor": "white",
          "plot_bgcolor": "white",
          "polar": {
           "angularaxis": {
            "gridcolor": "#EBF0F8",
            "linecolor": "#EBF0F8",
            "ticks": ""
           },
           "bgcolor": "white",
           "radialaxis": {
            "gridcolor": "#EBF0F8",
            "linecolor": "#EBF0F8",
            "ticks": ""
           }
          },
          "scene": {
           "xaxis": {
            "backgroundcolor": "white",
            "gridcolor": "#DFE8F3",
            "gridwidth": 2,
            "linecolor": "#EBF0F8",
            "showbackground": true,
            "ticks": "",
            "zerolinecolor": "#EBF0F8"
           },
           "yaxis": {
            "backgroundcolor": "white",
            "gridcolor": "#DFE8F3",
            "gridwidth": 2,
            "linecolor": "#EBF0F8",
            "showbackground": true,
            "ticks": "",
            "zerolinecolor": "#EBF0F8"
           },
           "zaxis": {
            "backgroundcolor": "white",
            "gridcolor": "#DFE8F3",
            "gridwidth": 2,
            "linecolor": "#EBF0F8",
            "showbackground": true,
            "ticks": "",
            "zerolinecolor": "#EBF0F8"
           }
          },
          "shapedefaults": {
           "line": {
            "color": "#2a3f5f"
           }
          },
          "ternary": {
           "aaxis": {
            "gridcolor": "#DFE8F3",
            "linecolor": "#A2B1C6",
            "ticks": ""
           },
           "baxis": {
            "gridcolor": "#DFE8F3",
            "linecolor": "#A2B1C6",
            "ticks": ""
           },
           "bgcolor": "white",
           "caxis": {
            "gridcolor": "#DFE8F3",
            "linecolor": "#A2B1C6",
            "ticks": ""
           }
          },
          "title": {
           "x": 0.05
          },
          "xaxis": {
           "automargin": true,
           "gridcolor": "#EBF0F8",
           "linecolor": "#EBF0F8",
           "ticks": "",
           "title": {
            "standoff": 15
           },
           "zerolinecolor": "#EBF0F8",
           "zerolinewidth": 2
          },
          "yaxis": {
           "automargin": true,
           "gridcolor": "#EBF0F8",
           "linecolor": "#EBF0F8",
           "ticks": "",
           "title": {
            "standoff": 15
           },
           "zerolinecolor": "#EBF0F8",
           "zerolinewidth": 2
          }
         }
        },
        "title": {
         "text": "Second Ball Recovery Speed Analysis",
         "x": 0.5
        },
        "xaxis": {
         "title": {
          "text": "Recovery Speed"
         }
        },
        "yaxis": {
         "title": {
          "text": "Number of Recoveries"
         }
        }
       }
      }
     },
     "metadata": {},
     "output_type": "display_data"
    },
    {
     "name": "stdout",
     "output_type": "stream",
     "text": [
      "\n",
      "============================================================\n",
      "🎯 ANALYSIS COMPLETE - PROFESSIONAL REPORT READY\n",
      "============================================================\n",
      "✓ All visualizations have been saved as interactive HTML files.\n",
      "✓ Comprehensive set-piece analysis completed.\n",
      "✓ Professional football pitch visualizations generated.\n",
      "✓ Data-driven insights ready for coaching staff review.\n"
     ]
    }
   ],
   "source": [
    "print(\"🏆 DINAMO BUCUREȘTI SET-PIECE TACTICAL ANALYSIS\")\n",
    "print(\"=\" * 60)\n",
    "print(\"Analyzing set-piece strategies for the 2024/25 season...\")\n",
    "print(\"=\" * 60)\n",
    "\n",
    "# Step 1: Data Preparation\n",
    "df = load_and_prepare_data()\n",
    "if df is None:\n",
    "    raise RuntimeError(\"Data loading failed.\")\n",
    "\n",
    "set_piece_events = filter_set_pieces(df)\n",
    "set_piece_events = clean_set_piece_data(set_piece_events)\n",
    "\n",
    "# Step 2: Offensive Analysis\n",
    "print(\"\\n\" + \"=\"*60)\n",
    "dinamo_attacking = analyze_offensive_set_pieces(set_piece_events)\n",
    "if not dinamo_attacking.empty:\n",
    "    identify_main_takers(dinamo_attacking)\n",
    "    analyze_delivery_zones(dinamo_attacking)\n",
    "    detect_attacking_patterns(dinamo_attacking)\n",
    "    identify_dangerous_players(dinamo_attacking)\n",
    "else:\n",
    "    print(\"No attacking set-pieces for Dinamo to analyze.\")\n",
    "\n",
    "# Step 3: Defensive Analysis\n",
    "print(\"\\n\" + \"=\"*60)\n",
    "dinamo_defending = analyze_defensive_set_pieces(set_piece_events)\n",
    "if not dinamo_defending.empty:\n",
    "    analyze_defensive_vulnerabilities(dinamo_defending, df)\n",
    "    analyze_aerial_duels(dinamo_defending, df)\n",
    "    analyze_second_ball_reaction(dinamo_defending, df)\n",
    "else:\n",
    "    print(\"No defending set-pieces for Dinamo to analyze.\")\n",
    "\n",
    "print(\"\\n\" + \"=\"*60)\n",
    "print(\"🎯 ANALYSIS COMPLETE - PROFESSIONAL REPORT READY\")\n",
    "print(\"=\"*60)\n",
    "print(\"✓ All visualizations have been saved as interactive HTML files.\")\n",
    "print(\"✓ Comprehensive set-piece analysis completed.\")\n",
    "print(\"✓ Professional football pitch visualizations generated.\")\n",
    "print(\"✓ Data-driven insights ready for coaching staff review.\")"
   ]
  }
 ],
 "metadata": {
  "kernelspec": {
   "display_name": "data_science_env",
   "language": "python",
   "name": "python3"
  },
  "language_info": {
   "codemirror_mode": {
    "name": "ipython",
    "version": 3
   },
   "file_extension": ".py",
   "mimetype": "text/x-python",
   "name": "python",
   "nbconvert_exporter": "python",
   "pygments_lexer": "ipython3",
   "version": "3.11.13"
  }
 },
 "nbformat": 4,
 "nbformat_minor": 5
}
